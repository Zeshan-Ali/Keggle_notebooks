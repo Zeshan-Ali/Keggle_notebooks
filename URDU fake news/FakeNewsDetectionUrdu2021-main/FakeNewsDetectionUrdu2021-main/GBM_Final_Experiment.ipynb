{
 "cells": [
  {
   "cell_type": "markdown",
   "metadata": {
    "id": "gjBmG-r9T5PK"
   },
   "source": [
    "## Library Imports"
   ]
  },
  {
   "cell_type": "code",
   "execution_count": 14,
   "metadata": {
    "id": "Z4XXLyGyT5PN"
   },
   "outputs": [],
   "source": [
    "import math\n",
    "from nltk.corpus import wordnet\n",
    "import pandas as pd\n",
    "import numpy as np\n",
    "from sklearn.metrics import roc_auc_score\n",
    "from sklearn.feature_extraction.text import CountVectorizer\n",
    "from sklearn import metrics\n",
    "from sklearn.metrics import precision_recall_fscore_support\n",
    "from sklearn.svm import SVC\n",
    "import matplotlib.pyplot as plt\n",
    "\n",
    "from sklearn.metrics import confusion_matrix, ConfusionMatrixDisplay\n",
    "from sklearn.ensemble import AdaBoostClassifier\n",
    "import itertools\n",
    "\n",
    "from sklearn.utils import shuffle\n",
    "\n"
   ]
  },
  {
   "cell_type": "markdown",
   "metadata": {
    "id": "-TrgUQiWT5PO"
   },
   "source": [
    "## **Import Dataset**"
   ]
  },
  {
   "cell_type": "code",
   "execution_count": 4,
   "metadata": {
    "id": "obwQfrvoT5PP"
   },
   "outputs": [],
   "source": [
    "train = pd.read_csv(\"training.csv\")\n",
    "test = pd.read_csv(\"testing.csv\")"
   ]
  },
  {
   "cell_type": "markdown",
   "metadata": {
    "id": "_76YI_dTT5PP"
   },
   "source": [
    "## Seprate Train X and Train Y from training data"
   ]
  },
  {
   "cell_type": "code",
   "execution_count": 5,
   "metadata": {
    "colab": {
     "base_uri": "https://localhost:8080/",
     "height": 221
    },
    "executionInfo": {
     "elapsed": 320,
     "status": "ok",
     "timestamp": 1632314688691,
     "user": {
      "displayName": "Hammad Akram",
      "photoUrl": "https://lh3.googleusercontent.com/a-/AOh14GjcEwmvD8yrytu1rkd0MRGmAegQkhsRdwrnUeXwOg=s64",
      "userId": "13568865556910960527"
     },
     "user_tz": -300
    },
    "id": "zuYkCmnDT5PP",
    "outputId": "efbd9ba2-ee26-4761-8f1c-4a60db867089"
   },
   "outputs": [
    {
     "name": "stdout",
     "output_type": "stream",
     "text": [
      "(1300, 3)\n"
     ]
    },
    {
     "data": {
      "text/html": [
       "<div>\n",
       "<style scoped>\n",
       "    .dataframe tbody tr th:only-of-type {\n",
       "        vertical-align: middle;\n",
       "    }\n",
       "\n",
       "    .dataframe tbody tr th {\n",
       "        vertical-align: top;\n",
       "    }\n",
       "\n",
       "    .dataframe thead th {\n",
       "        text-align: right;\n",
       "    }\n",
       "</style>\n",
       "<table border=\"1\" class=\"dataframe\">\n",
       "  <thead>\n",
       "    <tr style=\"text-align: right;\">\n",
       "      <th></th>\n",
       "      <th>index</th>\n",
       "      <th>text</th>\n",
       "      <th>label</th>\n",
       "    </tr>\n",
       "  </thead>\n",
       "  <tbody>\n",
       "    <tr>\n",
       "      <th>0</th>\n",
       "      <td>0</td>\n",
       "      <td>وسکانسن (ویب ڈیسک )  قارئین کے لیے یہ بات بہت...</td>\n",
       "      <td>1</td>\n",
       "    </tr>\n",
       "    <tr>\n",
       "      <th>1</th>\n",
       "      <td>1</td>\n",
       "      <td>\\n\\nریو ڈی جنیریو اب ماہرین نے ورزش کی ایک اور...</td>\n",
       "      <td>1</td>\n",
       "    </tr>\n",
       "    <tr>\n",
       "      <th>2</th>\n",
       "      <td>2</td>\n",
       "      <td>سعودی عرب نے پاکستان کو مزید مشکل میں ڈال دیا ...</td>\n",
       "      <td>1</td>\n",
       "    </tr>\n",
       "    <tr>\n",
       "      <th>3</th>\n",
       "      <td>3</td>\n",
       "      <td>آطف اسلم غصے میں کیا کر بیٹھے\\nکراچی گلوکار عا...</td>\n",
       "      <td>1</td>\n",
       "    </tr>\n",
       "    <tr>\n",
       "      <th>4</th>\n",
       "      <td>4</td>\n",
       "      <td>\\nگاڑی کی ٹکر سے ایک شخص کی ہلاکت پر بھارتی کر...</td>\n",
       "      <td>1</td>\n",
       "    </tr>\n",
       "  </tbody>\n",
       "</table>\n",
       "</div>"
      ],
      "text/plain": [
       "   index                                               text  label\n",
       "0      0   وسکانسن (ویب ڈیسک )  قارئین کے لیے یہ بات بہت...      1\n",
       "1      1  \\n\\nریو ڈی جنیریو اب ماہرین نے ورزش کی ایک اور...      1\n",
       "2      2  سعودی عرب نے پاکستان کو مزید مشکل میں ڈال دیا ...      1\n",
       "3      3  آطف اسلم غصے میں کیا کر بیٹھے\\nکراچی گلوکار عا...      1\n",
       "4      4  \\nگاڑی کی ٹکر سے ایک شخص کی ہلاکت پر بھارتی کر...      1"
      ]
     },
     "execution_count": 5,
     "metadata": {},
     "output_type": "execute_result"
    }
   ],
   "source": [
    "trainX = np.array(train['text'])\n",
    "trainY = np.array(train['label'])\n",
    "print(train.shape)\n",
    "train.head()"
   ]
  },
  {
   "cell_type": "markdown",
   "metadata": {
    "id": "i7II-HpFT5PQ"
   },
   "source": [
    "## Seprate Test X and Test Y from test data"
   ]
  },
  {
   "cell_type": "code",
   "execution_count": 6,
   "metadata": {
    "id": "SFCirtuYT5PR"
   },
   "outputs": [],
   "source": [
    "testX = np.array(test['text'])\n",
    "#testY = np.array(train['label'])"
   ]
  },
  {
   "cell_type": "markdown",
   "metadata": {
    "id": "H5WNLc-fT5PR"
   },
   "source": [
    "## Generate unigram Feature Matrix"
   ]
  },
  {
   "cell_type": "code",
   "execution_count": 7,
   "metadata": {
    "id": "ZGC5NujuT5PR"
   },
   "outputs": [],
   "source": [
    "vectTrain = CountVectorizer(input='content',decode_error='ignore',analyzer='word', strip_accents='unicode', binary=False, ngram_range=(1,2)).fit(trainX)\n",
    "X_train_vectorized = vectTrain.transform(trainX).toarray()\n",
    "X_test_vectorized = vectTrain.transform(testX).toarray()"
   ]
  },
  {
   "cell_type": "markdown",
   "metadata": {
    "id": "1uahu_bXT5PS"
   },
   "source": [
    "## Plot Confussion matrix"
   ]
  },
  {
   "cell_type": "code",
   "execution_count": 8,
   "metadata": {
    "id": "rigHTVHzT5PS"
   },
   "outputs": [],
   "source": [
    "def plot_confusion_matrix(cm, classes,\n",
    "                          normalize=False,\n",
    "                          title='Confusion matrix',\n",
    "                          cmap=plt.cm.Reds):\n",
    "    \n",
    "    plt.imshow(cm, interpolation='nearest', cmap=cmap)\n",
    "    plt.title(title)\n",
    "    plt.colorbar()\n",
    "    tick_marks = np.arange(len(classes))\n",
    "    plt.xticks(tick_marks, classes, rotation=45)\n",
    "    plt.yticks(tick_marks, classes)\n",
    "\n",
    "    if normalize:\n",
    "        cm = cm.astype('float') / cm.sum(axis=1)[:, np.newaxis]\n",
    "        print(\"Normalized confusion matrix\")\n",
    "    else:\n",
    "        print('Confusion matrix, without normalization')\n",
    "\n",
    "    thresh = cm.max() / 2.\n",
    "    for i, j in itertools.product(range(cm.shape[0]), range(cm.shape[1])):\n",
    "        plt.text(j, i, cm[i, j],\n",
    "                 horizontalalignment=\"center\",\n",
    "                 color=\"white\" if cm[i, j] > thresh else \"black\")\n",
    "\n",
    "    plt.tight_layout()\n",
    "    plt.ylabel('True label')\n",
    "    plt.xlabel('Predicted label')"
   ]
  },
  {
   "cell_type": "code",
   "execution_count": 10,
   "metadata": {},
   "outputs": [
    {
     "name": "stdout",
     "output_type": "stream",
     "text": [
      "Collecting lightgbmNote: you may need to restart the kernel to use updated packages.\n",
      "\n",
      "  Obtaining dependency information for lightgbm from https://files.pythonhosted.org/packages/e1/4c/4685ccfae9806f561de716e32549190c1f533dde5bcadaf83bdf23972cf0/lightgbm-4.3.0-py3-none-win_amd64.whl.metadata\n",
      "  Downloading lightgbm-4.3.0-py3-none-win_amd64.whl.metadata (19 kB)\n",
      "Requirement already satisfied: numpy in c:\\users\\zish0\\anaconda3\\lib\\site-packages (from lightgbm) (1.24.3)\n",
      "Requirement already satisfied: scipy in c:\\users\\zish0\\anaconda3\\lib\\site-packages (from lightgbm) (1.11.1)\n",
      "Downloading lightgbm-4.3.0-py3-none-win_amd64.whl (1.3 MB)\n",
      "   ---------------------------------------- 0.0/1.3 MB ? eta -:--:--\n",
      "   ---------------------------------------- 0.0/1.3 MB ? eta -:--:--\n",
      "   ---------------------------------------- 0.0/1.3 MB ? eta -:--:--\n",
      "    --------------------------------------- 0.0/1.3 MB 330.3 kB/s eta 0:00:04\n",
      "   - -------------------------------------- 0.0/1.3 MB 245.8 kB/s eta 0:00:06\n",
      "   -- ------------------------------------- 0.1/1.3 MB 416.7 kB/s eta 0:00:04\n",
      "   --- ------------------------------------ 0.1/1.3 MB 481.4 kB/s eta 0:00:03\n",
      "   ----- ---------------------------------- 0.2/1.3 MB 655.9 kB/s eta 0:00:02\n",
      "   ------- -------------------------------- 0.2/1.3 MB 718.0 kB/s eta 0:00:02\n",
      "   -------- ------------------------------- 0.3/1.3 MB 737.3 kB/s eta 0:00:02\n",
      "   ---------- ----------------------------- 0.3/1.3 MB 807.1 kB/s eta 0:00:02\n",
      "   ----------- ---------------------------- 0.4/1.3 MB 809.6 kB/s eta 0:00:02\n",
      "   ---------------- ----------------------- 0.6/1.3 MB 1.1 MB/s eta 0:00:01\n",
      "   --------------------- ------------------ 0.7/1.3 MB 1.2 MB/s eta 0:00:01\n",
      "   --------------------------- ------------ 0.9/1.3 MB 1.4 MB/s eta 0:00:01\n",
      "   --------------------------------- ------ 1.1/1.3 MB 1.6 MB/s eta 0:00:01\n",
      "   ---------------------------------------  1.3/1.3 MB 1.8 MB/s eta 0:00:01\n",
      "   ---------------------------------------- 1.3/1.3 MB 1.7 MB/s eta 0:00:00\n",
      "Installing collected packages: lightgbm\n",
      "Successfully installed lightgbm-4.3.0\n"
     ]
    }
   ],
   "source": [
    "pip install lightgbm\n"
   ]
  },
  {
   "cell_type": "markdown",
   "metadata": {
    "id": "-KAanhp7T5PV"
   },
   "source": [
    "## GBM"
   ]
  },
  {
   "cell_type": "code",
   "execution_count": 11,
   "metadata": {
    "id": "jK33aaART5PW"
   },
   "outputs": [
    {
     "name": "stdout",
     "output_type": "stream",
     "text": [
      "[LightGBM] [Info] Number of positive: 550, number of negative: 750\n",
      "[LightGBM] [Info] Auto-choosing row-wise multi-threading, the overhead of testing was 0.060177 seconds.\n",
      "You can set `force_row_wise=true` to remove the overhead.\n",
      "And if memory is not enough, you can set `force_col_wise=true`.\n",
      "[LightGBM] [Info] Total Bins 15035\n",
      "[LightGBM] [Info] Number of data points in the train set: 1300, number of used features: 3401\n",
      "[LightGBM] [Info] [binary:BoostFromScore]: pavg=0.423077 -> initscore=-0.310155\n",
      "[LightGBM] [Info] Start training from score -0.310155\n"
     ]
    }
   ],
   "source": [
    "import lightgbm as lgb\n",
    "clf = lgb.LGBMClassifier()\n",
    "clf.fit(X_train_vectorized, trainY)\n",
    "\n",
    "trainPredictiongbm = clf.predict(X_train_vectorized)\n",
    "testPredictionsgbm = clf.predict(X_test_vectorized)\n",
    "test['GBM_Result'] = testPredictionsgbm"
   ]
  },
  {
   "cell_type": "markdown",
   "metadata": {
    "id": "hfL-qQOxT5PW"
   },
   "source": [
    "## Training Confusion Matrix"
   ]
  },
  {
   "cell_type": "code",
   "execution_count": 15,
   "metadata": {
    "colab": {
     "base_uri": "https://localhost:8080/",
     "height": 362
    },
    "executionInfo": {
     "elapsed": 667,
     "status": "ok",
     "timestamp": 1632067725319,
     "user": {
      "displayName": "Hammad Akram",
      "photoUrl": "https://lh3.googleusercontent.com/a-/AOh14GjcEwmvD8yrytu1rkd0MRGmAegQkhsRdwrnUeXwOg=s64",
      "userId": "13568865556910960527"
     },
     "user_tz": -300
    },
    "id": "sudJ-6xmT5PW",
    "outputId": "76c197b8-4fef-4cba-fdd7-363f437d7298"
   },
   "outputs": [
    {
     "data": {
      "image/png": "[encoded data removed]",
      "text/plain": [
       "<Figure size 640x480 with 2 Axes>"
      ]
     },
     "metadata": {},
     "output_type": "display_data"
    }
   ],
   "source": [
    "# Assuming trainPredictiongbm contains your model predictions and trainY contains the true labels\n",
    "conf_mat = confusion_matrix(trainY, trainPredictiongbm)\n",
    "\n",
    "# Create ConfusionMatrixDisplay object\n",
    "cm_display = ConfusionMatrixDisplay(conf_mat, display_labels=['Fake', 'Real'])\n",
    "\n",
    "# Plot confusion matrix\n",
    "cm_display.plot()\n",
    "\n",
    "plt.show()"
   ]
  },
  {
   "cell_type": "markdown",
   "metadata": {
    "id": "d-EcFycDT5PW"
   },
   "source": [
    "## Testing Confusion Matrix"
   ]
  },
  {
   "cell_type": "code",
   "execution_count": 37,
   "metadata": {
    "id": "DkcDL-s6T5PW"
   },
   "outputs": [],
   "source": [
    "# cm = confusion_matrix(testPredictionsgbm, testY) \n",
    "# print(cm)\n",
    "# plot_confusion_matrix(cm, classes=['Fake', 'Real'])"
   ]
  },
  {
   "cell_type": "markdown",
   "metadata": {
    "id": "WX8cvqI-T5PX"
   },
   "source": [
    "## Training Accuracy"
   ]
  },
  {
   "cell_type": "code",
   "execution_count": 16,
   "metadata": {
    "colab": {
     "base_uri": "https://localhost:8080/"
    },
    "executionInfo": {
     "elapsed": 14,
     "status": "ok",
     "timestamp": 1632067725320,
     "user": {
      "displayName": "Hammad Akram",
      "photoUrl": "https://lh3.googleusercontent.com/a-/AOh14GjcEwmvD8yrytu1rkd0MRGmAegQkhsRdwrnUeXwOg=s64",
      "userId": "13568865556910960527"
     },
     "user_tz": -300
    },
    "id": "QSsotw2bT5PX",
    "outputId": "c63c0db1-3540-4250-ed46-2d543a1c454a"
   },
   "outputs": [
    {
     "name": "stdout",
     "output_type": "stream",
     "text": [
      "Precision_Recall_Fscore on Training Data is: (0.9992317935060944, 0.9992307692307693, 0.9992306755016964, None)\n",
      "Overall Accuracy on Training Data is: 0.9992307692307693\n"
     ]
    }
   ],
   "source": [
    "print (\"Precision_Recall_Fscore on Training Data is:\",precision_recall_fscore_support(trainY, trainPredictiongbm, average='weighted'))\n",
    "print (\"Overall Accuracy on Training Data is:\",metrics.accuracy_score(trainY,trainPredictiongbm))"
   ]
  },
  {
   "cell_type": "markdown",
   "metadata": {
    "id": "smz01L0FT5PX"
   },
   "source": [
    "## Testing Accuracy"
   ]
  },
  {
   "cell_type": "code",
   "execution_count": 17,
   "metadata": {
    "id": "8_PUQsWFT5PX"
   },
   "outputs": [],
   "source": [
    "# print (\"Precision_Recall_Fscore on Testing Data is:\",precision_recall_fscore_support(testY,testPredictionsgbm, average='weighted'))\n",
    "# print (\"Overall Accuracy on Testing Data is:\",metrics.accuracy_score(testY,testPredictionsgbm))"
   ]
  },
  {
   "cell_type": "code",
   "execution_count": 18,
   "metadata": {
    "id": "9wgN_VqtMcrS"
   },
   "outputs": [],
   "source": [
    "test[\"Real/Fake\"] = np.nan\n",
    "for i in test.index:\n",
    "  if test['GBM_Result'][i] == 1:\n",
    "    test.loc[i, ['Real/Fake']] = 'F'\n",
    "  elif test['GBM_Result'][i] == 0:\n",
    "    test.loc[i, ['Real/Fake']] = 'R'"
   ]
  },
  {
   "cell_type": "code",
   "execution_count": 19,
   "metadata": {},
   "outputs": [
    {
     "data": {
      "text/html": [
       "<div>\n",
       "<style scoped>\n",
       "    .dataframe tbody tr th:only-of-type {\n",
       "        vertical-align: middle;\n",
       "    }\n",
       "\n",
       "    .dataframe tbody tr th {\n",
       "        vertical-align: top;\n",
       "    }\n",
       "\n",
       "    .dataframe thead th {\n",
       "        text-align: right;\n",
       "    }\n",
       "</style>\n",
       "<table border=\"1\" class=\"dataframe\">\n",
       "  <thead>\n",
       "    <tr style=\"text-align: right;\">\n",
       "      <th></th>\n",
       "      <th>index</th>\n",
       "      <th>text</th>\n",
       "      <th>label</th>\n",
       "      <th>GBM_Result</th>\n",
       "      <th>Real/Fake</th>\n",
       "    </tr>\n",
       "  </thead>\n",
       "  <tbody>\n",
       "    <tr>\n",
       "      <th>0</th>\n",
       "      <td>0</td>\n",
       "      <td>صنعتوں کو جدید خطوط پر استوار کرنے کیلئے اعلیٰ...</td>\n",
       "      <td>NaN</td>\n",
       "      <td>0</td>\n",
       "      <td>R</td>\n",
       "    </tr>\n",
       "    <tr>\n",
       "      <th>1</th>\n",
       "      <td>1</td>\n",
       "      <td>افغانستان میں طالبان کے کنٹرول کرنے کے بعد پاک...</td>\n",
       "      <td>NaN</td>\n",
       "      <td>0</td>\n",
       "      <td>R</td>\n",
       "    </tr>\n",
       "    <tr>\n",
       "      <th>2</th>\n",
       "      <td>2</td>\n",
       "      <td>ویڈنگ اینتھم مالا بار گولڈ اینڈ ڈائمنڈس کی مہم...</td>\n",
       "      <td>NaN</td>\n",
       "      <td>0</td>\n",
       "      <td>R</td>\n",
       "    </tr>\n",
       "    <tr>\n",
       "      <th>3</th>\n",
       "      <td>3</td>\n",
       "      <td>” رمیز راجہ کو آنے سے پہلے کون متنازع بنانے کی...</td>\n",
       "      <td>NaN</td>\n",
       "      <td>0</td>\n",
       "      <td>R</td>\n",
       "    </tr>\n",
       "    <tr>\n",
       "      <th>4</th>\n",
       "      <td>4</td>\n",
       "      <td>پلاسٹک کپ انسانی جسم پر انتہائی مضر اثرات مرتب...</td>\n",
       "      <td>NaN</td>\n",
       "      <td>0</td>\n",
       "      <td>R</td>\n",
       "    </tr>\n",
       "    <tr>\n",
       "      <th>...</th>\n",
       "      <td>...</td>\n",
       "      <td>...</td>\n",
       "      <td>...</td>\n",
       "      <td>...</td>\n",
       "      <td>...</td>\n",
       "    </tr>\n",
       "    <tr>\n",
       "      <th>295</th>\n",
       "      <td>295</td>\n",
       "      <td>سندھ ہائیکورٹ کا دودھ کی زائد قیمتوں،غیر معیار...</td>\n",
       "      <td>NaN</td>\n",
       "      <td>0</td>\n",
       "      <td>R</td>\n",
       "    </tr>\n",
       "    <tr>\n",
       "      <th>296</th>\n",
       "      <td>296</td>\n",
       "      <td>”لڑکی نے میرا کالر پکڑا اور نمبر مانگنا شروع ک...</td>\n",
       "      <td>NaN</td>\n",
       "      <td>0</td>\n",
       "      <td>R</td>\n",
       "    </tr>\n",
       "    <tr>\n",
       "      <th>297</th>\n",
       "      <td>297</td>\n",
       "      <td>برازیلین ماڈل نے خود سے ہی شادی کر لی لیکن کیو...</td>\n",
       "      <td>NaN</td>\n",
       "      <td>0</td>\n",
       "      <td>R</td>\n",
       "    </tr>\n",
       "    <tr>\n",
       "      <th>298</th>\n",
       "      <td>298</td>\n",
       "      <td>جنت مرزا کی ایسی ویڈیو سامنے آگئی کہ سوشل میڈی...</td>\n",
       "      <td>NaN</td>\n",
       "      <td>0</td>\n",
       "      <td>R</td>\n",
       "    </tr>\n",
       "    <tr>\n",
       "      <th>299</th>\n",
       "      <td>299</td>\n",
       "      <td>خلائی سیاحت کا ڈرامائی آغاز\\nوہ ننھی بچی خلائ...</td>\n",
       "      <td>NaN</td>\n",
       "      <td>0</td>\n",
       "      <td>R</td>\n",
       "    </tr>\n",
       "  </tbody>\n",
       "</table>\n",
       "<p>300 rows × 5 columns</p>\n",
       "</div>"
      ],
      "text/plain": [
       "     index                                               text  label  \\\n",
       "0        0  صنعتوں کو جدید خطوط پر استوار کرنے کیلئے اعلیٰ...    NaN   \n",
       "1        1  افغانستان میں طالبان کے کنٹرول کرنے کے بعد پاک...    NaN   \n",
       "2        2  ویڈنگ اینتھم مالا بار گولڈ اینڈ ڈائمنڈس کی مہم...    NaN   \n",
       "3        3  ” رمیز راجہ کو آنے سے پہلے کون متنازع بنانے کی...    NaN   \n",
       "4        4  پلاسٹک کپ انسانی جسم پر انتہائی مضر اثرات مرتب...    NaN   \n",
       "..     ...                                                ...    ...   \n",
       "295    295  سندھ ہائیکورٹ کا دودھ کی زائد قیمتوں،غیر معیار...    NaN   \n",
       "296    296  ”لڑکی نے میرا کالر پکڑا اور نمبر مانگنا شروع ک...    NaN   \n",
       "297    297  برازیلین ماڈل نے خود سے ہی شادی کر لی لیکن کیو...    NaN   \n",
       "298    298  جنت مرزا کی ایسی ویڈیو سامنے آگئی کہ سوشل میڈی...    NaN   \n",
       "299    299  خلائی سیاحت کا ڈرامائی آغاز\\nوہ ننھی بچی خلائ...    NaN   \n",
       "\n",
       "     GBM_Result Real/Fake  \n",
       "0             0         R  \n",
       "1             0         R  \n",
       "2             0         R  \n",
       "3             0         R  \n",
       "4             0         R  \n",
       "..          ...       ...  \n",
       "295           0         R  \n",
       "296           0         R  \n",
       "297           0         R  \n",
       "298           0         R  \n",
       "299           0         R  \n",
       "\n",
       "[300 rows x 5 columns]"
      ]
     },
     "execution_count": 19,
     "metadata": {},
     "output_type": "execute_result"
    }
   ],
   "source": [
    "test"
   ]
  },
  {
   "cell_type": "markdown",
   "metadata": {
    "id": "2xc9_iKDT5Pc"
   },
   "source": [
    "## Save Prediction in file"
   ]
  },
  {
   "cell_type": "code",
   "execution_count": 23,
   "metadata": {
    "id": "ofczXO0rT5Pc"
   },
   "outputs": [],
   "source": [
    "final_result = pd.DataFrame()\n",
    "final_result = test[[\"index\", \"Real/Fake\"]]\n",
    "final_result.to_csv('Lighting_GBM_Final_Result.csv', index=False, encoding=\"utf-8\")\n"
   ]
  },
  {
   "cell_type": "code",
   "execution_count": 21,
   "metadata": {
    "id": "UKswF3FeT5Pc"
   },
   "outputs": [
    {
     "name": "stdout",
     "output_type": "stream",
     "text": [
      "Index(['index', 'text', 'label', 'GBM_Result', 'Real/Fake'], dtype='object')\n",
      "Column names 'File_No' and/or 'Real/Fake' not found in DataFrame.\n"
     ]
    }
   ],
   "source": [
    "# Print column names in the DataFrame\n",
    "print(test.columns)\n",
    "\n",
    "# Check if the column names 'File_No' and 'Real/Fake' are present in the DataFrame\n",
    "if 'File_No' in test.columns and 'Real/Fake' in test.columns:\n",
    "    final_result = test[[\"File_No\", \"Real/Fake\"]]\n",
    "    final_result.to_csv('Lighting_GBM_Final_Result.csv', index=False, encoding=\"utf-8\")\n",
    "else:\n",
    "    print(\"Column names 'File_No' and/or 'Real/Fake' not found in DataFrame.\")\n"
   ]
  },
  {
   "cell_type": "code",
   "execution_count": null,
   "metadata": {},
   "outputs": [],
   "source": []
  }
 ],
 "metadata": {
  "accelerator": "GPU",
  "colab": {
   "collapsed_sections": [],
   "name": "Final-Experiment.ipynb",
   "provenance": []
  },
  "kernelspec": {
   "display_name": "Python 3 (ipykernel)",
   "language": "python",
   "name": "python3"
  },
  "language_info": {
   "codemirror_mode": {
    "name": "ipython",
    "version": 3
   },
   "file_extension": ".py",
   "mimetype": "text/x-python",
   "name": "python",
   "nbconvert_exporter": "python",
   "pygments_lexer": "ipython3",
   "version": "3.11.5"
  }
 },
 "nbformat": 4,
 "nbformat_minor": 1
}
