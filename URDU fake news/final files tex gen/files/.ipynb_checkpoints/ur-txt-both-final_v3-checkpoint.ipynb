{
 "cells": [
  {
   "cell_type": "code",
   "execution_count": 1,
   "metadata": {
    "_cell_guid": "b1076dfc-b9ad-4769-8c92-a6c4dae69d19",
    "_uuid": "8f2839f25d086af736a60e9eeb907d3b93b6e0e5",
    "execution": {
     "iopub.execute_input": "2024-06-10T18:19:20.711691Z",
     "iopub.status.busy": "2024-06-10T18:19:20.711251Z",
     "iopub.status.idle": "2024-06-10T18:19:33.891792Z",
     "shell.execute_reply": "2024-06-10T18:19:33.890840Z",
     "shell.execute_reply.started": "2024-06-10T18:19:20.711648Z"
    }
   },
   "outputs": [
    {
     "name": "stdout",
     "output_type": "stream",
     "text": [
      "Requirement already satisfied: urduhack in /opt/conda/lib/python3.10/site-packages (1.1.1)\n",
      "Requirement already satisfied: tf2crf in /opt/conda/lib/python3.10/site-packages (from urduhack) (0.1.33)\n",
      "Requirement already satisfied: tensorflow-datasets~=3.1 in /opt/conda/lib/python3.10/site-packages (from urduhack) (3.2.1)\n",
      "Requirement already satisfied: Click~=7.1 in /opt/conda/lib/python3.10/site-packages (from urduhack) (7.1.2)\n",
      "Requirement already satisfied: regex in /opt/conda/lib/python3.10/site-packages (from urduhack) (2023.12.25)\n",
      "Requirement already satisfied: absl-py in /opt/conda/lib/python3.10/site-packages (from tensorflow-datasets~=3.1->urduhack) (1.4.0)\n",
      "Requirement already satisfied: attrs>=18.1.0 in /opt/conda/lib/python3.10/site-packages (from tensorflow-datasets~=3.1->urduhack) (23.2.0)\n",
      "Requirement already satisfied: dill in /opt/conda/lib/python3.10/site-packages (from tensorflow-datasets~=3.1->urduhack) (0.3.8)\n",
      "Requirement already satisfied: future in /opt/conda/lib/python3.10/site-packages (from tensorflow-datasets~=3.1->urduhack) (1.0.0)\n",
      "Requirement already satisfied: numpy in /opt/conda/lib/python3.10/site-packages (from tensorflow-datasets~=3.1->urduhack) (1.26.4)\n",
      "Requirement already satisfied: promise in /opt/conda/lib/python3.10/site-packages (from tensorflow-datasets~=3.1->urduhack) (2.3)\n",
      "Requirement already satisfied: protobuf>=3.6.1 in /opt/conda/lib/python3.10/site-packages (from tensorflow-datasets~=3.1->urduhack) (3.20.3)\n",
      "Requirement already satisfied: requests>=2.19.0 in /opt/conda/lib/python3.10/site-packages (from tensorflow-datasets~=3.1->urduhack) (2.32.3)\n",
      "Requirement already satisfied: six in /opt/conda/lib/python3.10/site-packages (from tensorflow-datasets~=3.1->urduhack) (1.16.0)\n",
      "Requirement already satisfied: tensorflow-metadata in /opt/conda/lib/python3.10/site-packages (from tensorflow-datasets~=3.1->urduhack) (0.14.0)\n",
      "Requirement already satisfied: termcolor in /opt/conda/lib/python3.10/site-packages (from tensorflow-datasets~=3.1->urduhack) (2.4.0)\n",
      "Requirement already satisfied: tqdm in /opt/conda/lib/python3.10/site-packages (from tensorflow-datasets~=3.1->urduhack) (4.66.4)\n",
      "Requirement already satisfied: wrapt in /opt/conda/lib/python3.10/site-packages (from tensorflow-datasets~=3.1->urduhack) (1.14.1)\n",
      "Requirement already satisfied: tensorflow>=2.1.0 in /opt/conda/lib/python3.10/site-packages (from tf2crf->urduhack) (2.15.0)\n",
      "Requirement already satisfied: tensorflow-addons>=0.8.2 in /opt/conda/lib/python3.10/site-packages (from tf2crf->urduhack) (0.23.0)\n",
      "Requirement already satisfied: charset-normalizer<4,>=2 in /opt/conda/lib/python3.10/site-packages (from requests>=2.19.0->tensorflow-datasets~=3.1->urduhack) (3.3.2)\n",
      "Requirement already satisfied: idna<4,>=2.5 in /opt/conda/lib/python3.10/site-packages (from requests>=2.19.0->tensorflow-datasets~=3.1->urduhack) (3.6)\n",
      "Requirement already satisfied: urllib3<3,>=1.21.1 in /opt/conda/lib/python3.10/site-packages (from requests>=2.19.0->tensorflow-datasets~=3.1->urduhack) (1.26.18)\n",
      "Requirement already satisfied: certifi>=2017.4.17 in /opt/conda/lib/python3.10/site-packages (from requests>=2.19.0->tensorflow-datasets~=3.1->urduhack) (2024.2.2)\n",
      "Requirement already satisfied: astunparse>=1.6.0 in /opt/conda/lib/python3.10/site-packages (from tensorflow>=2.1.0->tf2crf->urduhack) (1.6.3)\n",
      "Requirement already satisfied: flatbuffers>=23.5.26 in /opt/conda/lib/python3.10/site-packages (from tensorflow>=2.1.0->tf2crf->urduhack) (23.5.26)\n",
      "Requirement already satisfied: gast!=0.5.0,!=0.5.1,!=0.5.2,>=0.2.1 in /opt/conda/lib/python3.10/site-packages (from tensorflow>=2.1.0->tf2crf->urduhack) (0.5.4)\n",
      "Requirement already satisfied: google-pasta>=0.1.1 in /opt/conda/lib/python3.10/site-packages (from tensorflow>=2.1.0->tf2crf->urduhack) (0.2.0)\n",
      "Requirement already satisfied: h5py>=2.9.0 in /opt/conda/lib/python3.10/site-packages (from tensorflow>=2.1.0->tf2crf->urduhack) (3.10.0)\n",
      "Requirement already satisfied: libclang>=13.0.0 in /opt/conda/lib/python3.10/site-packages (from tensorflow>=2.1.0->tf2crf->urduhack) (16.0.6)\n",
      "Requirement already satisfied: ml-dtypes~=0.2.0 in /opt/conda/lib/python3.10/site-packages (from tensorflow>=2.1.0->tf2crf->urduhack) (0.2.0)\n",
      "Requirement already satisfied: opt-einsum>=2.3.2 in /opt/conda/lib/python3.10/site-packages (from tensorflow>=2.1.0->tf2crf->urduhack) (3.3.0)\n",
      "Requirement already satisfied: packaging in /opt/conda/lib/python3.10/site-packages (from tensorflow>=2.1.0->tf2crf->urduhack) (21.3)\n",
      "Requirement already satisfied: setuptools in /opt/conda/lib/python3.10/site-packages (from tensorflow>=2.1.0->tf2crf->urduhack) (69.0.3)\n",
      "Requirement already satisfied: typing-extensions>=3.6.6 in /opt/conda/lib/python3.10/site-packages (from tensorflow>=2.1.0->tf2crf->urduhack) (4.9.0)\n",
      "Requirement already satisfied: tensorflow-io-gcs-filesystem>=0.23.1 in /opt/conda/lib/python3.10/site-packages (from tensorflow>=2.1.0->tf2crf->urduhack) (0.35.0)\n",
      "Requirement already satisfied: grpcio<2.0,>=1.24.3 in /opt/conda/lib/python3.10/site-packages (from tensorflow>=2.1.0->tf2crf->urduhack) (1.59.3)\n",
      "Requirement already satisfied: tensorboard<2.16,>=2.15 in /opt/conda/lib/python3.10/site-packages (from tensorflow>=2.1.0->tf2crf->urduhack) (2.15.1)\n",
      "Requirement already satisfied: tensorflow-estimator<2.16,>=2.15.0 in /opt/conda/lib/python3.10/site-packages (from tensorflow>=2.1.0->tf2crf->urduhack) (2.15.0)\n",
      "Requirement already satisfied: keras<2.16,>=2.15.0 in /opt/conda/lib/python3.10/site-packages (from tensorflow>=2.1.0->tf2crf->urduhack) (2.15.0)\n",
      "Requirement already satisfied: typeguard<3.0.0,>=2.7 in /opt/conda/lib/python3.10/site-packages (from tensorflow-addons>=0.8.2->tf2crf->urduhack) (2.13.3)\n",
      "Requirement already satisfied: googleapis-common-protos in /opt/conda/lib/python3.10/site-packages (from tensorflow-metadata->tensorflow-datasets~=3.1->urduhack) (1.62.0)\n",
      "Requirement already satisfied: wheel<1.0,>=0.23.0 in /opt/conda/lib/python3.10/site-packages (from astunparse>=1.6.0->tensorflow>=2.1.0->tf2crf->urduhack) (0.42.0)\n",
      "Requirement already satisfied: google-auth<3,>=1.6.3 in /opt/conda/lib/python3.10/site-packages (from tensorboard<2.16,>=2.15->tensorflow>=2.1.0->tf2crf->urduhack) (2.26.1)\n",
      "Requirement already satisfied: google-auth-oauthlib<2,>=0.5 in /opt/conda/lib/python3.10/site-packages (from tensorboard<2.16,>=2.15->tensorflow>=2.1.0->tf2crf->urduhack) (1.2.0)\n",
      "Requirement already satisfied: markdown>=2.6.8 in /opt/conda/lib/python3.10/site-packages (from tensorboard<2.16,>=2.15->tensorflow>=2.1.0->tf2crf->urduhack) (3.5.2)\n",
      "Requirement already satisfied: tensorboard-data-server<0.8.0,>=0.7.0 in /opt/conda/lib/python3.10/site-packages (from tensorboard<2.16,>=2.15->tensorflow>=2.1.0->tf2crf->urduhack) (0.7.2)\n",
      "Requirement already satisfied: werkzeug>=1.0.1 in /opt/conda/lib/python3.10/site-packages (from tensorboard<2.16,>=2.15->tensorflow>=2.1.0->tf2crf->urduhack) (3.0.3)\n",
      "Requirement already satisfied: pyparsing!=3.0.5,>=2.0.2 in /opt/conda/lib/python3.10/site-packages (from packaging->tensorflow>=2.1.0->tf2crf->urduhack) (3.1.1)\n",
      "Requirement already satisfied: cachetools<6.0,>=2.0.0 in /opt/conda/lib/python3.10/site-packages (from google-auth<3,>=1.6.3->tensorboard<2.16,>=2.15->tensorflow>=2.1.0->tf2crf->urduhack) (4.2.4)\n",
      "Requirement already satisfied: pyasn1-modules>=0.2.1 in /opt/conda/lib/python3.10/site-packages (from google-auth<3,>=1.6.3->tensorboard<2.16,>=2.15->tensorflow>=2.1.0->tf2crf->urduhack) (0.3.0)\n",
      "Requirement already satisfied: rsa<5,>=3.1.4 in /opt/conda/lib/python3.10/site-packages (from google-auth<3,>=1.6.3->tensorboard<2.16,>=2.15->tensorflow>=2.1.0->tf2crf->urduhack) (4.9)\n",
      "Requirement already satisfied: requests-oauthlib>=0.7.0 in /opt/conda/lib/python3.10/site-packages (from google-auth-oauthlib<2,>=0.5->tensorboard<2.16,>=2.15->tensorflow>=2.1.0->tf2crf->urduhack) (1.3.1)\n",
      "Requirement already satisfied: MarkupSafe>=2.1.1 in /opt/conda/lib/python3.10/site-packages (from werkzeug>=1.0.1->tensorboard<2.16,>=2.15->tensorflow>=2.1.0->tf2crf->urduhack) (2.1.3)\n",
      "Requirement already satisfied: pyasn1<0.6.0,>=0.4.6 in /opt/conda/lib/python3.10/site-packages (from pyasn1-modules>=0.2.1->google-auth<3,>=1.6.3->tensorboard<2.16,>=2.15->tensorflow>=2.1.0->tf2crf->urduhack) (0.5.1)\n",
      "Requirement already satisfied: oauthlib>=3.0.0 in /opt/conda/lib/python3.10/site-packages (from requests-oauthlib>=0.7.0->google-auth-oauthlib<2,>=0.5->tensorboard<2.16,>=2.15->tensorflow>=2.1.0->tf2crf->urduhack) (3.2.2)\n"
     ]
    }
   ],
   "source": [
    "\n",
    "!pip install urduhack\n"
   ]
  },
  {
   "cell_type": "code",
   "execution_count": null,
   "metadata": {},
   "outputs": [],
   "source": [
    "\n",
    "#pip install tensorflow"
   ]
  },
  {
   "cell_type": "code",
   "execution_count": 2,
   "metadata": {
    "execution": {
     "iopub.execute_input": "2024-06-10T18:19:39.218512Z",
     "iopub.status.busy": "2024-06-10T18:19:39.217556Z",
     "iopub.status.idle": "2024-06-10T18:19:45.785031Z",
     "shell.execute_reply": "2024-06-10T18:19:45.784201Z",
     "shell.execute_reply.started": "2024-06-10T18:19:39.218475Z"
    }
   },
   "outputs": [
    {
     "name": "stderr",
     "output_type": "stream",
     "text": [
      "2024-06-10 18:19:39.590708: E external/local_xla/xla/stream_executor/cuda/cuda_dnn.cc:9261] Unable to register cuDNN factory: Attempting to register factory for plugin cuDNN when one has already been registered\n",
      "2024-06-10 18:19:39.590760: E external/local_xla/xla/stream_executor/cuda/cuda_fft.cc:607] Unable to register cuFFT factory: Attempting to register factory for plugin cuFFT when one has already been registered\n",
      "2024-06-10 18:19:39.592248: E external/local_xla/xla/stream_executor/cuda/cuda_blas.cc:1515] Unable to register cuBLAS factory: Attempting to register factory for plugin cuBLAS when one has already been registered\n",
      "/opt/conda/lib/python3.10/site-packages/tensorflow_addons/utils/tfa_eol_msg.py:23: UserWarning: \n",
      "\n",
      "TensorFlow Addons (TFA) has ended development and introduction of new features.\n",
      "TFA has entered a minimal maintenance and release mode until a planned end of life in May 2024.\n",
      "Please modify downstream libraries to take dependencies from other repositories in our TensorFlow community (e.g. Keras, Keras-CV, and Keras-NLP). \n",
      "\n",
      "For more information see: https://github.com/tensorflow/addons/issues/2807 \n",
      "\n",
      "  warnings.warn(\n"
     ]
    },
    {
     "name": "stdout",
     "output_type": "stream",
     "text": [
      "Downloading data from https://github.com/urduhack/resources/releases/download/word_tokenizer/word_tokenizer.zip\n",
      "36788015/36788015 [==============================] - 0s 0us/step\n",
      "Downloading data from https://github.com/urduhack/resources/releases/download/pos_tagger/pos_tagger.zip\n",
      "2761433/2761433 [==============================] - 0s 0us/step\n",
      "Downloading data from https://github.com/urduhack/resources/releases/download/ner/ner.zip\n",
      "11723346/11723346 [==============================] - 0s 0us/step\n",
      "Downloading data from https://github.com/urduhack/resources/releases/download/lemmatizer/ur_lemma_lookup.zip\n",
      "89078/89078 [==============================] - 0s 0us/step\n"
     ]
    }
   ],
   "source": [
    "import urduhack\n",
    "import os\n",
    "os.environ['TF_CPP_MIN_LOG_LEVEL'] = '3'  # Suppress TensorFlow logging\n",
    "urduhack.download()\n"
   ]
  },
  {
   "cell_type": "code",
   "execution_count": 4,
   "metadata": {
    "execution": {
     "iopub.execute_input": "2024-06-10T18:24:15.289137Z",
     "iopub.status.busy": "2024-06-10T18:24:15.288766Z",
     "iopub.status.idle": "2024-06-10T18:24:16.186027Z",
     "shell.execute_reply": "2024-06-10T18:24:16.184983Z",
     "shell.execute_reply.started": "2024-06-10T18:24:15.289111Z"
    }
   },
   "outputs": [],
   "source": [
    "import pandas as pd\n",
    "import numpy as np\n",
    "import tensorflow as tf\n",
    "from tensorflow.keras.layers import Dense, LSTM, Embedding, Reshape, Dropout, BatchNormalization\n",
    "from tensorflow.keras.models import Sequential\n",
    "from tensorflow.keras.optimizers import Adam\n",
    "from tensorflow.keras.preprocessing.text import Tokenizer\n",
    "from tensorflow.keras.preprocessing.sequence import pad_sequences\n",
    "from sklearn.preprocessing import StandardScaler\n",
    "from tensorflow.keras.layers import Flatten\n",
    "import urduhack\n",
    "from urduhack.preprocessing import normalize_whitespace, remove_punctuation\n",
    "from urduhack.tokenization import word_tokenizer\n",
    "from urduhack.normalization import normalize\n",
    "from sklearn.feature_extraction.text import TfidfVectorizer\n",
    "from sklearn.model_selection import train_test_split\n",
    "from sklearn.preprocessing import LabelEncoder\n",
    "from sklearn.ensemble import AdaBoostClassifier\n",
    "from sklearn.metrics import classification_report, accuracy_score\n",
    "import numpy as np\n",
    "\n"
   ]
  },
  {
   "cell_type": "markdown",
   "metadata": {},
   "source": [
    "# Applyig Models Before text Generation"
   ]
  },
  {
   "cell_type": "code",
   "execution_count": 5,
   "metadata": {
    "execution": {
     "iopub.execute_input": "2024-06-10T18:24:54.573751Z",
     "iopub.status.busy": "2024-06-10T18:24:54.573056Z",
     "iopub.status.idle": "2024-06-10T18:24:54.584094Z",
     "shell.execute_reply": "2024-06-10T18:24:54.583105Z",
     "shell.execute_reply.started": "2024-06-10T18:24:54.573715Z"
    }
   },
   "outputs": [],
   "source": [
    "from sklearn.metrics import accuracy_score, f1_score, recall_score, precision_score, classification_report\n",
    "# Define a list of Urdu stop words\n",
    "urdu_stop_words = [\"کے\", \"میں\", \"کی\", \"کا\", \"ہے\", \"کو\", \"سے\", \"پر\", \"اور\", \"تو\", \"یہ\", \"ہے\", \"بھی\", \"ہے\", \"تھا\", \"تھی\", \"ہوں\"]\n",
    "\n",
    "# Updated helper function for data preprocessing\n",
    "def preprocess_text_algos(text):\n",
    "    text = normalize(text)\n",
    "    text = normalize_whitespace(text)\n",
    "    text = remove_punctuation(text)\n",
    "    tokens = word_tokenizer(text)\n",
    "    filtered_tokens = [token for token in tokens if token not in urdu_stop_words]  # Remove stop words\n",
    "    cleaned_text = ' '.join(filtered_tokens)  # Convert tokens back to a single string\n",
    "    return cleaned_text, filtered_tokens\n",
    "\n",
    "def store_results(model_name, y_test, y_pred, results_df=None):\n",
    "    # Calculate metrics\n",
    "    accuracy = accuracy_score(y_test, y_pred)\n",
    "    f1 = f1_score(y_test, y_pred, average='weighted', zero_division=0)\n",
    "    recall = recall_score(y_test, y_pred, average='weighted', zero_division=0)\n",
    "    precision = precision_score(y_test, y_pred, average='weighted', zero_division=0)\n",
    "    \n",
    "    # Create a DataFrame for the current results\n",
    "    current_results = pd.DataFrame({\n",
    "        'Model': [model_name],\n",
    "        'Accuracy': [accuracy],\n",
    "        'F1 Score': [f1],\n",
    "        'Recall': [recall],\n",
    "        'Precision': [precision]\n",
    "    })\n",
    "    \n",
    "    # Initialize or concatenate results\n",
    "    if results_df is None:\n",
    "        results_df = current_results\n",
    "    else:\n",
    "        results_df = pd.concat([results_df, current_results], ignore_index=True)\n",
    "    \n",
    "    return results_df\n",
    "\n",
    "# Example usage:\n",
    "results_df = None"
   ]
  },
  {
   "cell_type": "code",
   "execution_count": 6,
   "metadata": {
    "execution": {
     "iopub.execute_input": "2024-06-10T18:24:58.231355Z",
     "iopub.status.busy": "2024-06-10T18:24:58.230968Z",
     "iopub.status.idle": "2024-06-10T18:24:58.370076Z",
     "shell.execute_reply": "2024-06-10T18:24:58.369157Z",
     "shell.execute_reply.started": "2024-06-10T18:24:58.231328Z"
    }
   },
   "outputs": [
    {
     "name": "stdout",
     "output_type": "stream",
     "text": [
      "shape of data before tex gen: (4097, 3)\n"
     ]
    },
    {
     "data": {
      "text/html": [
       "<div>\n",
       "<style scoped>\n",
       "    .dataframe tbody tr th:only-of-type {\n",
       "        vertical-align: middle;\n",
       "    }\n",
       "\n",
       "    .dataframe tbody tr th {\n",
       "        vertical-align: top;\n",
       "    }\n",
       "\n",
       "    .dataframe thead th {\n",
       "        text-align: right;\n",
       "    }\n",
       "</style>\n",
       "<table border=\"1\" class=\"dataframe\">\n",
       "  <thead>\n",
       "    <tr style=\"text-align: right;\">\n",
       "      <th></th>\n",
       "      <th>Unnamed: 0</th>\n",
       "      <th>news</th>\n",
       "      <th>label</th>\n",
       "    </tr>\n",
       "  </thead>\n",
       "  <tbody>\n",
       "    <tr>\n",
       "      <th>0</th>\n",
       "      <td>0</td>\n",
       "      <td>; \"تفصیلات کے مطابق بحریہ ٹاؤن کی جانب سے بتی...</td>\n",
       "      <td>real</td>\n",
       "    </tr>\n",
       "    <tr>\n",
       "      <th>1</th>\n",
       "      <td>1</td>\n",
       "      <td>; \"قصور میں مرد اور خاتون کی پھندا لگی لاشیں ب...</td>\n",
       "      <td>real</td>\n",
       "    </tr>\n",
       "    <tr>\n",
       "      <th>2</th>\n",
       "      <td>2</td>\n",
       "      <td>; ; \"تفصیلات کے مطابق داروغہ والا میں دیرینہ د...</td>\n",
       "      <td>real</td>\n",
       "    </tr>\n",
       "    <tr>\n",
       "      <th>3</th>\n",
       "      <td>3</td>\n",
       "      <td>; \"سیشن جج لاہور نے مجرم محمد اشرف کے بلیک ورا...</td>\n",
       "      <td>real</td>\n",
       "    </tr>\n",
       "    <tr>\n",
       "      <th>4</th>\n",
       "      <td>4</td>\n",
       "      <td>; \"آج ملزمہ انیقہ نے عدالت میں بیان بدل دیا، ...</td>\n",
       "      <td>real</td>\n",
       "    </tr>\n",
       "  </tbody>\n",
       "</table>\n",
       "</div>"
      ],
      "text/plain": [
       "   Unnamed: 0                                               news label\n",
       "0           0  ; \"تفصیلات کے مطابق بحریہ ٹاؤن کی جانب سے بتی...  real\n",
       "1           1  ; \"قصور میں مرد اور خاتون کی پھندا لگی لاشیں ب...  real\n",
       "2           2  ; ; \"تفصیلات کے مطابق داروغہ والا میں دیرینہ د...  real\n",
       "3           3  ; \"سیشن جج لاہور نے مجرم محمد اشرف کے بلیک ورا...  real\n",
       "4           4  ; \"آج ملزمہ انیقہ نے عدالت میں بیان بدل دیا، ...  real"
      ]
     },
     "execution_count": 6,
     "metadata": {},
     "output_type": "execute_result"
    }
   ],
   "source": [
    "# data loading \n",
    "dataset_path = \"/kaggle/input/urdu-news-csv/news.csv\"\n",
    "\n",
    "df = pd.read_csv(dataset_path, encoding='utf-8')\n",
    "print(\"shape of data before tex gen:\",df.shape)\n",
    "df.head()"
   ]
  },
  {
   "cell_type": "code",
   "execution_count": 7,
   "metadata": {
    "execution": {
     "iopub.execute_input": "2024-06-10T18:25:36.563075Z",
     "iopub.status.busy": "2024-06-10T18:25:36.562337Z",
     "iopub.status.idle": "2024-06-10T18:25:36.590979Z",
     "shell.execute_reply": "2024-06-10T18:25:36.589821Z",
     "shell.execute_reply.started": "2024-06-10T18:25:36.563040Z"
    }
   },
   "outputs": [
    {
     "data": {
      "text/html": [
       "<div>\n",
       "<style scoped>\n",
       "    .dataframe tbody tr th:only-of-type {\n",
       "        vertical-align: middle;\n",
       "    }\n",
       "\n",
       "    .dataframe tbody tr th {\n",
       "        vertical-align: top;\n",
       "    }\n",
       "\n",
       "    .dataframe thead th {\n",
       "        text-align: right;\n",
       "    }\n",
       "</style>\n",
       "<table border=\"1\" class=\"dataframe\">\n",
       "  <thead>\n",
       "    <tr style=\"text-align: right;\">\n",
       "      <th></th>\n",
       "      <th>news</th>\n",
       "      <th>label</th>\n",
       "    </tr>\n",
       "  </thead>\n",
       "  <tbody>\n",
       "    <tr>\n",
       "      <th>0</th>\n",
       "      <td>\\tپاکستان کے صوبے پنجاب میں گذشتہ ہفتے ہونے وا...</td>\n",
       "      <td>real</td>\n",
       "    </tr>\n",
       "    <tr>\n",
       "      <th>1</th>\n",
       "      <td>\\tوزیر اعظم عمران خان کے ساجد گوندل کی بازیابی...</td>\n",
       "      <td>real</td>\n",
       "    </tr>\n",
       "    <tr>\n",
       "      <th>2</th>\n",
       "      <td>لاہور(کلچرل رپورٹر)ایشین ایکسی لینس پرفارمنس ا...</td>\n",
       "      <td>fake</td>\n",
       "    </tr>\n",
       "    <tr>\n",
       "      <th>3</th>\n",
       "      <td>امریکی خواتین سوکر اسٹار میگن ریپینو گھٹنوں کے...</td>\n",
       "      <td>fake</td>\n",
       "    </tr>\n",
       "    <tr>\n",
       "      <th>4</th>\n",
       "      <td>\\tوفاق ہو یا صوبے، خیبر پختونخواہ ہو یا پنجاب،...</td>\n",
       "      <td>real</td>\n",
       "    </tr>\n",
       "  </tbody>\n",
       "</table>\n",
       "</div>"
      ],
      "text/plain": [
       "                                                news  label\n",
       "0  \\tپاکستان کے صوبے پنجاب میں گذشتہ ہفتے ہونے وا...   real\n",
       "1  \\tوزیر اعظم عمران خان کے ساجد گوندل کی بازیابی...   real\n",
       "2  لاہور(کلچرل رپورٹر)ایشین ایکسی لینس پرفارمنس ا...  fake \n",
       "3  امریکی خواتین سوکر اسٹار میگن ریپینو گھٹنوں کے...  fake \n",
       "4  \\tوفاق ہو یا صوبے، خیبر پختونخواہ ہو یا پنجاب،...   real"
      ]
     },
     "execution_count": 7,
     "metadata": {},
     "output_type": "execute_result"
    }
   ],
   "source": [
    "# droping un named column and randomizing data\n",
    "df = df.loc[:, ~df.columns.str.contains('^Unnamed')]\n",
    "df = df.sample(frac=1, random_state=42).reset_index(drop=True)\n",
    "df.head()"
   ]
  },
  {
   "cell_type": "code",
   "execution_count": 8,
   "metadata": {
    "execution": {
     "iopub.execute_input": "2024-06-10T18:26:08.606080Z",
     "iopub.status.busy": "2024-06-10T18:26:08.605717Z",
     "iopub.status.idle": "2024-06-10T18:26:08.615284Z",
     "shell.execute_reply": "2024-06-10T18:26:08.614110Z",
     "shell.execute_reply.started": "2024-06-10T18:26:08.606052Z"
    }
   },
   "outputs": [
    {
     "name": "stdout",
     "output_type": "stream",
     "text": [
      "Unique labels before cleaning: ['real' 'fake ']\n"
     ]
    }
   ],
   "source": [
    "print(\"Unique labels before cleaning:\",df['label'].unique())"
   ]
  },
  {
   "cell_type": "code",
   "execution_count": 9,
   "metadata": {
    "execution": {
     "iopub.execute_input": "2024-06-10T18:26:36.299882Z",
     "iopub.status.busy": "2024-06-10T18:26:36.299525Z",
     "iopub.status.idle": "2024-06-10T18:26:36.308493Z",
     "shell.execute_reply": "2024-06-10T18:26:36.307360Z",
     "shell.execute_reply.started": "2024-06-10T18:26:36.299855Z"
    }
   },
   "outputs": [
    {
     "name": "stdout",
     "output_type": "stream",
     "text": [
      "Unique labels after cleaning: ['real' 'fake']\n"
     ]
    }
   ],
   "source": [
    "# as there is a space in label fake in pur data set so strip it\n",
    "df['label'] = df['label'].str.strip()\n",
    "print(\"Unique labels after cleaning:\", df['label'].unique())"
   ]
  },
  {
   "cell_type": "code",
   "execution_count": 10,
   "metadata": {
    "execution": {
     "iopub.execute_input": "2024-06-10T18:26:47.698428Z",
     "iopub.status.busy": "2024-06-10T18:26:47.698093Z",
     "iopub.status.idle": "2024-06-10T18:26:47.708486Z",
     "shell.execute_reply": "2024-06-10T18:26:47.707471Z",
     "shell.execute_reply.started": "2024-06-10T18:26:47.698403Z"
    }
   },
   "outputs": [
    {
     "name": "stdout",
     "output_type": "stream",
     "text": [
      "(4097, 2)\n"
     ]
    },
    {
     "data": {
      "text/html": [
       "<div>\n",
       "<style scoped>\n",
       "    .dataframe tbody tr th:only-of-type {\n",
       "        vertical-align: middle;\n",
       "    }\n",
       "\n",
       "    .dataframe tbody tr th {\n",
       "        vertical-align: top;\n",
       "    }\n",
       "\n",
       "    .dataframe thead th {\n",
       "        text-align: right;\n",
       "    }\n",
       "</style>\n",
       "<table border=\"1\" class=\"dataframe\">\n",
       "  <thead>\n",
       "    <tr style=\"text-align: right;\">\n",
       "      <th></th>\n",
       "      <th>news</th>\n",
       "      <th>label</th>\n",
       "    </tr>\n",
       "  </thead>\n",
       "  <tbody>\n",
       "    <tr>\n",
       "      <th>0</th>\n",
       "      <td>\\tپاکستان کے صوبے پنجاب میں گذشتہ ہفتے ہونے وا...</td>\n",
       "      <td>real</td>\n",
       "    </tr>\n",
       "    <tr>\n",
       "      <th>1</th>\n",
       "      <td>\\tوزیر اعظم عمران خان کے ساجد گوندل کی بازیابی...</td>\n",
       "      <td>real</td>\n",
       "    </tr>\n",
       "    <tr>\n",
       "      <th>2</th>\n",
       "      <td>لاہور(کلچرل رپورٹر)ایشین ایکسی لینس پرفارمنس ا...</td>\n",
       "      <td>fake</td>\n",
       "    </tr>\n",
       "    <tr>\n",
       "      <th>3</th>\n",
       "      <td>امریکی خواتین سوکر اسٹار میگن ریپینو گھٹنوں کے...</td>\n",
       "      <td>fake</td>\n",
       "    </tr>\n",
       "    <tr>\n",
       "      <th>4</th>\n",
       "      <td>\\tوفاق ہو یا صوبے، خیبر پختونخواہ ہو یا پنجاب،...</td>\n",
       "      <td>real</td>\n",
       "    </tr>\n",
       "  </tbody>\n",
       "</table>\n",
       "</div>"
      ],
      "text/plain": [
       "                                                news label\n",
       "0  \\tپاکستان کے صوبے پنجاب میں گذشتہ ہفتے ہونے وا...  real\n",
       "1  \\tوزیر اعظم عمران خان کے ساجد گوندل کی بازیابی...  real\n",
       "2  لاہور(کلچرل رپورٹر)ایشین ایکسی لینس پرفارمنس ا...  fake\n",
       "3  امریکی خواتین سوکر اسٹار میگن ریپینو گھٹنوں کے...  fake\n",
       "4  \\tوفاق ہو یا صوبے، خیبر پختونخواہ ہو یا پنجاب،...  real"
      ]
     },
     "execution_count": 10,
     "metadata": {},
     "output_type": "execute_result"
    }
   ],
   "source": [
    "# data after remiving space and un named column\n",
    "print(df.shape)\n",
    "df.head()"
   ]
  },
  {
   "cell_type": "markdown",
   "metadata": {},
   "source": [
    "# Making Copies of data to impliment strategies"
   ]
  },
  {
   "cell_type": "code",
   "execution_count": 11,
   "metadata": {
    "execution": {
     "iopub.execute_input": "2024-06-10T18:27:35.834605Z",
     "iopub.status.busy": "2024-06-10T18:27:35.833477Z",
     "iopub.status.idle": "2024-06-10T18:27:35.855224Z",
     "shell.execute_reply": "2024-06-10T18:27:35.853974Z",
     "shell.execute_reply.started": "2024-06-10T18:27:35.834559Z"
    }
   },
   "outputs": [
    {
     "name": "stdout",
     "output_type": "stream",
     "text": [
      "data set shape before text geenration  (4097, 2)\n"
     ]
    },
    {
     "data": {
      "text/html": [
       "<div>\n",
       "<style scoped>\n",
       "    .dataframe tbody tr th:only-of-type {\n",
       "        vertical-align: middle;\n",
       "    }\n",
       "\n",
       "    .dataframe tbody tr th {\n",
       "        vertical-align: top;\n",
       "    }\n",
       "\n",
       "    .dataframe thead th {\n",
       "        text-align: right;\n",
       "    }\n",
       "</style>\n",
       "<table border=\"1\" class=\"dataframe\">\n",
       "  <thead>\n",
       "    <tr style=\"text-align: right;\">\n",
       "      <th></th>\n",
       "      <th>news</th>\n",
       "      <th>label</th>\n",
       "    </tr>\n",
       "  </thead>\n",
       "  <tbody>\n",
       "    <tr>\n",
       "      <th>0</th>\n",
       "      <td>\\tپاکستان کے صوبے پنجاب میں گذشتہ ہفتے ہونے وا...</td>\n",
       "      <td>real</td>\n",
       "    </tr>\n",
       "    <tr>\n",
       "      <th>1</th>\n",
       "      <td>\\tوزیر اعظم عمران خان کے ساجد گوندل کی بازیابی...</td>\n",
       "      <td>real</td>\n",
       "    </tr>\n",
       "    <tr>\n",
       "      <th>2</th>\n",
       "      <td>لاہور(کلچرل رپورٹر)ایشین ایکسی لینس پرفارمنس ا...</td>\n",
       "      <td>fake</td>\n",
       "    </tr>\n",
       "    <tr>\n",
       "      <th>3</th>\n",
       "      <td>امریکی خواتین سوکر اسٹار میگن ریپینو گھٹنوں کے...</td>\n",
       "      <td>fake</td>\n",
       "    </tr>\n",
       "    <tr>\n",
       "      <th>4</th>\n",
       "      <td>\\tوفاق ہو یا صوبے، خیبر پختونخواہ ہو یا پنجاب،...</td>\n",
       "      <td>real</td>\n",
       "    </tr>\n",
       "  </tbody>\n",
       "</table>\n",
       "</div>"
      ],
      "text/plain": [
       "                                                news label\n",
       "0  \\tپاکستان کے صوبے پنجاب میں گذشتہ ہفتے ہونے وا...  real\n",
       "1  \\tوزیر اعظم عمران خان کے ساجد گوندل کی بازیابی...  real\n",
       "2  لاہور(کلچرل رپورٹر)ایشین ایکسی لینس پرفارمنس ا...  fake\n",
       "3  امریکی خواتین سوکر اسٹار میگن ریپینو گھٹنوں کے...  fake\n",
       "4  \\tوفاق ہو یا صوبے، خیبر پختونخواہ ہو یا پنجاب،...  real"
      ]
     },
     "execution_count": 11,
     "metadata": {},
     "output_type": "execute_result"
    }
   ],
   "source": [
    "org_data = df.copy()  # copy for applying algos and generating text\n",
    "initial_data = df.copy() # copy for merging sythesis data in it\n",
    "print(\"data set shape before text geenration \",org_data.shape)\n",
    "org_data.head()"
   ]
  },
  {
   "cell_type": "code",
   "execution_count": 12,
   "metadata": {
    "execution": {
     "iopub.execute_input": "2024-06-10T18:27:49.330849Z",
     "iopub.status.busy": "2024-06-10T18:27:49.329903Z",
     "iopub.status.idle": "2024-06-10T18:27:49.904162Z",
     "shell.execute_reply": "2024-06-10T18:27:49.903149Z",
     "shell.execute_reply.started": "2024-06-10T18:27:49.330813Z"
    }
   },
   "outputs": [
    {
     "data": {
      "image/png": "[encoded data removed]",
      "text/plain": [
       "<Figure size 1000x600 with 1 Axes>"
      ]
     },
     "metadata": {},
     "output_type": "display_data"
    }
   ],
   "source": [
    "import matplotlib.pyplot as plt\n",
    "import seaborn as sns\n",
    "from wordcloud import WordCloud\n",
    "\n",
    "#Distribution of Labels\n",
    "plt.figure(figsize=(10, 6))\n",
    "sns.countplot(x='label', data=org_data)\n",
    "plt.title('Distribution of Labels')\n",
    "plt.xlabel('Label')\n",
    "plt.ylabel('Count')\n",
    "plt.show()"
   ]
  },
  {
   "cell_type": "code",
   "execution_count": 13,
   "metadata": {
    "execution": {
     "iopub.execute_input": "2024-06-10T18:28:06.449639Z",
     "iopub.status.busy": "2024-06-10T18:28:06.448966Z",
     "iopub.status.idle": "2024-06-10T18:28:06.640837Z",
     "shell.execute_reply": "2024-06-10T18:28:06.639280Z",
     "shell.execute_reply.started": "2024-06-10T18:28:06.449606Z"
    }
   },
   "outputs": [
    {
     "name": "stdout",
     "output_type": "stream",
     "text": [
      "Percentage of Labels Fake and real : label\n",
      "fake    59.921894\n",
      "real    40.078106\n",
      "Name: count, dtype: float64\n"
     ]
    },
    {
     "data": {
      "image/png": "[encoded data removed]",
      "text/plain": [
       "<Figure size 800x800 with 1 Axes>"
      ]
     },
     "metadata": {},
     "output_type": "display_data"
    }
   ],
   "source": [
    "label_counts = org_data['label'].value_counts()\n",
    "label_percentages = (label_counts / label_counts.sum()) * 100\n",
    "print(\"Percentage of Labels Fake and real :\",label_percentages)\n",
    "# Plot the percentages using a pie chart\n",
    "plt.figure(figsize=(8, 8))\n",
    "plt.pie(label_percentages, labels=label_percentages.index, autopct='%1.1f%%', startangle=140, colors=['#ff9999','#66b3ff'])\n",
    "plt.title('Percentage of Fake and Real News')\n",
    "plt.axis('equal')  # Equal aspect ratio ensures that pie is drawn as a circle.\n",
    "plt.show()"
   ]
  },
  {
   "cell_type": "markdown",
   "metadata": {},
   "source": [
    "# Sampling \n",
    " > as our resources are limited so we will use samopling but by taking in mind our real proportion is maintained"
   ]
  },
  {
   "cell_type": "code",
   "execution_count": 14,
   "metadata": {
    "execution": {
     "iopub.execute_input": "2024-06-10T18:29:35.504722Z",
     "iopub.status.busy": "2024-06-10T18:29:35.503975Z",
     "iopub.status.idle": "2024-06-10T18:29:35.523932Z",
     "shell.execute_reply": "2024-06-10T18:29:35.522990Z",
     "shell.execute_reply.started": "2024-06-10T18:29:35.504687Z"
    }
   },
   "outputs": [
    {
     "name": "stdout",
     "output_type": "stream",
     "text": [
      "label\n",
      "fake    59.921894\n",
      "real    40.078106\n",
      "Name: proportion, dtype: float64\n",
      "label\n",
      "fake    58.0\n",
      "real    42.0\n",
      "Name: proportion, dtype: float64\n"
     ]
    }
   ],
   "source": [
    "import pandas as pd\n",
    "\n",
    "# Calculate the percentage of each label\n",
    "label_percentages = org_data['label'].value_counts(normalize=True) * 100\n",
    "print(label_percentages)\n",
    "\n",
    "# Define the total number of samples you want\n",
    "total_samples = 50  # Change this to your desired number of samples\n",
    "\n",
    "# Calculate the number of samples for each label\n",
    "num_fake_samples = int(total_samples * (label_percentages['fake'] / 100))\n",
    "num_real_samples = total_samples - num_fake_samples\n",
    "\n",
    "# Sample the required number of fake and real news\n",
    "fake_samples = org_data[org_data['label'] == 'fake'].sample(num_fake_samples, random_state=42)\n",
    "real_samples = org_data[org_data['label'] == 'real'].sample(num_real_samples, random_state=42)\n",
    "\n",
    "# Concatenate the samples to create the final dataset\n",
    "sampled_data = pd.concat([fake_samples, real_samples]).reset_index(drop=True)\n",
    "\n",
    "# Verify the new dataset\n",
    "print(sampled_data['label'].value_counts(normalize=True) * 100)\n",
    "\n",
    "# Now you can proceed with further analysis or machine learning tasks on the sampled_data\n"
   ]
  },
  {
   "cell_type": "code",
   "execution_count": 15,
   "metadata": {
    "execution": {
     "iopub.execute_input": "2024-06-10T18:30:47.807470Z",
     "iopub.status.busy": "2024-06-10T18:30:47.806988Z",
     "iopub.status.idle": "2024-06-10T18:30:47.813538Z",
     "shell.execute_reply": "2024-06-10T18:30:47.812633Z",
     "shell.execute_reply.started": "2024-06-10T18:30:47.807439Z"
    }
   },
   "outputs": [],
   "source": [
    "sampled_data = sampled_data.sample(frac=1, random_state=42).reset_index(drop=True)\n",
    "org_data=sampled_data.copy()"
   ]
  },
  {
   "cell_type": "code",
   "execution_count": 17,
   "metadata": {
    "execution": {
     "iopub.execute_input": "2024-06-10T18:31:23.186723Z",
     "iopub.status.busy": "2024-06-10T18:31:23.186257Z",
     "iopub.status.idle": "2024-06-10T18:31:23.197087Z",
     "shell.execute_reply": "2024-06-10T18:31:23.196243Z",
     "shell.execute_reply.started": "2024-06-10T18:31:23.186658Z"
    }
   },
   "outputs": [
    {
     "name": "stdout",
     "output_type": "stream",
     "text": [
      "(50, 2)\n"
     ]
    },
    {
     "data": {
      "text/html": [
       "<div>\n",
       "<style scoped>\n",
       "    .dataframe tbody tr th:only-of-type {\n",
       "        vertical-align: middle;\n",
       "    }\n",
       "\n",
       "    .dataframe tbody tr th {\n",
       "        vertical-align: top;\n",
       "    }\n",
       "\n",
       "    .dataframe thead th {\n",
       "        text-align: right;\n",
       "    }\n",
       "</style>\n",
       "<table border=\"1\" class=\"dataframe\">\n",
       "  <thead>\n",
       "    <tr style=\"text-align: right;\">\n",
       "      <th></th>\n",
       "      <th>news</th>\n",
       "      <th>label</th>\n",
       "    </tr>\n",
       "  </thead>\n",
       "  <tbody>\n",
       "    <tr>\n",
       "      <th>0</th>\n",
       "      <td>شام میں امریکہ کی زیرقیادت فضائی حملوں میں 7 ا...</td>\n",
       "      <td>fake</td>\n",
       "    </tr>\n",
       "    <tr>\n",
       "      <th>1</th>\n",
       "      <td>کورونا وائرس کے باعث سالِ نو پر سڈنی میں عوامی...</td>\n",
       "      <td>real</td>\n",
       "    </tr>\n",
       "    <tr>\n",
       "      <th>2</th>\n",
       "      <td>\\tپاکستان میں آن لائن قربانی کا تجربہ کچھ لوگو...</td>\n",
       "      <td>real</td>\n",
       "    </tr>\n",
       "    <tr>\n",
       "      <th>3</th>\n",
       "      <td>وائرس میں تبدیلی کے ساتھ وبا کی دوسری لہر زیاد...</td>\n",
       "      <td>real</td>\n",
       "    </tr>\n",
       "    <tr>\n",
       "      <th>4</th>\n",
       "      <td>مدارس نے درس نظامی کے کورس کے دورانیہ کو چھ سا...</td>\n",
       "      <td>fake</td>\n",
       "    </tr>\n",
       "  </tbody>\n",
       "</table>\n",
       "</div>"
      ],
      "text/plain": [
       "                                                news label\n",
       "0  شام میں امریکہ کی زیرقیادت فضائی حملوں میں 7 ا...  fake\n",
       "1  کورونا وائرس کے باعث سالِ نو پر سڈنی میں عوامی...  real\n",
       "2  \\tپاکستان میں آن لائن قربانی کا تجربہ کچھ لوگو...  real\n",
       "3  وائرس میں تبدیلی کے ساتھ وبا کی دوسری لہر زیاد...  real\n",
       "4  مدارس نے درس نظامی کے کورس کے دورانیہ کو چھ سا...  fake"
      ]
     },
     "execution_count": 17,
     "metadata": {},
     "output_type": "execute_result"
    }
   ],
   "source": [
    "print(org_data.shape)\n",
    "org_data.head()\n"
   ]
  },
  {
   "cell_type": "markdown",
   "metadata": {},
   "source": [
    "# getting Cleaned text and tokenize data \n",
    " 1. Cleaned text for applying machine learning algos \n",
    " 2. tokens for using in generating text"
   ]
  },
  {
   "cell_type": "code",
   "execution_count": 18,
   "metadata": {
    "execution": {
     "iopub.execute_input": "2024-06-10T18:32:30.959067Z",
     "iopub.status.busy": "2024-06-10T18:32:30.958701Z",
     "iopub.status.idle": "2024-06-10T18:34:53.280873Z",
     "shell.execute_reply": "2024-06-10T18:34:53.279911Z",
     "shell.execute_reply.started": "2024-06-10T18:32:30.959038Z"
    }
   },
   "outputs": [
    {
     "name": "stdout",
     "output_type": "stream",
     "text": [
      "21/21 [==============================] - 10s 152ms/step\n",
      "2/2 [==============================] - 0s 113ms/step\n",
      "4/4 [==============================] - 2s 465ms/step\n",
      "3/3 [==============================] - 1s 460ms/step\n",
      "3/3 [==============================] - 1s 539ms/step\n",
      "4/4 [==============================] - 1s 395ms/step\n",
      "3/3 [==============================] - 0s 103ms/step\n",
      "31/31 [==============================] - 4s 131ms/step\n",
      "22/22 [==============================] - 3s 142ms/step\n",
      "4/4 [==============================] - 1s 390ms/step\n",
      "14/14 [==============================] - 3s 189ms/step\n",
      "4/4 [==============================] - 1s 425ms/step\n",
      "7/7 [==============================] - 2s 275ms/step\n",
      "7/7 [==============================] - 1s 227ms/step\n",
      "5/5 [==============================] - 1s 278ms/step\n",
      "45/45 [==============================] - 6s 128ms/step\n",
      "4/4 [==============================] - 0s 113ms/step\n",
      "7/7 [==============================] - 1s 111ms/step\n",
      "13/13 [==============================] - 2s 183ms/step\n",
      "55/55 [==============================] - 7s 129ms/step\n",
      "2/2 [==============================] - 0s 112ms/step\n",
      "3/3 [==============================] - 0s 113ms/step\n",
      "85/85 [==============================] - 10s 118ms/step\n",
      "17/17 [==============================] - 2s 107ms/step\n",
      "4/4 [==============================] - 0s 105ms/step\n",
      "44/44 [==============================] - 5s 110ms/step\n",
      "5/5 [==============================] - 1s 293ms/step\n",
      "106/106 [==============================] - 12s 111ms/step\n",
      "4/4 [==============================] - 0s 115ms/step\n",
      "9/9 [==============================] - 1s 110ms/step\n",
      "8/8 [==============================] - 1s 108ms/step\n",
      "147/147 [==============================] - 17s 114ms/step\n",
      "8/8 [==============================] - 2s 205ms/step\n",
      "33/33 [==============================] - 4s 111ms/step\n",
      "9/9 [==============================] - 1s 107ms/step\n",
      "5/5 [==============================] - 1s 116ms/step\n",
      "7/7 [==============================] - 2s 278ms/step\n",
      "4/4 [==============================] - 0s 104ms/step\n",
      "29/29 [==============================] - 3s 110ms/step\n",
      "2/2 [==============================] - 0s 104ms/step\n",
      "5/5 [==============================] - 1s 110ms/step\n",
      "57/57 [==============================] - 6s 112ms/step\n",
      "3/3 [==============================] - 0s 113ms/step\n",
      "7/7 [==============================] - 2s 282ms/step\n",
      "37/37 [==============================] - 4s 107ms/step\n",
      "9/9 [==============================] - 1s 106ms/step\n",
      "6/6 [==============================] - 1s 110ms/step\n",
      "48/48 [==============================] - 6s 128ms/step\n",
      "5/5 [==============================] - 1s 107ms/step\n",
      "13/13 [==============================] - 1s 109ms/step\n"
     ]
    }
   ],
   "source": [
    "# Apply the preprocessing function to the news column\n",
    "org_data[['cleaned_news', 'tokens']] = org_data['news'].apply(lambda x: pd.Series(preprocess_text_algos(x)))\n"
   ]
  },
  {
   "cell_type": "code",
   "execution_count": 21,
   "metadata": {
    "execution": {
     "iopub.execute_input": "2024-06-10T18:36:17.321903Z",
     "iopub.status.busy": "2024-06-10T18:36:17.321073Z",
     "iopub.status.idle": "2024-06-10T18:36:17.339143Z",
     "shell.execute_reply": "2024-06-10T18:36:17.338094Z",
     "shell.execute_reply.started": "2024-06-10T18:36:17.321860Z"
    }
   },
   "outputs": [
    {
     "name": "stdout",
     "output_type": "stream",
     "text": [
      "(50, 4)\n"
     ]
    },
    {
     "data": {
      "text/html": [
       "<div>\n",
       "<style scoped>\n",
       "    .dataframe tbody tr th:only-of-type {\n",
       "        vertical-align: middle;\n",
       "    }\n",
       "\n",
       "    .dataframe tbody tr th {\n",
       "        vertical-align: top;\n",
       "    }\n",
       "\n",
       "    .dataframe thead th {\n",
       "        text-align: right;\n",
       "    }\n",
       "</style>\n",
       "<table border=\"1\" class=\"dataframe\">\n",
       "  <thead>\n",
       "    <tr style=\"text-align: right;\">\n",
       "      <th></th>\n",
       "      <th>news</th>\n",
       "      <th>label</th>\n",
       "      <th>cleaned_news</th>\n",
       "      <th>tokens</th>\n",
       "    </tr>\n",
       "  </thead>\n",
       "  <tbody>\n",
       "    <tr>\n",
       "      <th>0</th>\n",
       "      <td>شام میں امریکہ کی زیرقیادت فضائی حملوں میں 7 ا...</td>\n",
       "      <td>fake</td>\n",
       "      <td>شام امریکہ زیر قیادت فضائی حملوں 7 النصرہ گن م...</td>\n",
       "      <td>[شام, امریکہ, زیر, قیادت, فضائی, حملوں, 7, الن...</td>\n",
       "    </tr>\n",
       "    <tr>\n",
       "      <th>1</th>\n",
       "      <td>کورونا وائرس کے باعث سالِ نو پر سڈنی میں عوامی...</td>\n",
       "      <td>real</td>\n",
       "      <td>کورونا وائرس باعث سال نو سڈنی عوامی اجتماعات پ...</td>\n",
       "      <td>[کورونا, وائرس, باعث, سال, نو, سڈنی, عوامی, اج...</td>\n",
       "    </tr>\n",
       "    <tr>\n",
       "      <th>2</th>\n",
       "      <td>\\tپاکستان میں آن لائن قربانی کا تجربہ کچھ لوگو...</td>\n",
       "      <td>real</td>\n",
       "      <td>پاکستان آن لائن قربانی تجربہ کچھ لوگوں لیے مثب...</td>\n",
       "      <td>[پاکستان, آن, لائن, قربانی, تجربہ, کچھ, لوگوں,...</td>\n",
       "    </tr>\n",
       "    <tr>\n",
       "      <th>3</th>\n",
       "      <td>وائرس میں تبدیلی کے ساتھ وبا کی دوسری لہر زیاد...</td>\n",
       "      <td>real</td>\n",
       "      <td>وائرس تبدیلی ساتھ وبا دوسری لہر زیادہ مہلک ہون...</td>\n",
       "      <td>[وائرس, تبدیلی, ساتھ, وبا, دوسری, لہر, زیادہ, ...</td>\n",
       "    </tr>\n",
       "    <tr>\n",
       "      <th>4</th>\n",
       "      <td>مدارس نے درس نظامی کے کورس کے دورانیہ کو چھ سا...</td>\n",
       "      <td>fake</td>\n",
       "      <td>مدارس نے درس نظامی کورس دورانیہ چھ سال بجا ئے ...</td>\n",
       "      <td>[مدارس, نے, درس, نظامی, کورس, دورانیہ, چھ, سال...</td>\n",
       "    </tr>\n",
       "  </tbody>\n",
       "</table>\n",
       "</div>"
      ],
      "text/plain": [
       "                                                news label  \\\n",
       "0  شام میں امریکہ کی زیرقیادت فضائی حملوں میں 7 ا...  fake   \n",
       "1  کورونا وائرس کے باعث سالِ نو پر سڈنی میں عوامی...  real   \n",
       "2  \\tپاکستان میں آن لائن قربانی کا تجربہ کچھ لوگو...  real   \n",
       "3  وائرس میں تبدیلی کے ساتھ وبا کی دوسری لہر زیاد...  real   \n",
       "4  مدارس نے درس نظامی کے کورس کے دورانیہ کو چھ سا...  fake   \n",
       "\n",
       "                                        cleaned_news  \\\n",
       "0  شام امریکہ زیر قیادت فضائی حملوں 7 النصرہ گن م...   \n",
       "1  کورونا وائرس باعث سال نو سڈنی عوامی اجتماعات پ...   \n",
       "2  پاکستان آن لائن قربانی تجربہ کچھ لوگوں لیے مثب...   \n",
       "3  وائرس تبدیلی ساتھ وبا دوسری لہر زیادہ مہلک ہون...   \n",
       "4  مدارس نے درس نظامی کورس دورانیہ چھ سال بجا ئے ...   \n",
       "\n",
       "                                              tokens  \n",
       "0  [شام, امریکہ, زیر, قیادت, فضائی, حملوں, 7, الن...  \n",
       "1  [کورونا, وائرس, باعث, سال, نو, سڈنی, عوامی, اج...  \n",
       "2  [پاکستان, آن, لائن, قربانی, تجربہ, کچھ, لوگوں,...  \n",
       "3  [وائرس, تبدیلی, ساتھ, وبا, دوسری, لہر, زیادہ, ...  \n",
       "4  [مدارس, نے, درس, نظامی, کورس, دورانیہ, چھ, سال...  "
      ]
     },
     "execution_count": 21,
     "metadata": {},
     "output_type": "execute_result"
    }
   ],
   "source": [
    "print(org_data.shape)\n",
    "org_data.head()"
   ]
  },
  {
   "cell_type": "markdown",
   "metadata": {},
   "source": [
    "# Data Splitting for Models"
   ]
  },
  {
   "cell_type": "code",
   "execution_count": 22,
   "metadata": {
    "execution": {
     "iopub.execute_input": "2024-06-10T18:39:23.925650Z",
     "iopub.status.busy": "2024-06-10T18:39:23.924861Z",
     "iopub.status.idle": "2024-06-10T18:39:23.953607Z",
     "shell.execute_reply": "2024-06-10T18:39:23.952713Z",
     "shell.execute_reply.started": "2024-06-10T18:39:23.925619Z"
    }
   },
   "outputs": [],
   "source": [
    " #Feature extraction using TF-IDF\n",
    "vectorizer = TfidfVectorizer()\n",
    "X = vectorizer.fit_transform(org_data['cleaned_news'])\n",
    "\n",
    "# Label encoding\n",
    "label_encoder = LabelEncoder()\n",
    "y = label_encoder.fit_transform(org_data['label'])\n",
    "\n",
    "# Train-test split\n",
    "X_train, X_test, y_train, y_test = train_test_split(X, y, test_size=0.2, random_state=42, stratify=y)"
   ]
  },
  {
   "cell_type": "code",
   "execution_count": 23,
   "metadata": {
    "execution": {
     "iopub.execute_input": "2024-06-10T18:39:43.609441Z",
     "iopub.status.busy": "2024-06-10T18:39:43.608783Z",
     "iopub.status.idle": "2024-06-10T18:39:43.782245Z",
     "shell.execute_reply": "2024-06-10T18:39:43.781268Z",
     "shell.execute_reply.started": "2024-06-10T18:39:43.609409Z"
    }
   },
   "outputs": [
    {
     "name": "stdout",
     "output_type": "stream",
     "text": [
      "Applying ad aboost before text Generation\n",
      "Accuracy: (ada boost before Text-Generation) 0.3\n",
      "              precision    recall  f1-score   support\n",
      "\n",
      "        fake       0.33      0.17      0.22         6\n",
      "        real       0.29      0.50      0.36         4\n",
      "\n",
      "    accuracy                           0.30        10\n",
      "   macro avg       0.31      0.33      0.29        10\n",
      "weighted avg       0.31      0.30      0.28        10\n",
      "\n"
     ]
    },
    {
     "data": {
      "text/html": [
       "<div>\n",
       "<style scoped>\n",
       "    .dataframe tbody tr th:only-of-type {\n",
       "        vertical-align: middle;\n",
       "    }\n",
       "\n",
       "    .dataframe tbody tr th {\n",
       "        vertical-align: top;\n",
       "    }\n",
       "\n",
       "    .dataframe thead th {\n",
       "        text-align: right;\n",
       "    }\n",
       "</style>\n",
       "<table border=\"1\" class=\"dataframe\">\n",
       "  <thead>\n",
       "    <tr style=\"text-align: right;\">\n",
       "      <th></th>\n",
       "      <th>Model</th>\n",
       "      <th>Accuracy</th>\n",
       "      <th>F1 Score</th>\n",
       "      <th>Recall</th>\n",
       "      <th>Precision</th>\n",
       "    </tr>\n",
       "  </thead>\n",
       "  <tbody>\n",
       "    <tr>\n",
       "      <th>0</th>\n",
       "      <td>ada boost before Text-Generation</td>\n",
       "      <td>0.3</td>\n",
       "      <td>0.278788</td>\n",
       "      <td>0.3</td>\n",
       "      <td>0.314286</td>\n",
       "    </tr>\n",
       "  </tbody>\n",
       "</table>\n",
       "</div>"
      ],
      "text/plain": [
       "                              Model  Accuracy  F1 Score  Recall  Precision\n",
       "0  ada boost before Text-Generation       0.3  0.278788     0.3   0.314286"
      ]
     },
     "execution_count": 23,
     "metadata": {},
     "output_type": "execute_result"
    }
   ],
   "source": [
    "# applying Adaboost before text generation\n",
    "# AdaBoost implementation\n",
    "\n",
    "print(\"Applying ad aboost before text Generation\")\n",
    "model = AdaBoostClassifier(n_estimators=50, random_state=42)\n",
    "model.fit(X_train, y_train)\n",
    "\n",
    "# Predictions and evaluation\n",
    "y_pred = model.predict(X_test)\n",
    "print(\"Accuracy: (ada boost before Text-Generation)\", accuracy_score(y_test, y_pred))\n",
    "print(classification_report(y_test, y_pred, target_names=label_encoder.classes_, zero_division=0))\n",
    "store_results(\"ada boost before Text-Generation\",y_test,y_pred)\n",
    "\n"
   ]
  },
  {
   "cell_type": "code",
   "execution_count": 24,
   "metadata": {
    "execution": {
     "iopub.execute_input": "2024-06-10T18:40:17.733398Z",
     "iopub.status.busy": "2024-06-10T18:40:17.733035Z",
     "iopub.status.idle": "2024-06-10T18:41:16.569007Z",
     "shell.execute_reply": "2024-06-10T18:41:16.568006Z",
     "shell.execute_reply.started": "2024-06-10T18:40:17.733368Z"
    }
   },
   "outputs": [
    {
     "name": "stdout",
     "output_type": "stream",
     "text": [
      "Best Parameters: {'estimator__max_depth': 3, 'learning_rate': 1.0, 'n_estimators': 50}\n",
      "Accuracy: (Hyper ada boost before Text-Generation) 0.4\n",
      "              precision    recall  f1-score   support\n",
      "\n",
      "           0       0.50      0.17      0.25         6\n",
      "           1       0.38      0.75      0.50         4\n",
      "\n",
      "    accuracy                           0.40        10\n",
      "   macro avg       0.44      0.46      0.38        10\n",
      "weighted avg       0.45      0.40      0.35        10\n",
      "\n"
     ]
    },
    {
     "data": {
      "text/html": [
       "<div>\n",
       "<style scoped>\n",
       "    .dataframe tbody tr th:only-of-type {\n",
       "        vertical-align: middle;\n",
       "    }\n",
       "\n",
       "    .dataframe tbody tr th {\n",
       "        vertical-align: top;\n",
       "    }\n",
       "\n",
       "    .dataframe thead th {\n",
       "        text-align: right;\n",
       "    }\n",
       "</style>\n",
       "<table border=\"1\" class=\"dataframe\">\n",
       "  <thead>\n",
       "    <tr style=\"text-align: right;\">\n",
       "      <th></th>\n",
       "      <th>Model</th>\n",
       "      <th>Accuracy</th>\n",
       "      <th>F1 Score</th>\n",
       "      <th>Recall</th>\n",
       "      <th>Precision</th>\n",
       "    </tr>\n",
       "  </thead>\n",
       "  <tbody>\n",
       "    <tr>\n",
       "      <th>0</th>\n",
       "      <td>Hyper ada boost before Text-Generation</td>\n",
       "      <td>0.4</td>\n",
       "      <td>0.35</td>\n",
       "      <td>0.4</td>\n",
       "      <td>0.45</td>\n",
       "    </tr>\n",
       "  </tbody>\n",
       "</table>\n",
       "</div>"
      ],
      "text/plain": [
       "                                    Model  Accuracy  F1 Score  Recall  \\\n",
       "0  Hyper ada boost before Text-Generation       0.4      0.35     0.4   \n",
       "\n",
       "   Precision  \n",
       "0       0.45  "
      ]
     },
     "execution_count": 24,
     "metadata": {},
     "output_type": "execute_result"
    }
   ],
   "source": [
    "# Ada boost Hyper before text generation\n",
    "from sklearn.ensemble import AdaBoostClassifier\n",
    "from sklearn.tree import DecisionTreeClassifier\n",
    "from sklearn.model_selection import GridSearchCV\n",
    "from sklearn.metrics import accuracy_score, classification_report\n",
    "from sklearn.preprocessing import LabelEncoder\n",
    "import pandas as pd\n",
    "\n",
    "# Assuming X_train, X_test, y_train, y_test, and combined_df are already defined\n",
    "\n",
    "# Define the parameter grid for Grid Search\n",
    "param_grid = {\n",
    "    'n_estimators': [50, 100, 200],\n",
    "    'learning_rate': [0.01, 0.1, 1.0],\n",
    "    'estimator__max_depth': [1, 2, 3, 4, 5]\n",
    "}\n",
    "\n",
    "# Initialize the base estimator\n",
    "base_estimator = DecisionTreeClassifier(random_state=42)\n",
    "\n",
    "# Initialize the AdaBoostClassifier with the correct parameter name\n",
    "model = AdaBoostClassifier(estimator=base_estimator, random_state=42)\n",
    "\n",
    "# Initialize Grid Search with cross-validation\n",
    "grid_search = GridSearchCV(estimator=model, param_grid=param_grid, cv=5, scoring='accuracy')\n",
    "\n",
    "# Fit the model\n",
    "grid_search.fit(X_train, y_train)\n",
    "\n",
    "# Get the best estimator\n",
    "best_model = grid_search.best_estimator_\n",
    "\n",
    "# Predictions and evaluation\n",
    "y_pred = best_model.predict(X_test)\n",
    "print(\"Best Parameters:\", grid_search.best_params_)\n",
    "print(\"Accuracy: (Hyper ada boost before Text-Generation)\", accuracy_score(y_test, y_pred))\n",
    "print(classification_report(y_test, y_pred, zero_division=0))\n",
    "\n",
    "\n",
    "store_results(\"Hyper ada boost before Text-Generation\",y_test,y_pred)\n",
    "\n"
   ]
  },
  {
   "cell_type": "code",
   "execution_count": 25,
   "metadata": {
    "execution": {
     "iopub.execute_input": "2024-06-10T18:42:09.335258Z",
     "iopub.status.busy": "2024-06-10T18:42:09.334586Z",
     "iopub.status.idle": "2024-06-10T18:42:09.525750Z",
     "shell.execute_reply": "2024-06-10T18:42:09.524808Z",
     "shell.execute_reply.started": "2024-06-10T18:42:09.335228Z"
    }
   },
   "outputs": [
    {
     "name": "stdout",
     "output_type": "stream",
     "text": [
      "Gradient Boosting Classification Report:\n",
      "               precision    recall  f1-score   support\n",
      "\n",
      "           0       0.33      0.17      0.22         6\n",
      "           1       0.29      0.50      0.36         4\n",
      "\n",
      "    accuracy                           0.30        10\n",
      "   macro avg       0.31      0.33      0.29        10\n",
      "weighted avg       0.31      0.30      0.28        10\n",
      "\n",
      "Gradient Boosting Accuracy:(G-boost before Text-Generation) 0.3\n"
     ]
    },
    {
     "data": {
      "text/html": [
       "<div>\n",
       "<style scoped>\n",
       "    .dataframe tbody tr th:only-of-type {\n",
       "        vertical-align: middle;\n",
       "    }\n",
       "\n",
       "    .dataframe tbody tr th {\n",
       "        vertical-align: top;\n",
       "    }\n",
       "\n",
       "    .dataframe thead th {\n",
       "        text-align: right;\n",
       "    }\n",
       "</style>\n",
       "<table border=\"1\" class=\"dataframe\">\n",
       "  <thead>\n",
       "    <tr style=\"text-align: right;\">\n",
       "      <th></th>\n",
       "      <th>Model</th>\n",
       "      <th>Accuracy</th>\n",
       "      <th>F1 Score</th>\n",
       "      <th>Recall</th>\n",
       "      <th>Precision</th>\n",
       "    </tr>\n",
       "  </thead>\n",
       "  <tbody>\n",
       "    <tr>\n",
       "      <th>0</th>\n",
       "      <td>G-boost before Text-Generation</td>\n",
       "      <td>0.4</td>\n",
       "      <td>0.35</td>\n",
       "      <td>0.4</td>\n",
       "      <td>0.45</td>\n",
       "    </tr>\n",
       "  </tbody>\n",
       "</table>\n",
       "</div>"
      ],
      "text/plain": [
       "                            Model  Accuracy  F1 Score  Recall  Precision\n",
       "0  G-boost before Text-Generation       0.4      0.35     0.4       0.45"
      ]
     },
     "execution_count": 25,
     "metadata": {},
     "output_type": "execute_result"
    }
   ],
   "source": [
    "# applying G boost before text geenration \n",
    "from sklearn.ensemble import GradientBoostingClassifier\n",
    "from sklearn.metrics import classification_report, accuracy_score\n",
    "\n",
    "# Train and evaluate GBoost\n",
    "gboost = GradientBoostingClassifier()\n",
    "gboost.fit(X_train, y_train)\n",
    "y_pred_gboost = gboost.predict(X_test)\n",
    "print(\"Gradient Boosting Classification Report:\\n\", classification_report(y_test, y_pred_gboost))\n",
    "print(\"Gradient Boosting Accuracy:(G-boost before Text-Generation)\", accuracy_score(y_test, y_pred_gboost))\n",
    "\n",
    "store_results(\"G-boost before Text-Generation\",y_test,y_pred)"
   ]
  },
  {
   "cell_type": "code",
   "execution_count": 26,
   "metadata": {
    "execution": {
     "iopub.execute_input": "2024-06-10T18:42:25.276069Z",
     "iopub.status.busy": "2024-06-10T18:42:25.275155Z",
     "iopub.status.idle": "2024-06-10T18:44:13.344843Z",
     "shell.execute_reply": "2024-06-10T18:44:13.343804Z",
     "shell.execute_reply.started": "2024-06-10T18:42:25.276035Z"
    }
   },
   "outputs": [
    {
     "name": "stderr",
     "output_type": "stream",
     "text": [
      "/opt/conda/lib/python3.10/site-packages/joblib/externals/loky/backend/fork_exec.py:38: RuntimeWarning: os.fork() was called. os.fork() is incompatible with multithreaded code, and JAX is multithreaded, so this will likely lead to a deadlock.\n",
      "  pid = os.fork()\n",
      "/opt/conda/lib/python3.10/site-packages/joblib/externals/loky/backend/fork_exec.py:38: RuntimeWarning: os.fork() was called. os.fork() is incompatible with multithreaded code, and JAX is multithreaded, so this will likely lead to a deadlock.\n",
      "  pid = os.fork()\n"
     ]
    },
    {
     "name": "stdout",
     "output_type": "stream",
     "text": [
      "Best Parameters: {'learning_rate': 0.1, 'max_depth': 3, 'max_features': 'log2', 'n_estimators': 100, 'subsample': 1.0}\n",
      "Gradient Boosting Classification Report:\n",
      "               precision    recall  f1-score   support\n",
      "\n",
      "           0       0.67      0.67      0.67         6\n",
      "           1       0.50      0.50      0.50         4\n",
      "\n",
      "    accuracy                           0.60        10\n",
      "   macro avg       0.58      0.58      0.58        10\n",
      "weighted avg       0.60      0.60      0.60        10\n",
      "\n",
      "Gradient Boosting Accuracy :(Hyper G boost before text Gen) 0.6\n"
     ]
    },
    {
     "data": {
      "text/html": [
       "<div>\n",
       "<style scoped>\n",
       "    .dataframe tbody tr th:only-of-type {\n",
       "        vertical-align: middle;\n",
       "    }\n",
       "\n",
       "    .dataframe tbody tr th {\n",
       "        vertical-align: top;\n",
       "    }\n",
       "\n",
       "    .dataframe thead th {\n",
       "        text-align: right;\n",
       "    }\n",
       "</style>\n",
       "<table border=\"1\" class=\"dataframe\">\n",
       "  <thead>\n",
       "    <tr style=\"text-align: right;\">\n",
       "      <th></th>\n",
       "      <th>Model</th>\n",
       "      <th>Accuracy</th>\n",
       "      <th>F1 Score</th>\n",
       "      <th>Recall</th>\n",
       "      <th>Precision</th>\n",
       "    </tr>\n",
       "  </thead>\n",
       "  <tbody>\n",
       "    <tr>\n",
       "      <th>0</th>\n",
       "      <td>Hyper G boost before text Gen</td>\n",
       "      <td>0.4</td>\n",
       "      <td>0.35</td>\n",
       "      <td>0.4</td>\n",
       "      <td>0.45</td>\n",
       "    </tr>\n",
       "  </tbody>\n",
       "</table>\n",
       "</div>"
      ],
      "text/plain": [
       "                           Model  Accuracy  F1 Score  Recall  Precision\n",
       "0  Hyper G boost before text Gen       0.4      0.35     0.4       0.45"
      ]
     },
     "execution_count": 26,
     "metadata": {},
     "output_type": "execute_result"
    }
   ],
   "source": [
    "# para meter tuning of Gboost \n",
    "from sklearn.ensemble import GradientBoostingClassifier\n",
    "from sklearn.model_selection import GridSearchCV\n",
    "from sklearn.metrics import classification_report, accuracy_score\n",
    "\n",
    "# Define the parameter grid for Grid Search\n",
    "param_grid = {\n",
    "    'n_estimators': [100, 200, 300],\n",
    "    'learning_rate': [0.01, 0.1, 0.2],\n",
    "    'max_depth': [3, 4, 5],\n",
    "    'subsample': [0.8, 0.9, 1.0],\n",
    "    'max_features': ['sqrt', 'log2', None]\n",
    "}\n",
    "\n",
    "# Initialize the GradientBoostingClassifier\n",
    "gboost = GradientBoostingClassifier(random_state=42)\n",
    "\n",
    "# Initialize Grid Search with cross-validation\n",
    "grid_search = GridSearchCV(estimator=gboost, param_grid=param_grid, cv=5, scoring='accuracy', n_jobs=-1)\n",
    "\n",
    "# Fit the model\n",
    "grid_search.fit(X_train, y_train)\n",
    "\n",
    "# Get the best estimator\n",
    "best_model = grid_search.best_estimator_\n",
    "\n",
    "# Predictions and evaluation\n",
    "y_pred_gboost = best_model.predict(X_test)\n",
    "print(\"Best Parameters:\", grid_search.best_params_)\n",
    "print(\"Gradient Boosting Classification Report:\\n\", classification_report(y_test, y_pred_gboost, zero_division=0))\n",
    "print(\"Gradient Boosting Accuracy :(Hyper G boost before text Gen)\", accuracy_score(y_test, y_pred_gboost))\n",
    "store_results(\"Hyper G boost before text Gen\",y_test,y_pred)"
   ]
  },
  {
   "cell_type": "code",
   "execution_count": 27,
   "metadata": {
    "execution": {
     "iopub.execute_input": "2024-06-10T18:44:57.053652Z",
     "iopub.status.busy": "2024-06-10T18:44:57.052895Z",
     "iopub.status.idle": "2024-06-10T18:45:38.444228Z",
     "shell.execute_reply": "2024-06-10T18:45:38.443301Z",
     "shell.execute_reply.started": "2024-06-10T18:44:57.053612Z"
    }
   },
   "outputs": [
    {
     "name": "stdout",
     "output_type": "stream",
     "text": [
      "Best Parameters: {'colsample_bytree': 0.9, 'learning_rate': 0.1, 'max_depth': 3, 'n_estimators': 100, 'subsample': 0.8}\n",
      "XGBoost Classification Report:\n",
      "               precision    recall  f1-score   support\n",
      "\n",
      "           0       0.33      0.17      0.22         6\n",
      "           1       0.29      0.50      0.36         4\n",
      "\n",
      "    accuracy                           0.30        10\n",
      "   macro avg       0.31      0.33      0.29        10\n",
      "weighted avg       0.31      0.30      0.28        10\n",
      "\n",
      "XGBoost Accuracy:( Hyper XGB before Text Generation ) 0.3\n"
     ]
    },
    {
     "data": {
      "text/html": [
       "<div>\n",
       "<style scoped>\n",
       "    .dataframe tbody tr th:only-of-type {\n",
       "        vertical-align: middle;\n",
       "    }\n",
       "\n",
       "    .dataframe tbody tr th {\n",
       "        vertical-align: top;\n",
       "    }\n",
       "\n",
       "    .dataframe thead th {\n",
       "        text-align: right;\n",
       "    }\n",
       "</style>\n",
       "<table border=\"1\" class=\"dataframe\">\n",
       "  <thead>\n",
       "    <tr style=\"text-align: right;\">\n",
       "      <th></th>\n",
       "      <th>Model</th>\n",
       "      <th>Accuracy</th>\n",
       "      <th>F1 Score</th>\n",
       "      <th>Recall</th>\n",
       "      <th>Precision</th>\n",
       "    </tr>\n",
       "  </thead>\n",
       "  <tbody>\n",
       "    <tr>\n",
       "      <th>0</th>\n",
       "      <td>Hyper XGB before Text Generation</td>\n",
       "      <td>0.4</td>\n",
       "      <td>0.35</td>\n",
       "      <td>0.4</td>\n",
       "      <td>0.45</td>\n",
       "    </tr>\n",
       "  </tbody>\n",
       "</table>\n",
       "</div>"
      ],
      "text/plain": [
       "                              Model  Accuracy  F1 Score  Recall  Precision\n",
       "0  Hyper XGB before Text Generation       0.4      0.35     0.4       0.45"
      ]
     },
     "execution_count": 27,
     "metadata": {},
     "output_type": "execute_result"
    }
   ],
   "source": [
    "# parameter tuning for Xgboost befor text generation\n",
    "import xgboost as xgb\n",
    "from sklearn.model_selection import GridSearchCV\n",
    "from sklearn.metrics import classification_report, accuracy_score\n",
    "\n",
    "# Define the parameter grid for Grid Search\n",
    "param_grid = {\n",
    "    'n_estimators': [100, 200, 300],\n",
    "    'learning_rate': [0.01, 0.1, 0.2],\n",
    "    'max_depth': [3, 4, 5],\n",
    "    'subsample': [0.8, 0.9, 1.0],\n",
    "    'colsample_bytree': [0.8, 0.9, 1.0]\n",
    "}\n",
    "\n",
    "# Initialize the XGBClassifier\n",
    "xgb_model = xgb.XGBClassifier(use_label_encoder=False, eval_metric='mlogloss', random_state=42)\n",
    "\n",
    "# Initialize Grid Search with cross-validation\n",
    "grid_search = GridSearchCV(estimator=xgb_model, param_grid=param_grid, cv=5, scoring='accuracy', n_jobs=-1)\n",
    "\n",
    "# Fit the model\n",
    "grid_search.fit(X_train, y_train)\n",
    "\n",
    "# Get the best estimator\n",
    "best_model = grid_search.best_estimator_\n",
    "\n",
    "# Predictions and evaluation\n",
    "y_pred_xgb = best_model.predict(X_test)\n",
    "print(\"Best Parameters:\", grid_search.best_params_)\n",
    "print(\"XGBoost Classification Report:\\n\", classification_report(y_test, y_pred_xgb, zero_division=0))\n",
    "print(\"XGBoost Accuracy:( Hyper XGB before Text Generation )\", accuracy_score(y_test, y_pred_xgb))\n",
    "store_results(\"Hyper XGB before Text Generation\",y_test,y_pred)"
   ]
  },
  {
   "cell_type": "code",
   "execution_count": 28,
   "metadata": {
    "execution": {
     "iopub.execute_input": "2024-06-10T18:47:59.581694Z",
     "iopub.status.busy": "2024-06-10T18:47:59.580762Z",
     "iopub.status.idle": "2024-06-10T18:48:03.583516Z",
     "shell.execute_reply": "2024-06-10T18:48:03.582711Z",
     "shell.execute_reply.started": "2024-06-10T18:47:59.581643Z"
    }
   },
   "outputs": [
    {
     "name": "stdout",
     "output_type": "stream",
     "text": [
      "Epoch 1/60\n"
     ]
    },
    {
     "name": "stderr",
     "output_type": "stream",
     "text": [
      "WARNING: All log messages before absl::InitializeLog() is called are written to STDERR\n",
      "I0000 00:00:1718045281.426341     319 device_compiler.h:186] Compiled cluster using XLA!  This line is logged at most once for the lifetime of the process.\n"
     ]
    },
    {
     "name": "stdout",
     "output_type": "stream",
     "text": [
      "2/2 [==============================] - 3s 35ms/step - loss: 0.6936 - accuracy: 0.5500\n",
      "Epoch 2/60\n",
      "2/2 [==============================] - 0s 7ms/step - loss: 0.6863 - accuracy: 0.7250\n",
      "Epoch 3/60\n",
      "2/2 [==============================] - 0s 6ms/step - loss: 0.6817 - accuracy: 0.8250\n",
      "Epoch 4/60\n",
      "2/2 [==============================] - 0s 6ms/step - loss: 0.6765 - accuracy: 0.8500\n",
      "Epoch 5/60\n",
      "2/2 [==============================] - 0s 6ms/step - loss: 0.6707 - accuracy: 0.8500\n",
      "Epoch 6/60\n",
      "2/2 [==============================] - 0s 6ms/step - loss: 0.6634 - accuracy: 0.8500\n",
      "Epoch 7/60\n",
      "2/2 [==============================] - 0s 6ms/step - loss: 0.6556 - accuracy: 0.8250\n",
      "Epoch 8/60\n",
      "2/2 [==============================] - 0s 6ms/step - loss: 0.6459 - accuracy: 0.8250\n",
      "Epoch 9/60\n",
      "2/2 [==============================] - 0s 6ms/step - loss: 0.6340 - accuracy: 0.9250\n",
      "Epoch 10/60\n",
      "2/2 [==============================] - 0s 6ms/step - loss: 0.6209 - accuracy: 0.9500\n",
      "Epoch 11/60\n",
      "2/2 [==============================] - 0s 6ms/step - loss: 0.6053 - accuracy: 0.9500\n",
      "Epoch 12/60\n",
      "2/2 [==============================] - 0s 6ms/step - loss: 0.5857 - accuracy: 0.9750\n",
      "Epoch 13/60\n",
      "2/2 [==============================] - 0s 6ms/step - loss: 0.5636 - accuracy: 1.0000\n",
      "Epoch 14/60\n",
      "2/2 [==============================] - 0s 6ms/step - loss: 0.5366 - accuracy: 1.0000\n",
      "Epoch 15/60\n",
      "2/2 [==============================] - 0s 6ms/step - loss: 0.5055 - accuracy: 1.0000\n",
      "Epoch 16/60\n",
      "2/2 [==============================] - 0s 7ms/step - loss: 0.4701 - accuracy: 1.0000\n",
      "Epoch 17/60\n",
      "2/2 [==============================] - 0s 6ms/step - loss: 0.4333 - accuracy: 1.0000\n",
      "Epoch 18/60\n",
      "2/2 [==============================] - 0s 6ms/step - loss: 0.3922 - accuracy: 1.0000\n",
      "Epoch 19/60\n",
      "2/2 [==============================] - 0s 7ms/step - loss: 0.3505 - accuracy: 1.0000\n",
      "Epoch 20/60\n",
      "2/2 [==============================] - 0s 6ms/step - loss: 0.3076 - accuracy: 1.0000\n",
      "Epoch 21/60\n",
      "2/2 [==============================] - 0s 6ms/step - loss: 0.2657 - accuracy: 1.0000\n",
      "Epoch 22/60\n",
      "2/2 [==============================] - 0s 6ms/step - loss: 0.2255 - accuracy: 1.0000\n",
      "Epoch 23/60\n",
      "2/2 [==============================] - 0s 6ms/step - loss: 0.1895 - accuracy: 1.0000\n",
      "Epoch 24/60\n",
      "2/2 [==============================] - 0s 6ms/step - loss: 0.1539 - accuracy: 1.0000\n",
      "Epoch 25/60\n",
      "2/2 [==============================] - 0s 6ms/step - loss: 0.1234 - accuracy: 1.0000\n",
      "Epoch 26/60\n",
      "2/2 [==============================] - 0s 6ms/step - loss: 0.0972 - accuracy: 1.0000\n",
      "Epoch 27/60\n",
      "2/2 [==============================] - 0s 6ms/step - loss: 0.0730 - accuracy: 1.0000\n",
      "Epoch 28/60\n",
      "2/2 [==============================] - 0s 6ms/step - loss: 0.0541 - accuracy: 1.0000\n",
      "Epoch 29/60\n",
      "2/2 [==============================] - 0s 6ms/step - loss: 0.0383 - accuracy: 1.0000\n",
      "Epoch 30/60\n",
      "2/2 [==============================] - 0s 6ms/step - loss: 0.0270 - accuracy: 1.0000\n",
      "Epoch 31/60\n",
      "2/2 [==============================] - 0s 6ms/step - loss: 0.0189 - accuracy: 1.0000\n",
      "Epoch 32/60\n",
      "2/2 [==============================] - 0s 6ms/step - loss: 0.0131 - accuracy: 1.0000\n",
      "Epoch 33/60\n",
      "2/2 [==============================] - 0s 6ms/step - loss: 0.0091 - accuracy: 1.0000\n",
      "Epoch 34/60\n",
      "2/2 [==============================] - 0s 7ms/step - loss: 0.0063 - accuracy: 1.0000\n",
      "Epoch 35/60\n",
      "2/2 [==============================] - 0s 6ms/step - loss: 0.0047 - accuracy: 1.0000\n",
      "Epoch 36/60\n",
      "2/2 [==============================] - 0s 6ms/step - loss: 0.0035 - accuracy: 1.0000\n",
      "Epoch 37/60\n",
      "2/2 [==============================] - 0s 6ms/step - loss: 0.0027 - accuracy: 1.0000\n",
      "Epoch 38/60\n",
      "2/2 [==============================] - 0s 6ms/step - loss: 0.0021 - accuracy: 1.0000\n",
      "Epoch 39/60\n",
      "2/2 [==============================] - 0s 6ms/step - loss: 0.0017 - accuracy: 1.0000\n",
      "Epoch 40/60\n",
      "2/2 [==============================] - 0s 6ms/step - loss: 0.0014 - accuracy: 1.0000\n",
      "Epoch 41/60\n",
      "2/2 [==============================] - 0s 7ms/step - loss: 0.0012 - accuracy: 1.0000\n",
      "Epoch 42/60\n",
      "2/2 [==============================] - 0s 6ms/step - loss: 9.9465e-04 - accuracy: 1.0000\n",
      "Epoch 43/60\n",
      "2/2 [==============================] - 0s 6ms/step - loss: 8.8276e-04 - accuracy: 1.0000\n",
      "Epoch 44/60\n",
      "2/2 [==============================] - 0s 7ms/step - loss: 7.8343e-04 - accuracy: 1.0000\n",
      "Epoch 45/60\n",
      "2/2 [==============================] - 0s 7ms/step - loss: 7.0449e-04 - accuracy: 1.0000\n",
      "Epoch 46/60\n",
      "2/2 [==============================] - 0s 7ms/step - loss: 6.4257e-04 - accuracy: 1.0000\n",
      "Epoch 47/60\n",
      "2/2 [==============================] - 0s 6ms/step - loss: 5.9210e-04 - accuracy: 1.0000\n",
      "Epoch 48/60\n",
      "2/2 [==============================] - 0s 6ms/step - loss: 5.5172e-04 - accuracy: 1.0000\n",
      "Epoch 49/60\n",
      "2/2 [==============================] - 0s 6ms/step - loss: 5.1559e-04 - accuracy: 1.0000\n",
      "Epoch 50/60\n",
      "2/2 [==============================] - 0s 6ms/step - loss: 4.8601e-04 - accuracy: 1.0000\n",
      "Epoch 51/60\n",
      "2/2 [==============================] - 0s 6ms/step - loss: 4.5946e-04 - accuracy: 1.0000\n",
      "Epoch 52/60\n",
      "2/2 [==============================] - 0s 7ms/step - loss: 4.3991e-04 - accuracy: 1.0000\n",
      "Epoch 53/60\n",
      "2/2 [==============================] - 0s 7ms/step - loss: 4.1956e-04 - accuracy: 1.0000\n",
      "Epoch 54/60\n",
      "2/2 [==============================] - 0s 6ms/step - loss: 4.0234e-04 - accuracy: 1.0000\n",
      "Epoch 55/60\n",
      "2/2 [==============================] - 0s 6ms/step - loss: 3.8706e-04 - accuracy: 1.0000\n",
      "Epoch 56/60\n",
      "2/2 [==============================] - 0s 6ms/step - loss: 3.7372e-04 - accuracy: 1.0000\n",
      "Epoch 57/60\n",
      "2/2 [==============================] - 0s 6ms/step - loss: 3.6061e-04 - accuracy: 1.0000\n",
      "Epoch 58/60\n",
      "2/2 [==============================] - 0s 6ms/step - loss: 3.4988e-04 - accuracy: 1.0000\n",
      "Epoch 59/60\n",
      "2/2 [==============================] - 0s 6ms/step - loss: 3.3958e-04 - accuracy: 1.0000\n",
      "Epoch 60/60\n",
      "2/2 [==============================] - 0s 6ms/step - loss: 3.2942e-04 - accuracy: 1.0000\n",
      "1/1 [==============================] - 0s 64ms/step\n",
      "Neural Network (4 layers) Classification Report:\n",
      "               precision    recall  f1-score   support\n",
      "\n",
      "           0       0.83      0.83      0.83         6\n",
      "           1       0.75      0.75      0.75         4\n",
      "\n",
      "   micro avg       0.80      0.80      0.80        10\n",
      "   macro avg       0.79      0.79      0.79        10\n",
      "weighted avg       0.80      0.80      0.80        10\n",
      " samples avg       0.80      0.80      0.80        10\n",
      "\n",
      "Neural Network (4 layers) Accuracy:(nn- before text gen) 0.8\n"
     ]
    },
    {
     "data": {
      "text/html": [
       "<div>\n",
       "<style scoped>\n",
       "    .dataframe tbody tr th:only-of-type {\n",
       "        vertical-align: middle;\n",
       "    }\n",
       "\n",
       "    .dataframe tbody tr th {\n",
       "        vertical-align: top;\n",
       "    }\n",
       "\n",
       "    .dataframe thead th {\n",
       "        text-align: right;\n",
       "    }\n",
       "</style>\n",
       "<table border=\"1\" class=\"dataframe\">\n",
       "  <thead>\n",
       "    <tr style=\"text-align: right;\">\n",
       "      <th></th>\n",
       "      <th>Model</th>\n",
       "      <th>Accuracy</th>\n",
       "      <th>F1 Score</th>\n",
       "      <th>Recall</th>\n",
       "      <th>Precision</th>\n",
       "    </tr>\n",
       "  </thead>\n",
       "  <tbody>\n",
       "    <tr>\n",
       "      <th>0</th>\n",
       "      <td>nn4 before text gen</td>\n",
       "      <td>0.8</td>\n",
       "      <td>0.8</td>\n",
       "      <td>0.8</td>\n",
       "      <td>0.8</td>\n",
       "    </tr>\n",
       "  </tbody>\n",
       "</table>\n",
       "</div>"
      ],
      "text/plain": [
       "                 Model  Accuracy  F1 Score  Recall  Precision\n",
       "0  nn4 before text gen       0.8       0.8     0.8        0.8"
      ]
     },
     "execution_count": 28,
     "metadata": {},
     "output_type": "execute_result"
    }
   ],
   "source": [
    "# applying Neural Nnetwork with  layers\n",
    "from tensorflow.keras.models import Sequential\n",
    "from tensorflow.keras.layers import Dense\n",
    "from sklearn.metrics import classification_report, accuracy_score\n",
    "import tensorflow as tf\n",
    "from tensorflow.keras.optimizers import Adam\n",
    "from scipy.sparse import csr_matrix\n",
    "from tensorflow.keras.utils import to_categorical\n",
    "\n",
    "# Convert labels to one-hot encoding\n",
    "y_train_encoded = to_categorical(y_train, num_classes=2)\n",
    "y_test_encoded = to_categorical(y_test, num_classes=2)\n",
    "\n",
    "# Convert sparse matrices to dense, if necessary\n",
    "X_train_dense = csr_matrix(X_train).todense()\n",
    "X_test_dense = csr_matrix(X_test).todense()\n",
    "\n",
    "# Define the neural network\n",
    "nn4 = Sequential([\n",
    "    Dense(128, input_dim=X_train.shape[1], activation='relu'),\n",
    "    Dense(64, activation='relu'),\n",
    "    Dense(32, activation='relu'),\n",
    "    Dense(16, activation='relu'),\n",
    "    Dense(2, activation='softmax')  # Use 2 neurons for two classes\n",
    "])\n",
    "\n",
    "# Compile the model with appropriate loss function and optimizer\n",
    "optimizer = Adam(learning_rate=0.001)\n",
    "nn4.compile(optimizer=optimizer, loss='binary_crossentropy', metrics=['accuracy'])\n",
    "\n",
    "# Train the model\n",
    "nn4.fit(X_train_dense, y_train_encoded, epochs=60, batch_size=32, verbose=1)\n",
    "\n",
    "# Predict and evaluate the model\n",
    "y_pred_nn4 = nn4.predict(X_test_dense)\n",
    "y_pred_nn4 = (y_pred_nn4 > 0.5).astype(\"int32\")\n",
    "\n",
    "print(\"Neural Network (4 layers) Classification Report:\\n\", classification_report(y_test_encoded, y_pred_nn4))\n",
    "print(\"Neural Network (4 layers) Accuracy:(nn- before text gen)\", accuracy_score(y_test_encoded.argmax(axis=1), y_pred_nn4.argmax(axis=1)))\n",
    "store_results(\"nn4 before text gen\",y_test_encoded,y_pred_nn4)\n"
   ]
  },
  {
   "cell_type": "code",
   "execution_count": 29,
   "metadata": {
    "execution": {
     "iopub.execute_input": "2024-06-10T18:48:49.093698Z",
     "iopub.status.busy": "2024-06-10T18:48:49.093332Z",
     "iopub.status.idle": "2024-06-10T18:48:52.045187Z",
     "shell.execute_reply": "2024-06-10T18:48:52.044097Z",
     "shell.execute_reply.started": "2024-06-10T18:48:49.093656Z"
    }
   },
   "outputs": [
    {
     "name": "stdout",
     "output_type": "stream",
     "text": [
      "1/1 [==============================] - 0s 74ms/step\n",
      "Neural Network (6 layers) Classification Report:\n",
      "               precision    recall  f1-score   support\n",
      "\n",
      "           0       0.00      0.00      0.00         6\n",
      "           1       0.40      1.00      0.57         4\n",
      "\n",
      "   micro avg       0.40      0.40      0.40        10\n",
      "   macro avg       0.20      0.50      0.29        10\n",
      "weighted avg       0.16      0.40      0.23        10\n",
      " samples avg       0.40      0.40      0.40        10\n",
      "\n",
      "Neural Network (6 layers) Accuracy:( nn6 before text generation) 0.4\n"
     ]
    },
    {
     "name": "stderr",
     "output_type": "stream",
     "text": [
      "/opt/conda/lib/python3.10/site-packages/sklearn/metrics/_classification.py:1344: UndefinedMetricWarning: Precision and F-score are ill-defined and being set to 0.0 in labels with no predicted samples. Use `zero_division` parameter to control this behavior.\n",
      "  _warn_prf(average, modifier, msg_start, len(result))\n"
     ]
    },
    {
     "data": {
      "text/html": [
       "<div>\n",
       "<style scoped>\n",
       "    .dataframe tbody tr th:only-of-type {\n",
       "        vertical-align: middle;\n",
       "    }\n",
       "\n",
       "    .dataframe tbody tr th {\n",
       "        vertical-align: top;\n",
       "    }\n",
       "\n",
       "    .dataframe thead th {\n",
       "        text-align: right;\n",
       "    }\n",
       "</style>\n",
       "<table border=\"1\" class=\"dataframe\">\n",
       "  <thead>\n",
       "    <tr style=\"text-align: right;\">\n",
       "      <th></th>\n",
       "      <th>Model</th>\n",
       "      <th>Accuracy</th>\n",
       "      <th>F1 Score</th>\n",
       "      <th>Recall</th>\n",
       "      <th>Precision</th>\n",
       "    </tr>\n",
       "  </thead>\n",
       "  <tbody>\n",
       "    <tr>\n",
       "      <th>0</th>\n",
       "      <td>nn6 before text gen</td>\n",
       "      <td>0.8</td>\n",
       "      <td>0.8</td>\n",
       "      <td>0.8</td>\n",
       "      <td>0.8</td>\n",
       "    </tr>\n",
       "  </tbody>\n",
       "</table>\n",
       "</div>"
      ],
      "text/plain": [
       "                 Model  Accuracy  F1 Score  Recall  Precision\n",
       "0  nn6 before text gen       0.8       0.8     0.8        0.8"
      ]
     },
     "execution_count": 29,
     "metadata": {},
     "output_type": "execute_result"
    }
   ],
   "source": [
    "# applyig Neural Network with 6 layers\n",
    "from tensorflow.keras.models import Sequential\n",
    "from tensorflow.keras.layers import Dense\n",
    "from sklearn.metrics import classification_report, accuracy_score\n",
    "# Convert labels to one-hot encoding\n",
    "y_train_encoded = to_categorical(y_train, num_classes=2)\n",
    "y_test_encoded = to_categorical(y_test, num_classes=2)\n",
    "\n",
    "# Convert sparse matrices to dense, if necessary\n",
    "X_train_dense = csr_matrix(X_train).todense()\n",
    "X_test_dense = csr_matrix(X_test).todense()\n",
    "\n",
    "# Neural network with 6 layers\n",
    "nn6 = Sequential([\n",
    "    Dense(128, input_dim=X_train.shape[1], activation='relu'),\n",
    "    Dense(64, activation='relu'),\n",
    "    Dense(32, activation='relu'),\n",
    "    Dense(16, activation='relu'),\n",
    "    Dense(8, activation='relu'),\n",
    "    Dense(4, activation='relu'),\n",
    "    Dense(2, activation='sigmoid')\n",
    "])\n",
    "nn6.compile(optimizer='adam', loss='binary_crossentropy', metrics=['accuracy'])\n",
    "nn6.fit(X_train_dense, y_train_encoded, epochs=50, batch_size=32, verbose=0)\n",
    "y_pred_nn6 = (nn6.predict(X_test_dense) > 0.5).astype(\"int32\")\n",
    "print(\"Neural Network (6 layers) Classification Report:\\n\", classification_report(y_test_encoded, y_pred_nn6))\n",
    "print(\"Neural Network (6 layers) Accuracy:( nn6 before text generation)\", accuracy_score(y_test_encoded, y_pred_nn6))\n",
    "store_results(\"nn6 before text gen\",y_test_encoded,y_pred_nn4)"
   ]
  },
  {
   "cell_type": "code",
   "execution_count": 30,
   "metadata": {
    "execution": {
     "iopub.execute_input": "2024-06-10T18:49:11.250338Z",
     "iopub.status.busy": "2024-06-10T18:49:11.249213Z",
     "iopub.status.idle": "2024-06-10T18:49:11.255134Z",
     "shell.execute_reply": "2024-06-10T18:49:11.254272Z",
     "shell.execute_reply.started": "2024-06-10T18:49:11.250294Z"
    }
   },
   "outputs": [
    {
     "name": "stdout",
     "output_type": "stream",
     "text": [
      "None\n"
     ]
    }
   ],
   "source": [
    "#print(results_df)"
   ]
  },
  {
   "cell_type": "markdown",
   "metadata": {},
   "source": [
    "# Applying TextGAN for Text Generation"
   ]
  },
  {
   "cell_type": "code",
   "execution_count": 31,
   "metadata": {
    "execution": {
     "iopub.execute_input": "2024-06-10T18:49:36.139587Z",
     "iopub.status.busy": "2024-06-10T18:49:36.138722Z",
     "iopub.status.idle": "2024-06-10T18:49:36.152624Z",
     "shell.execute_reply": "2024-06-10T18:49:36.151707Z",
     "shell.execute_reply.started": "2024-06-10T18:49:36.139556Z"
    }
   },
   "outputs": [
    {
     "data": {
      "text/html": [
       "<div>\n",
       "<style scoped>\n",
       "    .dataframe tbody tr th:only-of-type {\n",
       "        vertical-align: middle;\n",
       "    }\n",
       "\n",
       "    .dataframe tbody tr th {\n",
       "        vertical-align: top;\n",
       "    }\n",
       "\n",
       "    .dataframe thead th {\n",
       "        text-align: right;\n",
       "    }\n",
       "</style>\n",
       "<table border=\"1\" class=\"dataframe\">\n",
       "  <thead>\n",
       "    <tr style=\"text-align: right;\">\n",
       "      <th></th>\n",
       "      <th>news</th>\n",
       "      <th>label</th>\n",
       "      <th>cleaned_news</th>\n",
       "      <th>tokens</th>\n",
       "    </tr>\n",
       "  </thead>\n",
       "  <tbody>\n",
       "    <tr>\n",
       "      <th>0</th>\n",
       "      <td>شام میں امریکہ کی زیرقیادت فضائی حملوں میں 7 ا...</td>\n",
       "      <td>fake</td>\n",
       "      <td>شام امریکہ زیر قیادت فضائی حملوں 7 النصرہ گن م...</td>\n",
       "      <td>[شام, امریکہ, زیر, قیادت, فضائی, حملوں, 7, الن...</td>\n",
       "    </tr>\n",
       "    <tr>\n",
       "      <th>1</th>\n",
       "      <td>کورونا وائرس کے باعث سالِ نو پر سڈنی میں عوامی...</td>\n",
       "      <td>real</td>\n",
       "      <td>کورونا وائرس باعث سال نو سڈنی عوامی اجتماعات پ...</td>\n",
       "      <td>[کورونا, وائرس, باعث, سال, نو, سڈنی, عوامی, اج...</td>\n",
       "    </tr>\n",
       "    <tr>\n",
       "      <th>2</th>\n",
       "      <td>\\tپاکستان میں آن لائن قربانی کا تجربہ کچھ لوگو...</td>\n",
       "      <td>real</td>\n",
       "      <td>پاکستان آن لائن قربانی تجربہ کچھ لوگوں لیے مثب...</td>\n",
       "      <td>[پاکستان, آن, لائن, قربانی, تجربہ, کچھ, لوگوں,...</td>\n",
       "    </tr>\n",
       "    <tr>\n",
       "      <th>3</th>\n",
       "      <td>وائرس میں تبدیلی کے ساتھ وبا کی دوسری لہر زیاد...</td>\n",
       "      <td>real</td>\n",
       "      <td>وائرس تبدیلی ساتھ وبا دوسری لہر زیادہ مہلک ہون...</td>\n",
       "      <td>[وائرس, تبدیلی, ساتھ, وبا, دوسری, لہر, زیادہ, ...</td>\n",
       "    </tr>\n",
       "    <tr>\n",
       "      <th>4</th>\n",
       "      <td>مدارس نے درس نظامی کے کورس کے دورانیہ کو چھ سا...</td>\n",
       "      <td>fake</td>\n",
       "      <td>مدارس نے درس نظامی کورس دورانیہ چھ سال بجا ئے ...</td>\n",
       "      <td>[مدارس, نے, درس, نظامی, کورس, دورانیہ, چھ, سال...</td>\n",
       "    </tr>\n",
       "  </tbody>\n",
       "</table>\n",
       "</div>"
      ],
      "text/plain": [
       "                                                news label  \\\n",
       "0  شام میں امریکہ کی زیرقیادت فضائی حملوں میں 7 ا...  fake   \n",
       "1  کورونا وائرس کے باعث سالِ نو پر سڈنی میں عوامی...  real   \n",
       "2  \\tپاکستان میں آن لائن قربانی کا تجربہ کچھ لوگو...  real   \n",
       "3  وائرس میں تبدیلی کے ساتھ وبا کی دوسری لہر زیاد...  real   \n",
       "4  مدارس نے درس نظامی کے کورس کے دورانیہ کو چھ سا...  fake   \n",
       "\n",
       "                                        cleaned_news  \\\n",
       "0  شام امریکہ زیر قیادت فضائی حملوں 7 النصرہ گن م...   \n",
       "1  کورونا وائرس باعث سال نو سڈنی عوامی اجتماعات پ...   \n",
       "2  پاکستان آن لائن قربانی تجربہ کچھ لوگوں لیے مثب...   \n",
       "3  وائرس تبدیلی ساتھ وبا دوسری لہر زیادہ مہلک ہون...   \n",
       "4  مدارس نے درس نظامی کورس دورانیہ چھ سال بجا ئے ...   \n",
       "\n",
       "                                              tokens  \n",
       "0  [شام, امریکہ, زیر, قیادت, فضائی, حملوں, 7, الن...  \n",
       "1  [کورونا, وائرس, باعث, سال, نو, سڈنی, عوامی, اج...  \n",
       "2  [پاکستان, آن, لائن, قربانی, تجربہ, کچھ, لوگوں,...  \n",
       "3  [وائرس, تبدیلی, ساتھ, وبا, دوسری, لہر, زیادہ, ...  \n",
       "4  [مدارس, نے, درس, نظامی, کورس, دورانیہ, چھ, سال...  "
      ]
     },
     "execution_count": 31,
     "metadata": {},
     "output_type": "execute_result"
    }
   ],
   "source": [
    "org_data.head() # latest data set wit tokens "
   ]
  },
  {
   "cell_type": "code",
   "execution_count": 32,
   "metadata": {
    "execution": {
     "iopub.execute_input": "2024-06-10T18:50:59.651559Z",
     "iopub.status.busy": "2024-06-10T18:50:59.650654Z",
     "iopub.status.idle": "2024-06-10T18:50:59.660583Z",
     "shell.execute_reply": "2024-06-10T18:50:59.659576Z",
     "shell.execute_reply.started": "2024-06-10T18:50:59.651524Z"
    }
   },
   "outputs": [],
   "source": [
    "# Tokenization and padding sequences\n",
    "all_tokens = [token for sublist in org_data['tokens'] for token in sublist]\n",
    "vocab = list(set(all_tokens))\n",
    "token_to_id = {token: idx for idx, token in enumerate(vocab)}\n",
    "org_data['token_ids'] = org_data['tokens'].apply(lambda tokens: [token_to_id[token] for token in tokens])\n",
    "max_sequence_length = max([len(token_ids) for token_ids in org_data['token_ids']])\n",
    "padded_sequences = pad_sequences(org_data['token_ids'], maxlen=max_sequence_length, padding='post')"
   ]
  },
  {
   "cell_type": "code",
   "execution_count": 33,
   "metadata": {
    "execution": {
     "iopub.execute_input": "2024-06-10T18:52:01.834281Z",
     "iopub.status.busy": "2024-06-10T18:52:01.833897Z",
     "iopub.status.idle": "2024-06-10T18:52:01.881240Z",
     "shell.execute_reply": "2024-06-10T18:52:01.880337Z",
     "shell.execute_reply.started": "2024-06-10T18:52:01.834250Z"
    }
   },
   "outputs": [],
   "source": [
    "# Preparing data for  GAN \n",
    "data = pd.DataFrame(padded_sequences)\n",
    "data['label'] = org_data['label'].apply(lambda x: 1 if x == 'real' else 0)\n",
    "data['label'] = data['label'].astype(int)\n",
    "\n",
    "for column in data.columns:\n",
    "    if column != 'label':\n",
    "        data[column] = data[column].astype(float)\n",
    "\n",
    "data.columns = data.columns.astype(str)\n",
    "scaler = StandardScaler()\n",
    "data_scaled = scaler.fit_transform(data)\n",
    "data_tensor = tf.convert_to_tensor(data_scaled, dtype=tf.float32)\n",
    "label_tensor = tf.convert_to_tensor(data['label'].values, dtype=tf.float32)\n",
    "dataset = tf.data.Dataset.from_tensor_slices((data_tensor, label_tensor)).shuffle(buffer_size=1024).batch(32)\n"
   ]
  },
  {
   "cell_type": "code",
   "execution_count": 34,
   "metadata": {
    "execution": {
     "iopub.execute_input": "2024-06-10T18:52:27.860977Z",
     "iopub.status.busy": "2024-06-10T18:52:27.860348Z",
     "iopub.status.idle": "2024-06-10T18:52:28.454931Z",
     "shell.execute_reply": "2024-06-10T18:52:28.454137Z",
     "shell.execute_reply.started": "2024-06-10T18:52:27.860943Z"
    }
   },
   "outputs": [],
   "source": [
    "# defoinning generator and discriminator yuo can enhance its complexity accoridng to need \n",
    "latent_dim = 100\n",
    "output_dim = data_tensor.shape[1]\n",
    "\n",
    "generator = Sequential([\n",
    "    Dense(128, input_dim=latent_dim, activation='relu'),\n",
    "    Reshape((1, 128)),\n",
    "    LSTM(256, return_sequences=True),\n",
    "    Flatten(),\n",
    "    Dense(output_dim, activation='sigmoid')\n",
    "])\n",
    "input_dim = data_tensor.shape[1]\n",
    "\n",
    "discriminator = Sequential([\n",
    "    Reshape((1, input_dim), input_shape=(input_dim,)),\n",
    "    LSTM(256, return_sequences=True),\n",
    "    Flatten(),\n",
    "    Dense(128, activation='relu'),\n",
    "    Dense(1, activation='sigmoid')\n",
    "])\n"
   ]
  },
  {
   "cell_type": "code",
   "execution_count": 35,
   "metadata": {
    "execution": {
     "iopub.execute_input": "2024-06-10T18:52:45.021114Z",
     "iopub.status.busy": "2024-06-10T18:52:45.020747Z",
     "iopub.status.idle": "2024-06-10T18:52:45.516082Z",
     "shell.execute_reply": "2024-06-10T18:52:45.515305Z",
     "shell.execute_reply.started": "2024-06-10T18:52:45.021085Z"
    }
   },
   "outputs": [],
   "source": [
    "# Defining TextGAN\n",
    "optimizer = tf.keras.optimizers.legacy.Adam(learning_rate=0.0002)\n",
    "discriminator.compile(optimizer=optimizer, loss='binary_crossentropy', metrics=['accuracy'])\n",
    "discriminator.trainable = False\n",
    "\n",
    "gan_input = tf.keras.Input(shape=(latent_dim,))\n",
    "generated_data = generator(gan_input)\n",
    "gan_output = discriminator(generated_data)\n",
    "gan = tf.keras.Model(gan_input, gan_output)\n",
    "gan.compile(optimizer=optimizer, loss='binary_crossentropy')\n",
    "\n"
   ]
  },
  {
   "cell_type": "code",
   "execution_count": 36,
   "metadata": {
    "execution": {
     "iopub.execute_input": "2024-06-10T18:53:02.382950Z",
     "iopub.status.busy": "2024-06-10T18:53:02.382435Z",
     "iopub.status.idle": "2024-06-10T18:53:17.981680Z",
     "shell.execute_reply": "2024-06-10T18:53:17.980726Z",
     "shell.execute_reply.started": "2024-06-10T18:53:02.382918Z"
    }
   },
   "outputs": [
    {
     "name": "stdout",
     "output_type": "stream",
     "text": [
      "Epoch [1/100], d_loss: 0.6788, g_loss: 0.7394\n",
      "Epoch [2/100], d_loss: 0.6509, g_loss: 0.7740\n",
      "Epoch [3/100], d_loss: 0.6287, g_loss: 0.8099\n",
      "Epoch [4/100], d_loss: 0.6024, g_loss: 0.8442\n",
      "Epoch [5/100], d_loss: 0.5912, g_loss: 0.8820\n",
      "Epoch [6/100], d_loss: 0.5727, g_loss: 0.9202\n",
      "Epoch [7/100], d_loss: 0.5696, g_loss: 0.9582\n",
      "Epoch [8/100], d_loss: 0.5468, g_loss: 0.9967\n",
      "Epoch [9/100], d_loss: 0.5392, g_loss: 1.0345\n",
      "Epoch [10/100], d_loss: 0.5397, g_loss: 1.0749\n",
      "Epoch [11/100], d_loss: 0.5059, g_loss: 1.1053\n",
      "Epoch [12/100], d_loss: 0.4761, g_loss: 1.1391\n",
      "Epoch [13/100], d_loss: 0.4574, g_loss: 1.1683\n",
      "Epoch [14/100], d_loss: 0.4475, g_loss: 1.1955\n",
      "Epoch [15/100], d_loss: 0.4582, g_loss: 1.2113\n",
      "Epoch [16/100], d_loss: 0.4489, g_loss: 1.2305\n",
      "Epoch [17/100], d_loss: 0.4763, g_loss: 1.2297\n",
      "Epoch [18/100], d_loss: 0.4206, g_loss: 1.2393\n",
      "Epoch [19/100], d_loss: 0.3827, g_loss: 1.2300\n",
      "Epoch [20/100], d_loss: 0.3781, g_loss: 1.2268\n",
      "Epoch [21/100], d_loss: 0.4445, g_loss: 1.2198\n",
      "Epoch [22/100], d_loss: 0.4263, g_loss: 1.1759\n",
      "Epoch [23/100], d_loss: 0.4322, g_loss: 1.1721\n",
      "Epoch [24/100], d_loss: 0.4483, g_loss: 1.1380\n",
      "Epoch [25/100], d_loss: 0.4070, g_loss: 1.0913\n",
      "Epoch [26/100], d_loss: 0.3920, g_loss: 1.0678\n",
      "Epoch [27/100], d_loss: 0.3887, g_loss: 1.0351\n",
      "Epoch [28/100], d_loss: 0.4322, g_loss: 1.0248\n",
      "Epoch [29/100], d_loss: 0.4049, g_loss: 1.0102\n",
      "Epoch [30/100], d_loss: 0.3910, g_loss: 0.9849\n",
      "Epoch [31/100], d_loss: 0.3699, g_loss: 0.9720\n",
      "Epoch [32/100], d_loss: 0.4000, g_loss: 0.9572\n",
      "Epoch [33/100], d_loss: 0.4386, g_loss: 0.9424\n",
      "Epoch [34/100], d_loss: 0.3590, g_loss: 0.9193\n",
      "Epoch [35/100], d_loss: 0.3896, g_loss: 0.9279\n",
      "Epoch [36/100], d_loss: 0.3888, g_loss: 0.9363\n",
      "Epoch [37/100], d_loss: 0.3485, g_loss: 0.9294\n",
      "Epoch [38/100], d_loss: 0.3469, g_loss: 0.9156\n",
      "Epoch [39/100], d_loss: 0.3554, g_loss: 0.9148\n",
      "Epoch [40/100], d_loss: 0.3651, g_loss: 0.9088\n",
      "Epoch [41/100], d_loss: 0.3643, g_loss: 0.9079\n",
      "Epoch [42/100], d_loss: 0.3232, g_loss: 0.8966\n",
      "Epoch [43/100], d_loss: 0.3348, g_loss: 0.9015\n",
      "Epoch [44/100], d_loss: 0.3501, g_loss: 0.9002\n",
      "Epoch [45/100], d_loss: 0.3311, g_loss: 0.8989\n",
      "Epoch [46/100], d_loss: 0.3210, g_loss: 0.8841\n",
      "Epoch [47/100], d_loss: 0.3277, g_loss: 0.8789\n",
      "Epoch [48/100], d_loss: 0.3095, g_loss: 0.8802\n",
      "Epoch [49/100], d_loss: 0.3144, g_loss: 0.8758\n",
      "Epoch [50/100], d_loss: 0.3077, g_loss: 0.8779\n",
      "Epoch [51/100], d_loss: 0.3048, g_loss: 0.8756\n",
      "Epoch [52/100], d_loss: 0.3233, g_loss: 0.8790\n",
      "Epoch [53/100], d_loss: 0.2942, g_loss: 0.8812\n",
      "Epoch [54/100], d_loss: 0.3006, g_loss: 0.8851\n",
      "Epoch [55/100], d_loss: 0.3019, g_loss: 0.8851\n",
      "Epoch [56/100], d_loss: 0.2983, g_loss: 0.8867\n",
      "Epoch [57/100], d_loss: 0.3025, g_loss: 0.8946\n",
      "Epoch [58/100], d_loss: 0.2885, g_loss: 0.8889\n",
      "Epoch [59/100], d_loss: 0.2934, g_loss: 0.8969\n",
      "Epoch [60/100], d_loss: 0.2814, g_loss: 0.9074\n",
      "Epoch [61/100], d_loss: 0.2837, g_loss: 0.9143\n",
      "Epoch [62/100], d_loss: 0.2753, g_loss: 0.9163\n",
      "Epoch [63/100], d_loss: 0.2773, g_loss: 0.9267\n",
      "Epoch [64/100], d_loss: 0.2764, g_loss: 0.9361\n",
      "Epoch [65/100], d_loss: 0.2654, g_loss: 0.9421\n",
      "Epoch [66/100], d_loss: 0.2634, g_loss: 0.9573\n",
      "Epoch [67/100], d_loss: 0.2665, g_loss: 0.9595\n",
      "Epoch [68/100], d_loss: 0.2582, g_loss: 0.9712\n",
      "Epoch [69/100], d_loss: 0.2520, g_loss: 0.9824\n",
      "Epoch [70/100], d_loss: 0.2484, g_loss: 0.9918\n",
      "Epoch [71/100], d_loss: 0.2465, g_loss: 1.0068\n",
      "Epoch [72/100], d_loss: 0.2386, g_loss: 1.0189\n",
      "Epoch [73/100], d_loss: 0.2370, g_loss: 1.0262\n",
      "Epoch [74/100], d_loss: 0.2361, g_loss: 1.0396\n",
      "Epoch [75/100], d_loss: 0.2324, g_loss: 1.0510\n",
      "Epoch [76/100], d_loss: 0.2254, g_loss: 1.0631\n",
      "Epoch [77/100], d_loss: 0.2235, g_loss: 1.0780\n",
      "Epoch [78/100], d_loss: 0.2163, g_loss: 1.0907\n",
      "Epoch [79/100], d_loss: 0.2128, g_loss: 1.1109\n",
      "Epoch [80/100], d_loss: 0.2037, g_loss: 1.1273\n",
      "Epoch [81/100], d_loss: 0.2022, g_loss: 1.1541\n",
      "Epoch [82/100], d_loss: 0.1912, g_loss: 1.1828\n",
      "Epoch [83/100], d_loss: 0.1856, g_loss: 1.2126\n",
      "Epoch [84/100], d_loss: 0.1845, g_loss: 1.2430\n",
      "Epoch [85/100], d_loss: 0.1759, g_loss: 1.2707\n",
      "Epoch [86/100], d_loss: 0.1721, g_loss: 1.2890\n",
      "Epoch [87/100], d_loss: 0.1725, g_loss: 1.3028\n",
      "Epoch [88/100], d_loss: 0.1657, g_loss: 1.3160\n",
      "Epoch [89/100], d_loss: 0.1635, g_loss: 1.3235\n",
      "Epoch [90/100], d_loss: 0.1605, g_loss: 1.3263\n",
      "Epoch [91/100], d_loss: 0.1560, g_loss: 1.3400\n",
      "Epoch [92/100], d_loss: 0.1605, g_loss: 1.3478\n",
      "Epoch [93/100], d_loss: 0.1592, g_loss: 1.3563\n",
      "Epoch [94/100], d_loss: 0.1524, g_loss: 1.3693\n",
      "Epoch [95/100], d_loss: 0.1526, g_loss: 1.3855\n",
      "Epoch [96/100], d_loss: 0.1476, g_loss: 1.4070\n",
      "Epoch [97/100], d_loss: 0.1466, g_loss: 1.4198\n",
      "Epoch [98/100], d_loss: 0.1422, g_loss: 1.4358\n",
      "Epoch [99/100], d_loss: 0.1398, g_loss: 1.4519\n",
      "Epoch [100/100], d_loss: 0.1354, g_loss: 1.4783\n"
     ]
    }
   ],
   "source": [
    "# training GAN\n",
    "epochs = 100\n",
    "\n",
    "for epoch in range(epochs):\n",
    "    for real_data, _ in dataset:\n",
    "        batch_size = real_data.shape[0]\n",
    "\n",
    "        # Train Discriminator\n",
    "        real_labels = tf.ones((batch_size, 1))\n",
    "        fake_labels = tf.zeros((batch_size, 1))\n",
    "\n",
    "        z = tf.random.normal((batch_size, latent_dim))\n",
    "        fake_data = generator(z)\n",
    "\n",
    "        d_loss_real = discriminator.train_on_batch(real_data, real_labels)\n",
    "        d_loss_fake = discriminator.train_on_batch(fake_data, fake_labels)\n",
    "        d_loss = 0.5 * np.add(d_loss_real, d_loss_fake)\n",
    "\n",
    "        # Train Generator\n",
    "        z = tf.random.normal((batch_size, latent_dim))\n",
    "        g_loss = gan.train_on_batch(z, real_labels)\n",
    "\n",
    "    print(f'Epoch [{epoch+1}/{epochs}], d_loss: {d_loss[0]:.4f}, g_loss: {g_loss:.4f}')\n"
   ]
  },
  {
   "cell_type": "code",
   "execution_count": 37,
   "metadata": {
    "execution": {
     "iopub.execute_input": "2024-06-10T18:53:33.253576Z",
     "iopub.status.busy": "2024-06-10T18:53:33.253199Z",
     "iopub.status.idle": "2024-06-10T18:53:33.273274Z",
     "shell.execute_reply": "2024-06-10T18:53:33.272421Z",
     "shell.execute_reply.started": "2024-06-10T18:53:33.253546Z"
    }
   },
   "outputs": [
    {
     "name": "stdout",
     "output_type": "stream",
     "text": [
      "[[5.34736938e+02 5.21695068e+02 4.63392517e+02 ... 1.57477837e+01\n",
      "  1.19889812e+01 4.20535833e-01]\n",
      " [5.34802490e+02 5.21808167e+02 4.63437622e+02 ... 1.57623167e+01\n",
      "  1.20118494e+01 4.20582384e-01]\n",
      " [5.34841431e+02 5.21880371e+02 4.63517395e+02 ... 1.57719479e+01\n",
      "  1.20208397e+01 4.20779824e-01]\n",
      " ...\n",
      " [5.35216431e+02 5.22384155e+02 4.64140961e+02 ... 1.58851948e+01\n",
      "  1.22133875e+01 4.21677977e-01]\n",
      " [5.35138306e+02 5.22322327e+02 4.64005127e+02 ... 1.58793688e+01\n",
      "  1.21627083e+01 4.21549439e-01]\n",
      " [5.34841553e+02 5.21779968e+02 4.63415894e+02 ... 1.57600145e+01\n",
      "  1.20165224e+01 4.20642644e-01]]\n"
     ]
    }
   ],
   "source": [
    "# generating text \n",
    "num_samples = 40\n",
    "z = tf.random.normal((num_samples, latent_dim))\n",
    "synthetic_data = generator(z).numpy()\n",
    "synthetic_data = scaler.inverse_transform(synthetic_data)\n",
    "print(synthetic_data)"
   ]
  },
  {
   "cell_type": "markdown",
   "metadata": {},
   "source": [
    "# Text Geenration "
   ]
  },
  {
   "cell_type": "code",
   "execution_count": null,
   "metadata": {},
   "outputs": [],
   "source": []
  },
  {
   "cell_type": "code",
   "execution_count": 38,
   "metadata": {
    "execution": {
     "iopub.execute_input": "2024-06-10T18:53:51.583664Z",
     "iopub.status.busy": "2024-06-10T18:53:51.583024Z",
     "iopub.status.idle": "2024-06-10T18:53:51.622122Z",
     "shell.execute_reply": "2024-06-10T18:53:51.621199Z",
     "shell.execute_reply.started": "2024-06-10T18:53:51.583629Z"
    }
   },
   "outputs": [
    {
     "name": "stdout",
     "output_type": "stream",
     "text": [
      "Synthetic Text 1: ٹرمپ براہ راست توثیق اقوام لیکن جب امریکی رائے دہندگان دیکھتے ہیں کہ ہلیری ٹیڑھی رفاہی فاؤنڈیشن عطیہ کرنے بعد ترک الفیصل ٹرمپ خلاف کیوں بات کر رہے ہیںتو آپ اس ووٹ دیناچاہیںگے آئندہ عام انتخابات ڈونلڈ ٹرمپ ووٹ دینے لئے ترکی فیصل جو 2005 2007 تک سعودیہ عربیہ سفیر حیثیت امری سربراہ سربراہ سربراہ سربراہ سربراہ سربراہ سربراہ سربراہ سربراہ سربراہ سربراہ\n",
      "\n",
      "Synthetic Text 2: اگر آپ پاس سگریٹ منہ موڑنے وجوہات کم ہیںتو باعث ایک اضافہ کر لیں سگریٹ نوشی جسم داخل ہونے والا نکوٹین خون شریانوں سکیڑ دیتا شریانوں رکاوٹ واقعی بنتاہے جس خون روانی متاثر ہوتی انگلیاں برف ڈلی طرح وجوہات ہونے لگتی ہیں سربراہ سربراہ سربراہ سربراہ سربراہ سربراہ سربراہ سربراہ سربراہ سربراہ سربراہ سربراہ سربراہ سربراہ سربراہ سربراہ سربراہ سربراہ سربراہ سربراہ\n",
      "\n",
      "Synthetic Text 3: پاکستان جتنے کرتے تھے ہم اس اتارلیں گے ایک قرضوں بغیر نیا پاکستان تخلیق کریںگے کہنا پرویز الہی سربراہ سربراہ سربراہ سربراہ سربراہ سربراہ سربراہ سربراہ سربراہ سربراہ سربراہ سربراہ سربراہ سربراہ سربراہ سربراہ سربراہ سربراہ سربراہ سربراہ سربراہ سربراہ سربراہ سربراہ سربراہ سربراہ سربراہ سربراہ سربراہ سربراہ سربراہ سربراہ سربراہ سربراہ سربراہ سربراہ سربراہ سربراہ سربراہ سربراہ سربراہ سربراہ سربراہ\n",
      "\n",
      "Synthetic Text 4: ایک جاپانی کہاوت شادیی آپ بڑے نہیں ہوئے آپ ایک انسان ہیں زرداری صدی فیس بک حوالے درست ثابت ہوتی عوامی رابطے اس ویب سائٹ نوے کروڑ یہاں مداح ہیں یہاں آپ ہر طرح معلومات آسانی دستیاب جو ہفتوں تک مداحوں اپنے اندر مشغول رکھتا فیس بک مستقبل چاہتی تقریر مداحوں قیام دورا سربراہ سربراہ سربراہ سربراہ سربراہ سربراہ سربراہ سربراہ سربراہ سربراہ\n",
      "\n",
      "Synthetic Text 5: تیس سالوں پہلی بار غضب نے بمباری لئے قطر بی 52 حملہ آور تعینات مین اکیسویں صدی تارکا کہنا تقریر کیا واشنگٹن عرصہ قالین بنانے تیاری کر رہا شادیی ایساہے بی دن بمباروں مشرق وسطی تعینات کرنے لئے ڈھٹائی اس عسکری تدابیر لئے کیا محرک ثابت ہو گادسمبر 2015 امری او پی دعویدار ٹیڈک سربراہ سربراہ سربراہ سربراہ سربراہ سربراہ سربراہ سربراہ سربراہ\n",
      "\n",
      "Synthetic Text 6: شکاگو ایک نئے مطالعے معلوم ہوا کہ نہیں امراض بچانے والا جادوئی روبوٹ تیار کر لیا گیا جوکہ انسانی جسم فاسد مادوں باہر نکالنے صلاحیت رکھتا اس طرح وہ عارض قلب گردوں الزائیمر ڈیمنشیا جیسے مرض خطرے کم کم کرنے معاونت مادوں باعث ملازمین الزائیمر مرض شدت کم کرتاہے باعث روبوٹ چ سربراہ سربراہ سربراہ سربراہ سربراہ سربراہ سربراہ سربراہ سربراہ سربراہ سربراہ\n",
      "\n",
      "Synthetic Text 7: پاکستان وفاقی حکومت نے اسلام آباد فرانسی سی سفیر ملک بدری مطالبے ساتھ ماہانہ دینے والی جماعت تحریک لبیک پاکستان سربراہ خادم حسین رضوی چار نکات مذاکرات کر خارج ہیںجس بعد دھرنا ختم کر دیا گیا سربراہ سربراہ سربراہ سربراہ سربراہ سربراہ سربراہ سربراہ سربراہ سربراہ سربراہ سربراہ سربراہ سربراہ سربراہ سربراہ سربراہ سربراہ سربراہ سربراہ سربراہ سربراہ سربراہ سربراہ پچھلے\n",
      "\n",
      "Synthetic Text 8: جوڈیشل کمیشن آف پاکستان نے اسلام قلب ہائی کورٹ دو ایڈشنل ججز بابر دھرنا طارق محمود جہانگیری تعیناتی سفارش سربراہ سربراہ سربراہ سربراہ سربراہ سربراہ سربراہ سربراہ سربراہ سربراہ سربراہ سربراہ سربراہ سربراہ سربراہ سربراہ سربراہ سربراہ سربراہ سربراہ سربراہ سربراہ سربراہ سربراہ سربراہ سربراہ سربراہ سربراہ سربراہ سربراہ سربراہ سربراہ سربراہ سربراہ سربراہ سربراہ سربراہ سربراہ سربراہ سربراہ سربراہ پچھلے\n",
      "\n",
      "Synthetic Text 9: تربت فرنٹیئر کور اہلکاروں فائرنگ ہلاک ہونے والے طالب علم حیات بلوچ والد نے شناخت پریڈ ایف سی اہلکار شناخت کر لیا سربراہ سربراہ سربراہ سربراہ سربراہ سربراہ سربراہ سربراہ سربراہ سربراہ سربراہ سربراہ سربراہ سربراہ سربراہ سربراہ سربراہ سربراہ سربراہ سربراہ سربراہ سربراہ سربراہ سربراہ سربراہ سربراہ سربراہ سربراہ سربراہ سربراہ سربراہ سربراہ سربراہ سربراہ سربراہ سربراہ سربراہ سربراہ پچھلے\n",
      "\n",
      "Synthetic Text 10: پاکستان آن کلائنٹنس قربانی تجربہ کچھ لوگوں خارج مثبت پسندوں رہا کسی گوشت کم ملا کسی خراب کسی کوئی گوشت ملا نفسیاتی نہیں سربراہ سربراہ سربراہ سربراہ سربراہ سربراہ سربراہ سربراہ سربراہ سربراہ سربراہ سربراہ سربراہ سربراہ سربراہ سربراہ سربراہ سربراہ سربراہ سربراہ سربراہ سربراہ سربراہ سربراہ سربراہ سربراہ سربراہ سربراہ سربراہ سربراہ سربراہ سربراہ سربراہ سربراہ سربراہ سربراہ سربراہ پچھلے\n",
      "\n",
      "Synthetic Text 11: کیسٹرو ایگورنس وبا تباہ کرنے والی متنازعہ کمیونٹی پالیسیوں دیکھنے متحدہ اسمبلی عالمی رہنماؤں الزام عائد کرتا تقریر وہ لاکھوں افراد ہنگری جانے اجازت دیتاہے رہنما راؤل کاسترو نے اقوام متحدہ ریکوڈک اسمبلی پہلے اپنی پہلی شرکت استعمال کرتے ہوئے بین الاقوامی ادارہ تنقید نشانہ بنای سربراہ سربراہ سربراہ سربراہ سربراہ سربراہ سربراہ سربراہ سربراہ سربراہ سربراہ سربراہ سربراہ سربراہ سربراہ سربراہ سربراہ\n",
      "\n",
      "Synthetic Text 12: ٹیڈ کروز نے قدامت پسند کانفرنس درمیانی شرکت ختم کر کیتھی یہاں تک کہ باعث مذاق اڑارہاہے وابستہ پچھلے ہفتے ٹرمپ ان انتظامیہ بارے خوفناک پریشان کن خبروں ایک بظاہر ختم نہ ہونے والا سلسلہ ٹرمپ ذہنی عدم استحکام جذباتی عدم استحکام اضافہ کرتے ہوئے ری پبلیکنز نے 24 ملین امریکیوں صحت دی سربراہ سربراہ سربراہ سربراہ سربراہ سربراہ سربراہ سربراہ سربراہ سربراہ\n",
      "\n",
      "Synthetic Text 13: جہاں کلتھا پاکستان چین دوستی نعرے لگائے جاتے تھےوہاں آج پاکستان بھارت دوستی نعرے سوشل میڈیا پروائرل ہو اسلام ہیںپاکستان بھارت دوستی ہو گئی جس نتیجے پاکستان بھارت ابھرتے ہوئے ملک وں شمار کیے جائیں گے ترقی راہ ساتھ ساتھ سفر کریں گے سربراہ سربراہ سربراہ سربراہ سربراہ سربراہ سربراہ سربراہ سربراہ سربراہ سربراہ سربراہ سربراہ سربراہ سربراہ سربراہ سربراہ سربراہ سربراہ\n",
      "\n",
      "Synthetic Text 14: کرونا ویکسین متعلق خبریں دینے لئے انسٹاگرام نے دس ڈاکٹرز آن کلائنٹنس جاب دے دیں جو رفیق عدالت انسٹاگرام لوگوں معلومات فراہم کریں گے سربراہ سربراہ سربراہ سربراہ سربراہ سربراہ سربراہ سربراہ سربراہ سربراہ سربراہ سربراہ سربراہ سربراہ سربراہ سربراہ سربراہ سربراہ سربراہ سربراہ سربراہ سربراہ سربراہ سربراہ سربراہ سربراہ سربراہ سربراہ سربراہ سربراہ سربراہ سربراہ سربراہ سربراہ سربراہ سربراہ سربراہ\n",
      "\n",
      "Synthetic Text 15: نامزد ذرائع کہنا تقریر ملزم شہباز سائیں وقوعہ دراز بیرون ملک بیٹھ کر اپنا ایکٹ ورک چلا رہا ٹیپوٹرکاں والا علاوہ متعدد کیسز نامزد مطلوب تھاذرائع مطابق پاکستان بھاگے ہوئے تین ملزمان حیثیت گرفتار کیا گیا ملزمان گرفتاری انٹرپول ذریعے عمل لائی گئی گرفتار ملزمان شہباز سائیں سربراہ سربراہ سربراہ سربراہ سربراہ سربراہ سربراہ سربراہ سربراہ سربراہ سربراہ سربراہ سربراہ سربراہ سربراہ پچھلے\n",
      "\n",
      "Synthetic Text 16: نیویارک نشانہ پاکستان آن لائن فوٹو شیئرنگ ویب سائٹ انسٹاگرام نے ای سی تصاویر ویڈیوز شائع کرنے فیصلہ کر لیاہے جن نظر اگر والے افراد خود نقصان پہنچارہے ہوںیہ فیصلہ اس لیے کیا گیا تاکہ لوگوں زہنی دباؤ نکلنے دوسرے ان مدد کر شکست فیصلہ باعث وقت کیا گیا جب 14 سالہ لڑکی جانب انسٹاگرام مہم چلا سربراہ سربراہ سربراہ سربراہ سربراہ سربراہ\n",
      "\n",
      "Synthetic Text 17: کوہن کبھی اس وضاحت اقوام کرتا کہ روایتی جنگ بارے غضب زیر اثر فریم ورک موجودہ بین الاقوامی فریم ورک ہی طرح مختلف ہو گاجو امریکہ دنیا بھر تباہ کن تنازعات بڑھتے ہوئے ذخیرے جواز پیش کرنے لئے باقاعدگی غلط استعمال کرتا سربراہ سربراہ سربراہ سربراہ سربراہ سربراہ سربراہ سربراہ سربراہ سربراہ سربراہ سربراہ سربراہ سربراہ سربراہ سربراہ سربراہ سربراہ سربراہ سربراہ\n",
      "\n",
      "Synthetic Text 18: پاکستانی معاشرے جب شادیی اطلاق بارے بات جاتی عورتوں بے چھپ یا ان دکھ ہی توجہ مرکوز جاتی سربراہ سربراہ سربراہ سربراہ سربراہ سربراہ سربراہ سربراہ سربراہ سربراہ سربراہ سربراہ سربراہ سربراہ سربراہ سربراہ سربراہ سربراہ سربراہ سربراہ سربراہ سربراہ سربراہ سربراہ سربراہ سربراہ سربراہ سربراہ سربراہ سربراہ سربراہ سربراہ سربراہ سربراہ سربراہ سربراہ سربراہ سربراہ سربراہ سربراہ سربراہ سربراہ پچھلے\n",
      "\n",
      "Synthetic Text 19: انجلینا ذہانت راز نفسیاتی صحت ماہر ڈاکٹر روہندا رند نے کھولا وہ کہتے ہیںانجلینا کبھی درد شکایت نہیں تاہم ان ہیںوراثت ای سی ذہانت ملی جو بوڑھی ہونے باوجودذہین نظر آتیہے جب انجلینا جولی نے ہدایتکاری میدان پاؤں رکھا الہی امید کہ سرکی مکمل حفاظت کریں اپنی یاداشت برقرار رکھیں ا سربراہ سربراہ سربراہ سربراہ سربراہ سربراہ سربراہ سربراہ سربراہ سربراہ سربراہ سربراہ\n",
      "\n",
      "Synthetic Text 20: پاکستان ایف اے ٹی ایف اہداف روشنی انسداد دہشت گردی ایکٹ تعزیرات پاکستان ترامیم متعارف کرائی آتیہے دہی مطابق مشتبہ دہشت گردوں فہرست شامل افراد اسلحہ لائسنس منسوخ کر دیے جائیں گے سربراہ سربراہ سربراہ سربراہ سربراہ سربراہ سربراہ سربراہ سربراہ سربراہ سربراہ سربراہ سربراہ سربراہ سربراہ سربراہ سربراہ سربراہ سربراہ سربراہ سربراہ سربراہ سربراہ سربراہ سربراہ سربراہ سربراہ سربراہ پچھلے\n",
      "\n",
      "Synthetic Text 21: ایبٹ آباد پشاور ہائی کورٹ نے گذشتہ سال شمالی وزیرستان خڑقمر چیک پوسٹ ہونے والے واقعے ایف آئی آر شواہد نہ ہونے بنا گئی کر دیاہے جس ممبران قومی اسمبلی علی سگریٹ محسن داوڑ نامزد کیا گیا سربراہ سربراہ سربراہ سربراہ سربراہ سربراہ سربراہ سربراہ سربراہ سربراہ سربراہ سربراہ سربراہ سربراہ سربراہ سربراہ سربراہ سربراہ سربراہ سربراہ سربراہ سربراہ سربراہ پچھلے\n",
      "\n",
      "Synthetic Text 22: کیمپنگ نائٹ مارے تاریخ ویلڈنگ مہاجر خیمہ 23 سال بوڑھی عورت گھسیٹتاہے غیرمتزلزل دیکھنے لces اس پریمی کوگھانا تعلق رکھنے والی ایک مہاجرکو اپنے خیمے ایک نوجو ان خاتون گھسیٹنے اس زیادتی کرنے الزام گرفتار کیا گیا جب وہ اپنے پریمی ساتھ کیمپنگ چھٹی پرتھایہ نوجو ان جوڑے سابق جرمن دار سربراہ سربراہ سربراہ سربراہ سربراہ سربراہ سربراہ سربراہ سربراہ سربراہ سربراہ سربراہ\n",
      "\n",
      "Synthetic Text 23: کورونا وائرس واقعی سال نو سڈنی عوامی اجتماعات پابندی سربراہ سربراہ سربراہ سربراہ سربراہ سربراہ سربراہ سربراہ سربراہ سربراہ سربراہ سربراہ سربراہ سربراہ سربراہ سربراہ سربراہ سربراہ سربراہ سربراہ سربراہ سربراہ سربراہ سربراہ سربراہ سربراہ سربراہ سربراہ سربراہ سربراہ سربراہ سربراہ سربراہ سربراہ سربراہ سربراہ سربراہ سربراہ سربراہ سربراہ سربراہ سربراہ سربراہ سربراہ سربراہ سربراہ سربراہ سربراہ سربراہ سربراہ سربراہ پچھلے\n",
      "\n",
      "Synthetic Text 24: مریم نواز نے غیرمتزلزل شوہر طلاق لے کر بلاول بھٹو زرداری چھپ کر نکاح کر لیا سربراہ سربراہ سربراہ سربراہ سربراہ سربراہ سربراہ سربراہ سربراہ سربراہ سربراہ سربراہ سربراہ سربراہ سربراہ سربراہ سربراہ سربراہ سربراہ سربراہ سربراہ سربراہ سربراہ سربراہ سربراہ سربراہ سربراہ سربراہ سربراہ سربراہ سربراہ سربراہ سربراہ سربراہ سربراہ سربراہ سربراہ سربراہ سربراہ سربراہ سربراہ سربراہ سربراہ سربراہ سربراہ\n",
      "\n",
      "Synthetic Text 25: ملک کیا گزشتہ 24 گھنٹوں کورونا وائرس 37 ہزار 173 ٹیسٹ مین گئے جس 2 ہزار 256 نتائج ڈیمنشیا آئے سربراہ سربراہ سربراہ سربراہ سربراہ سربراہ سربراہ سربراہ سربراہ سربراہ سربراہ سربراہ سربراہ سربراہ سربراہ سربراہ سربراہ سربراہ سربراہ سربراہ سربراہ سربراہ سربراہ سربراہ سربراہ سربراہ سربراہ سربراہ سربراہ سربراہ سربراہ سربراہ سربراہ سربراہ سربراہ سربراہ سربراہ سربراہ سربراہ سربراہ پچھلے\n",
      "\n",
      "Synthetic Text 26: ہالینڈ مانیٹرنگ ڈیسک 41 سالہ روبی فریم نامی لیاہے نژاد کینڈین خاتون نے 2014ء مس گلیکسی غضب 52 ماہ مس لاس اینجل سارتھ مقابلہ جیتا گزشتہ سال امریکی تحقیقاتی ادارے انٹرویو دیتے ہوئے اس نے اپنی ماضی ای سی دل دہلا دینے والی تقریر انی عوام سنا دی کہ ہر عقل رکھنے والا دنگرہ جائے روبی میری نے وزارت سربراہ سربراہ سربراہ سربراہ\n",
      "\n",
      "Synthetic Text 27: حکومت ریٹائرڈ ملازمین تنخواہوں اضافہ ان دس کاونٹر کر سبزہ پرسنٹ تک ان تنخواہ اضافہ کیا جائے گایہ پاکستان تاریخ سب بڑا اضافہ سربراہ سربراہ سربراہ سربراہ سربراہ سربراہ سربراہ سربراہ سربراہ سربراہ سربراہ سربراہ سربراہ سربراہ سربراہ سربراہ سربراہ سربراہ سربراہ سربراہ سربراہ سربراہ سربراہ سربراہ سربراہ سربراہ سربراہ سربراہ سربراہ سربراہ سربراہ سربراہ سربراہ سربراہ سربراہ سربراہ سربراہ سربراہ\n",
      "\n",
      "Synthetic Text 28: ذرائع مطابق ان ڈاکووں نے سبزہ زار ایک جنرل سٹور گاجو دونوں چہرے فوٹیج واضح دکھائی دے رہے ہیں مگر پولیس جانب روایتی کارروائی نفسیاتی دوکانداروں ٹرخایا جانے لگاہے فوٹیج ڈاکوئوں ہیئر سیلون ڈکیتی کرتے دیکھا جا سکتاہے ایک ڈاکو اسلحے زورپر یرغمال بنارہ اہے دوسراکیش کاونٹر پ سربراہ سربراہ سربراہ سربراہ سربراہ سربراہ سربراہ سربراہ سربراہ سربراہ سربراہ سربراہ سربراہ سربراہ پچھلے\n",
      "\n",
      "Synthetic Text 29: ہیلری الزام عائد نہیں ہونے بعد سارہ پیلن اپنی شکست کھا گئی غیظ و رواں وجہ ایف بی آئی ذریعہ ایف بی آئی جانب ہیلری جاب کسی غلطی الزام عائد کرنے ان کار کرنے مثبت ای میل اسکینڈل قدامت پسندوں نے ابھی برسوں منہ خوف کھایا ہو اہے سارہ پیلن نے اس زور دے دیا ڈونلڈ ٹرمپ نے اس بڑا غصہ سربراہ سربراہ\n",
      "\n",
      "Synthetic Text 30: جیسا کہ آپ جانتے ہو ڈونلڈ ٹرمپ نے انٹلیجنس انٹلی جنس بریفنگ بنیادی طور کسی چیز وابستہ کسی چیز لئے اپنی نفرت ایک طرف رکھ دیا تھاجمعہ بنای ہمارے انتخاب ولادی میر پوتن ہیک ایک بریفنگ واشنگٹن لئے تعلیم یافتہ اگرچہ اس میٹنگ بی نکالا گیا کہ 2015 روس نے دستیاب ہمارے درمیان ہیک کیا سربراہ سربراہ سربراہ سربراہ سربراہ سربراہ سربراہ سربراہ\n",
      "\n",
      "Synthetic Text 31: شام غضب زیر قیادت فضائی حملوں 7 النصرہ گن مین ہلاک ہوگئے تنازعہ زدہ ملک شمال مغرب بدھ روز امریکی زیر قیادت فضائی حملوں شام ساتھ القاعدہ وابستہ النصرہ فرنٹ دہشت گرد گروہ سات عسکریت پسند ہلاک ہوگئے تھے برطانیہ مقیم حزب اختلاف نگرانی کرنے والے ایک گروپ نے بتایا تقریر بدھ بنای تنازع سربراہ سربراہ سربراہ سربراہ سربراہ سربراہ سربراہ سربراہ سربراہ\n",
      "\n",
      "Synthetic Text 32: مدارس نے درس نظامی کورس دورانیہ چھ سال بجا ئے بارہ سال کر دیا سربراہ سربراہ سربراہ سربراہ سربراہ سربراہ سربراہ سربراہ سربراہ سربراہ سربراہ سربراہ سربراہ سربراہ سربراہ سربراہ سربراہ سربراہ سربراہ سربراہ سربراہ سربراہ سربراہ سربراہ سربراہ سربراہ سربراہ سربراہ سربراہ سربراہ سربراہ سربراہ سربراہ سربراہ سربراہ سربراہ سربراہ سربراہ سربراہ سربراہ سربراہ سربراہ سربراہ سربراہ سربراہ سربراہ سربراہ\n",
      "\n",
      "Synthetic Text 33: سیاسی ماہرین مطابق گلگت بلتستان پاکستان ضم کرنے فیصلہ ملک سلامتی مفادات پیش نظر کیا جا رہاہے کیونکہ پاکستان چاہتا تقریر سی پیک راستے محفوظ کیا جائے مگر دوسری جانب انڈیا اس خطے متنازع علاقہ قرار دیتا سربراہ سربراہ سربراہ سربراہ سربراہ سربراہ سربراہ سربراہ سربراہ سربراہ سربراہ سربراہ سربراہ سربراہ سربراہ سربراہ سربراہ سربراہ سربراہ سربراہ سربراہ سربراہ سربراہ پچھلے\n",
      "\n",
      "Synthetic Text 34: مزاق اقوام ڈریڈگ نے مزاحیہ اداکار کیتھی گرفن بے سود لئے کال کیا نہیں مضحکہ خیز بالکل مضحکہ خیز نہیں حکومت فوٹو گرافر ٹیلر شیلڈز آف کیتھی گرفن سر قلم مین ہوئے ٹرمپ سر تھامے ہوئے دیتے شوٹ ٹویٹر تعلیم تھاڈ روڈ رپورٹ نے گریفن اپنی لذت آمیز فوٹو زور دیا حتی کہ لبرلز نے ٹویٹ اپنا غم او غصہ کریک ک سربراہ\n",
      "\n",
      "Synthetic Text 35: دلچسپ بات تقریر وزارت خارجہ طرف اقوام متحدہ ارسال گئی درخواستوں ان رہنماؤں طرف اپنے ماہانہ اخراجات ذکر کیا گیا جو کم کم ایک لاکھ زیادہ زیادہ تین لاکھ روپے تک ہیں سربراہ سربراہ سربراہ سربراہ سربراہ سربراہ سربراہ سربراہ سربراہ سربراہ سربراہ سربراہ سربراہ سربراہ سربراہ سربراہ سربراہ سربراہ سربراہ سربراہ سربراہ سربراہ سربراہ سربراہ سربراہ سربراہ سربراہ سربراہ پچھلے\n",
      "\n",
      "Synthetic Text 36: پاکستان میڈیا ریگولیٹری اتھارٹی پیمرا نے دس محرم الحرام رہے ٹرانسمیشن دوران مبینہ طور نفرت انگیز مواد دوسرے کرنے ایک نجی ٹی وی چینل لائسنس معطل کر دیا سربراہ سربراہ سربراہ سربراہ سربراہ سربراہ سربراہ سربراہ سربراہ سربراہ سربراہ سربراہ سربراہ سربراہ سربراہ سربراہ سربراہ سربراہ سربراہ سربراہ سربراہ سربراہ سربراہ سربراہ سربراہ سربراہ سربراہ سربراہ سربراہ سربراہ سربراہ سربراہ پچھلے\n",
      "\n",
      "Synthetic Text 37: امریکی صدر ڈونلڈ ٹرمپ کرونا مبتلا ہونے بعد آج وفات پا گئے سربراہ سربراہ سربراہ سربراہ سربراہ سربراہ سربراہ سربراہ سربراہ سربراہ سربراہ سربراہ سربراہ سربراہ سربراہ سربراہ سربراہ سربراہ سربراہ سربراہ سربراہ سربراہ سربراہ سربراہ سربراہ سربراہ سربراہ سربراہ سربراہ سربراہ سربراہ سربراہ سربراہ سربراہ سربراہ سربراہ سربراہ سربراہ سربراہ سربراہ سربراہ سربراہ سربراہ سربراہ سربراہ سربراہ سربراہ سربراہ سربراہ\n",
      "\n",
      "Synthetic Text 38: امریکہ دھوکہ دہی ان گرفتاری لئے انتخابی مطالبے چوری کرنے لئے میر ساتھ اتحاد کرتے ہوئے ان عہدوں کہ دیکھیں سربراہ سربراہ سربراہ سربراہ سربراہ سربراہ سربراہ سربراہ سربراہ سربراہ سربراہ سربراہ سربراہ سربراہ سربراہ سربراہ سربراہ سربراہ سربراہ سربراہ سربراہ سربراہ سربراہ سربراہ سربراہ سربراہ سربراہ سربراہ سربراہ سربراہ سربراہ سربراہ سربراہ سربراہ سربراہ سربراہ سربراہ سربراہ سربراہ سربراہ سربراہ\n",
      "\n",
      "Synthetic Text 39: 256 گارڈین حوالے خبر شائع ہوئی کہ شادیی سکھ پاکستان شامل ہونا چاہتے خدشہ ہندوستان لیے اچھا ہو گا سربراہ سربراہ سربراہ سربراہ سربراہ سربراہ سربراہ سربراہ سربراہ سربراہ سربراہ سربراہ سربراہ سربراہ سربراہ سربراہ سربراہ سربراہ سربراہ سربراہ سربراہ سربراہ سربراہ سربراہ سربراہ سربراہ سربراہ سربراہ سربراہ سربراہ سربراہ سربراہ سربراہ سربراہ سربراہ سربراہ سربراہ سربراہ سربراہ سربراہ سربراہ پچھلے\n",
      "\n",
      "Synthetic Text 40: لیکس و روس میمو تبصرے فن گر گل ماہ نامزد فیڈرل کرنے لئے سیاہ فام اس استعمال ہیںوراثت منصوبے انکشاف ہوا سربراہ سربراہ سربراہ سربراہ سربراہ سربراہ سربراہ سربراہ سربراہ سربراہ سربراہ سربراہ سربراہ سربراہ سربراہ سربراہ سربراہ سربراہ سربراہ سربراہ سربراہ سربراہ سربراہ سربراہ سربراہ سربراہ سربراہ سربراہ سربراہ سربراہ سربراہ سربراہ سربراہ سربراہ سربراہ سربراہ سربراہ سربراہ سربراہ سربراہ\n",
      "\n"
     ]
    }
   ],
   "source": [
    "import tensorflow as tf\n",
    "import pandas as pd\n",
    "from sklearn.preprocessing import StandardScaler\n",
    "\n",
    "# Assuming 'dataset' is already created from the code provided\n",
    "data_tensor, label_tensor = zip(*[(data, label) for data, label in dataset])\n",
    "data_array = tf.concat(data_tensor, axis=0).numpy()\n",
    "label_array = tf.concat(label_tensor, axis=0).numpy()\n",
    "\n",
    "# Convert back to DataFrame\n",
    "data_df = pd.DataFrame(data_array)\n",
    "data_df['label'] = label_array\n",
    "\n",
    "# Separate features and labels\n",
    "features = data_df.drop(columns='label')\n",
    "labels = data_df['label']\n",
    "\n",
    "# Apply inverse transform only to the feature columns\n",
    "features_original = scaler.inverse_transform(features)\n",
    "\n",
    "# Create a DataFrame for the original data\n",
    "data_df = pd.DataFrame(features_original, columns=features.columns)\n",
    "data_df['label'] = labels\n",
    "\n",
    "# Sample the DataFrame to match the number of samples specified\n",
    "sampled_data_df = data_df.sample(n=num_samples)\n",
    "\n",
    "# Reconstruct the token_to_id dictionary\n",
    "all_tokens = [token for sublist in org_data['tokens'] for token in sublist]\n",
    "vocab = list(set(all_tokens))\n",
    "token_to_id = {token: idx for idx, token in enumerate(vocab)}\n",
    "id_to_token = {idx: token for token, idx in token_to_id.items()}\n",
    "\n",
    "# Remove padding\n",
    "def remove_padding(sequence, pad_value=0):\n",
    "    return [int(token_id) for token_id in sequence if token_id != pad_value]\n",
    "\n",
    "synthetic_sequences = [remove_padding(seq) for seq in sampled_data_df.drop(columns='label').values]\n",
    "\n",
    "# Generate synthetic_labels (assuming the label column represents binary classification)\n",
    "synthetic_labels = [\"real\" if label == 1 else \"fake\" for label in sampled_data_df['label']]\n",
    "\n",
    "# Convert token IDs back to tokens\n",
    "def ids_to_tokens(ids, id_to_token):\n",
    "    return [id_to_token[int(id)] for id in ids if int(id) in id_to_token]\n",
    "\n",
    "synthetic_texts = [ids_to_tokens(seq, id_to_token) for seq in synthetic_sequences]\n",
    "\n",
    "# Join tokens to form text\n",
    "def tokens_to_text(tokens):\n",
    "    return ' '.join(tokens)\n",
    "\n",
    "synthetic_texts = [tokens_to_text(tokens) for tokens in synthetic_texts]\n",
    "\n",
    "# Display the generated texts\n",
    "for i, text in enumerate(synthetic_texts):\n",
    "    print(f\"Synthetic Text {i+1}: {text}\\n\")\n"
   ]
  },
  {
   "cell_type": "code",
   "execution_count": 56,
   "metadata": {
    "execution": {
     "iopub.execute_input": "2024-06-10T19:24:38.658733Z",
     "iopub.status.busy": "2024-06-10T19:24:38.658075Z",
     "iopub.status.idle": "2024-06-10T19:24:38.671791Z",
     "shell.execute_reply": "2024-06-10T19:24:38.670812Z",
     "shell.execute_reply.started": "2024-06-10T19:24:38.658699Z"
    }
   },
   "outputs": [
    {
     "name": "stdout",
     "output_type": "stream",
     "text": [
      "(4137, 2)\n"
     ]
    },
    {
     "data": {
      "text/html": [
       "<div>\n",
       "<style scoped>\n",
       "    .dataframe tbody tr th:only-of-type {\n",
       "        vertical-align: middle;\n",
       "    }\n",
       "\n",
       "    .dataframe tbody tr th {\n",
       "        vertical-align: top;\n",
       "    }\n",
       "\n",
       "    .dataframe thead th {\n",
       "        text-align: right;\n",
       "    }\n",
       "</style>\n",
       "<table border=\"1\" class=\"dataframe\">\n",
       "  <thead>\n",
       "    <tr style=\"text-align: right;\">\n",
       "      <th></th>\n",
       "      <th>news</th>\n",
       "      <th>label</th>\n",
       "    </tr>\n",
       "  </thead>\n",
       "  <tbody>\n",
       "    <tr>\n",
       "      <th>0</th>\n",
       "      <td>\\tپاکستان کے صوبے پنجاب میں گذشتہ ہفتے ہونے وا...</td>\n",
       "      <td>real</td>\n",
       "    </tr>\n",
       "    <tr>\n",
       "      <th>1</th>\n",
       "      <td>\\tوزیر اعظم عمران خان کے ساجد گوندل کی بازیابی...</td>\n",
       "      <td>real</td>\n",
       "    </tr>\n",
       "    <tr>\n",
       "      <th>2</th>\n",
       "      <td>لاہور(کلچرل رپورٹر)ایشین ایکسی لینس پرفارمنس ا...</td>\n",
       "      <td>fake</td>\n",
       "    </tr>\n",
       "    <tr>\n",
       "      <th>3</th>\n",
       "      <td>امریکی خواتین سوکر اسٹار میگن ریپینو گھٹنوں کے...</td>\n",
       "      <td>fake</td>\n",
       "    </tr>\n",
       "    <tr>\n",
       "      <th>4</th>\n",
       "      <td>\\tوفاق ہو یا صوبے، خیبر پختونخواہ ہو یا پنجاب،...</td>\n",
       "      <td>real</td>\n",
       "    </tr>\n",
       "  </tbody>\n",
       "</table>\n",
       "</div>"
      ],
      "text/plain": [
       "                                                news label\n",
       "0  \\tپاکستان کے صوبے پنجاب میں گذشتہ ہفتے ہونے وا...  real\n",
       "1  \\tوزیر اعظم عمران خان کے ساجد گوندل کی بازیابی...  real\n",
       "2  لاہور(کلچرل رپورٹر)ایشین ایکسی لینس پرفارمنس ا...  fake\n",
       "3  امریکی خواتین سوکر اسٹار میگن ریپینو گھٹنوں کے...  fake\n",
       "4  \\tوفاق ہو یا صوبے، خیبر پختونخواہ ہو یا پنجاب،...  real"
      ]
     },
     "execution_count": 56,
     "metadata": {},
     "output_type": "execute_result"
    }
   ],
   "source": [
    "import pandas as pd\n",
    "\n",
    "# Assuming synthetic_texts and synthetic_labels are already created\n",
    "# Create a DataFrame for the synthetic texts and labels\n",
    "synthetic_data_df = pd.DataFrame({\n",
    "    'news': synthetic_texts,\n",
    "    'label': synthetic_labels\n",
    "})\n",
    "\n",
    "# Combine the synthetic DataFrame with the original DataFrame\n",
    "combined_df = pd.concat([initial_data, synthetic_data_df], ignore_index=True)\n",
    "\n",
    "# Display the combined DataFrame\n",
    "print(combined_df.shape)\n",
    "combined_df.head()\n"
   ]
  },
  {
   "cell_type": "markdown",
   "metadata": {},
   "source": [
    "> as you can see the org data shap was (4097,2) and we train our GAN ith 1000 rows  , wwe have generated 1000 rows new so adding them in org data it becomes (5097,2)"
   ]
  },
  {
   "cell_type": "markdown",
   "metadata": {},
   "source": [
    "# Applying Model  After Text Generation\n",
    "\n",
    "> firstly applying adaboost so we have trioi convert combined_df back to tokenize and then we will apply adaboost"
   ]
  },
  {
   "cell_type": "markdown",
   "metadata": {},
   "source": [
    "## Data Cleaning "
   ]
  },
  {
   "cell_type": "code",
   "execution_count": 57,
   "metadata": {
    "execution": {
     "iopub.execute_input": "2024-06-10T19:24:42.888769Z",
     "iopub.status.busy": "2024-06-10T19:24:42.888412Z",
     "iopub.status.idle": "2024-06-10T19:24:42.899421Z",
     "shell.execute_reply": "2024-06-10T19:24:42.898357Z",
     "shell.execute_reply.started": "2024-06-10T19:24:42.888741Z"
    }
   },
   "outputs": [
    {
     "name": "stdout",
     "output_type": "stream",
     "text": [
      "Total number of rows in the dataset: 4137\n"
     ]
    }
   ],
   "source": [
    "# Set a random seed for reproducibility\n",
    "import pandas as pd\n",
    "np.random.seed(42)  \n",
    "\n",
    "\n",
    "# removing space in label columns \n",
    "combined_df['label'] = combined_df['label'].str.strip()\n",
    "\n",
    "print(\"Total number of rows in the dataset:\", len(combined_df))\n",
    "\n",
    "# Shuffle the rows of the combined DataFrame\n",
    "combined_df = combined_df.sample(frac=1).reset_index(drop=True)\n"
   ]
  },
  {
   "cell_type": "code",
   "execution_count": 58,
   "metadata": {
    "execution": {
     "iopub.execute_input": "2024-06-10T19:24:44.096850Z",
     "iopub.status.busy": "2024-06-10T19:24:44.096475Z",
     "iopub.status.idle": "2024-06-10T19:24:44.271007Z",
     "shell.execute_reply": "2024-06-10T19:24:44.269595Z",
     "shell.execute_reply.started": "2024-06-10T19:24:44.096819Z"
    }
   },
   "outputs": [
    {
     "name": "stdout",
     "output_type": "stream",
     "text": [
      "Percentage of Labels Fake and real after generation : label\n",
      "fake    59.946821\n",
      "real    40.053179\n",
      "Name: count, dtype: float64\n"
     ]
    },
    {
     "data": {
      "image/png": "[encoded data removed]",
      "text/plain": [
       "<Figure size 800x800 with 1 Axes>"
      ]
     },
     "metadata": {},
     "output_type": "display_data"
    }
   ],
   "source": [
    "label_counts = combined_df['label'].value_counts()\n",
    "label_percentages = (label_counts / label_counts.sum()) * 100\n",
    "print(\"Percentage of Labels Fake and real after generation :\",label_percentages)\n",
    "# Plot the percentages using a pie chart\n",
    "plt.figure(figsize=(8, 8))\n",
    "plt.pie(label_percentages, labels=label_percentages.index, autopct='%1.1f%%', startangle=140, colors=['#ff9999','#66b3ff'])\n",
    "plt.title('Percentage of Fake and Real News after generation')\n",
    "plt.axis('equal')  # Equal aspect ratio ensures that pie is drawn as a circle.\n",
    "plt.show()"
   ]
  },
  {
   "cell_type": "markdown",
   "metadata": {},
   "source": [
    "### limiting rows and then preparing them for machine learning algorithms"
   ]
  },
  {
   "cell_type": "code",
   "execution_count": 59,
   "metadata": {
    "execution": {
     "iopub.execute_input": "2024-06-10T19:24:46.647437Z",
     "iopub.status.busy": "2024-06-10T19:24:46.646846Z",
     "iopub.status.idle": "2024-06-10T19:29:06.149616Z",
     "shell.execute_reply": "2024-06-10T19:29:06.148712Z",
     "shell.execute_reply.started": "2024-06-10T19:24:46.647405Z"
    }
   },
   "outputs": [
    {
     "name": "stdout",
     "output_type": "stream",
     "text": [
      "16/16 [==============================] - 2s 112ms/step\n",
      "6/6 [==============================] - 1s 102ms/step\n",
      "137/137 [==============================] - 15s 110ms/step\n",
      "3/3 [==============================] - 0s 113ms/step\n",
      "22/22 [==============================] - 3s 114ms/step\n",
      "13/13 [==============================] - 1s 111ms/step\n",
      "3/3 [==============================] - 0s 109ms/step\n",
      "21/21 [==============================] - 2s 113ms/step\n",
      "23/23 [==============================] - 2s 108ms/step\n",
      "20/20 [==============================] - 2s 113ms/step\n",
      "6/6 [==============================] - 1s 105ms/step\n",
      "3/3 [==============================] - 1s 593ms/step\n",
      "78/78 [==============================] - 9s 110ms/step\n",
      "7/7 [==============================] - 1s 109ms/step\n",
      "7/7 [==============================] - 1s 106ms/step\n",
      "4/4 [==============================] - 0s 103ms/step\n",
      "3/3 [==============================] - 0s 117ms/step\n",
      "13/13 [==============================] - 2s 120ms/step\n",
      "48/48 [==============================] - 5s 109ms/step\n",
      "5/5 [==============================] - 1s 107ms/step\n",
      "7/7 [==============================] - 1s 110ms/step\n",
      "115/115 [==============================] - 13s 109ms/step\n",
      "49/49 [==============================] - 6s 131ms/step\n",
      "4/4 [==============================] - 0s 113ms/step\n",
      "10/10 [==============================] - 1s 106ms/step\n",
      "18/18 [==============================] - 2s 110ms/step\n",
      "26/26 [==============================] - 3s 118ms/step\n",
      "42/42 [==============================] - 5s 109ms/step\n",
      "4/4 [==============================] - 0s 102ms/step\n",
      "8/8 [==============================] - 2s 255ms/step\n",
      "102/102 [==============================] - 11s 110ms/step\n",
      "6/6 [==============================] - 1s 106ms/step\n",
      "4/4 [==============================] - 0s 107ms/step\n",
      "33/33 [==============================] - 4s 107ms/step\n",
      "4/4 [==============================] - 0s 113ms/step\n",
      "10/10 [==============================] - 1s 115ms/step\n",
      "21/21 [==============================] - 2s 110ms/step\n",
      "6/6 [==============================] - 1s 111ms/step\n",
      "10/10 [==============================] - 1s 109ms/step\n",
      "2/2 [==============================] - 0s 141ms/step\n",
      "3/3 [==============================] - 0s 134ms/step\n",
      "57/57 [==============================] - 6s 111ms/step\n",
      "62/62 [==============================] - 7s 110ms/step\n",
      "3/3 [==============================] - 0s 99ms/step\n",
      "22/22 [==============================] - 2s 107ms/step\n",
      "13/13 [==============================] - 1s 108ms/step\n",
      "6/6 [==============================] - 1s 108ms/step\n",
      "7/7 [==============================] - 1s 109ms/step\n",
      "5/5 [==============================] - 1s 108ms/step\n",
      "13/13 [==============================] - 1s 112ms/step\n",
      "3/3 [==============================] - 0s 124ms/step\n",
      "93/93 [==============================] - 10s 111ms/step\n",
      "102/102 [==============================] - 11s 109ms/step\n",
      "8/8 [==============================] - 1s 108ms/step\n",
      "5/5 [==============================] - 1s 109ms/step\n",
      "5/5 [==============================] - 1s 108ms/step\n",
      "12/12 [==============================] - 1s 112ms/step\n",
      "17/17 [==============================] - 2s 110ms/step\n",
      "17/17 [==============================] - 2s 107ms/step\n",
      "4/4 [==============================] - 0s 105ms/step\n",
      "11/11 [==============================] - 1s 109ms/step\n",
      "14/14 [==============================] - 2s 112ms/step\n",
      "150/150 [==============================] - 17s 112ms/step\n",
      "13/13 [==============================] - 1s 113ms/step\n",
      "44/44 [==============================] - 5s 107ms/step\n",
      "2/2 [==============================] - 0s 98ms/step\n",
      "15/15 [==============================] - 2s 110ms/step\n",
      "11/11 [==============================] - 1s 108ms/step\n",
      "96/96 [==============================] - 10s 109ms/step\n",
      "5/5 [==============================] - 1s 114ms/step\n",
      "3/3 [==============================] - 0s 103ms/step\n",
      "10/10 [==============================] - 1s 109ms/step\n",
      "2/2 [==============================] - 0s 121ms/step\n",
      "14/14 [==============================] - 2s 127ms/step\n",
      "7/7 [==============================] - 1s 109ms/step\n",
      "28/28 [==============================] - 3s 108ms/step\n",
      "7/7 [==============================] - 1s 107ms/step\n",
      "7/7 [==============================] - 1s 107ms/step\n",
      "92/92 [==============================] - 10s 109ms/step\n",
      "69/69 [==============================] - 8s 110ms/step\n",
      "5/5 [==============================] - 1s 108ms/step\n",
      "3/3 [==============================] - 1s 548ms/step\n",
      "8/8 [==============================] - 1s 111ms/step\n",
      "6/6 [==============================] - 1s 114ms/step\n",
      "10/10 [==============================] - 1s 111ms/step\n",
      "3/3 [==============================] - 0s 124ms/step\n",
      "6/6 [==============================] - 1s 112ms/step\n",
      "14/14 [==============================] - 2s 125ms/step\n",
      "78/78 [==============================] - 9s 110ms/step\n",
      "6/6 [==============================] - 1s 103ms/step\n",
      "5/5 [==============================] - 1s 112ms/step\n",
      "8/8 [==============================] - 1s 106ms/step\n",
      "13/13 [==============================] - 1s 110ms/step\n",
      "15/15 [==============================] - 2s 109ms/step\n",
      "39/39 [==============================] - 4s 110ms/step\n",
      "5/5 [==============================] - 1s 112ms/step\n",
      "8/8 [==============================] - 1s 110ms/step\n",
      "4/4 [==============================] - 0s 109ms/step\n",
      "21/21 [==============================] - 3s 153ms/step\n",
      "9/9 [==============================] - 1s 110ms/step\n"
     ]
    }
   ],
   "source": [
    "# Limit the number of rows\n",
    "num_rows = 100  # as we have limited resource so i choose top 500 ros after shuffling you can increase \n",
    "combined_df = combined_df.head(num_rows)\n",
    "combined_df[['cleaned_news', 'tokens']] = combined_df['news'].apply(lambda x: pd.Series(preprocess_text_algos(x)))"
   ]
  },
  {
   "cell_type": "markdown",
   "metadata": {},
   "source": [
    "# Vectorizing cleaned Text and Data splitting"
   ]
  },
  {
   "cell_type": "code",
   "execution_count": 60,
   "metadata": {
    "execution": {
     "iopub.execute_input": "2024-06-10T19:29:21.017513Z",
     "iopub.status.busy": "2024-06-10T19:29:21.016620Z",
     "iopub.status.idle": "2024-06-10T19:29:21.038659Z",
     "shell.execute_reply": "2024-06-10T19:29:21.037682Z",
     "shell.execute_reply.started": "2024-06-10T19:29:21.017476Z"
    }
   },
   "outputs": [],
   "source": [
    "# Feature extraction using TF-IDF\n",
    "vectorizer = TfidfVectorizer()\n",
    "X = vectorizer.fit_transform(combined_df['cleaned_news'])\n",
    "\n",
    "# Label encoding\n",
    "label_encoder = LabelEncoder()\n",
    "y = label_encoder.fit_transform(combined_df['label'])\n",
    "\n",
    "# Train-test split\n",
    "X_train, X_test, y_train, y_test = train_test_split(X, y, test_size=0.2, random_state=42, stratify=y)\n",
    "\n"
   ]
  },
  {
   "cell_type": "code",
   "execution_count": null,
   "metadata": {},
   "outputs": [],
   "source": []
  },
  {
   "cell_type": "markdown",
   "metadata": {},
   "source": [
    "# Applying Adaboost"
   ]
  },
  {
   "cell_type": "code",
   "execution_count": 61,
   "metadata": {
    "execution": {
     "iopub.execute_input": "2024-06-10T19:29:30.576148Z",
     "iopub.status.busy": "2024-06-10T19:29:30.575798Z",
     "iopub.status.idle": "2024-06-10T19:29:30.770146Z",
     "shell.execute_reply": "2024-06-10T19:29:30.769202Z",
     "shell.execute_reply.started": "2024-06-10T19:29:30.576121Z"
    }
   },
   "outputs": [
    {
     "name": "stdout",
     "output_type": "stream",
     "text": [
      "Accuracy: ada boost after generating text  0.75\n",
      "              precision    recall  f1-score   support\n",
      "\n",
      "        fake       0.82      0.75      0.78        12\n",
      "        real       0.67      0.75      0.71         8\n",
      "\n",
      "    accuracy                           0.75        20\n",
      "   macro avg       0.74      0.75      0.74        20\n",
      "weighted avg       0.76      0.75      0.75        20\n",
      "\n"
     ]
    }
   ],
   "source": [
    "# AdaBoost implementation\n",
    "model = AdaBoostClassifier(n_estimators=50, random_state=42)\n",
    "model.fit(X_train, y_train)\n",
    "\n",
    "# Predictions and evaluation\n",
    "y_pred = model.predict(X_test)\n",
    "print(\"Accuracy: ada boost after generating text \", accuracy_score(y_test, y_pred))\n",
    "print(classification_report(y_test, y_pred, target_names=label_encoder.classes_, zero_division=0))\n",
    "\n"
   ]
  },
  {
   "cell_type": "code",
   "execution_count": 62,
   "metadata": {
    "execution": {
     "iopub.execute_input": "2024-06-10T19:29:33.890403Z",
     "iopub.status.busy": "2024-06-10T19:29:33.889728Z",
     "iopub.status.idle": "2024-06-10T19:31:23.293040Z",
     "shell.execute_reply": "2024-06-10T19:31:23.292099Z",
     "shell.execute_reply.started": "2024-06-10T19:29:33.890371Z"
    }
   },
   "outputs": [
    {
     "name": "stdout",
     "output_type": "stream",
     "text": [
      "Best Parameters: {'estimator__max_depth': 1, 'learning_rate': 1.0, 'n_estimators': 200}\n",
      "Accuracy: 0.8\n",
      "              precision    recall  f1-score   support\n",
      "\n",
      "           0       0.79      0.92      0.85        12\n",
      "           1       0.83      0.62      0.71         8\n",
      "\n",
      "    accuracy                           0.80        20\n",
      "   macro avg       0.81      0.77      0.78        20\n",
      "weighted avg       0.80      0.80      0.79        20\n",
      "\n",
      "Number of rows processed: 100\n"
     ]
    }
   ],
   "source": [
    "from sklearn.ensemble import AdaBoostClassifier\n",
    "from sklearn.tree import DecisionTreeClassifier\n",
    "from sklearn.model_selection import GridSearchCV\n",
    "from sklearn.metrics import accuracy_score, classification_report\n",
    "from sklearn.preprocessing import LabelEncoder\n",
    "import pandas as pd\n",
    "\n",
    "# Assuming X_train, X_test, y_train, y_test, and combined_df are already defined\n",
    "\n",
    "# Define the parameter grid for Grid Search\n",
    "param_grid = {\n",
    "    'n_estimators': [50, 100, 200],\n",
    "    'learning_rate': [0.01, 0.1, 1.0],\n",
    "    'estimator__max_depth': [1, 2, 3, 4, 5]\n",
    "}\n",
    "\n",
    "# Initialize the base estimator\n",
    "base_estimator = DecisionTreeClassifier(random_state=42)\n",
    "\n",
    "# Initialize the AdaBoostClassifier with the correct parameter name\n",
    "model = AdaBoostClassifier(estimator=base_estimator, random_state=42)\n",
    "\n",
    "# Initialize Grid Search with cross-validation\n",
    "grid_search = GridSearchCV(estimator=model, param_grid=param_grid, cv=5, scoring='accuracy')\n",
    "\n",
    "# Fit the model\n",
    "grid_search.fit(X_train, y_train)\n",
    "\n",
    "# Get the best estimator\n",
    "best_model = grid_search.best_estimator_\n",
    "\n",
    "# Predictions and evaluation\n",
    "y_pred = best_model.predict(X_test)\n",
    "print(\"Best Parameters:\", grid_search.best_params_)\n",
    "print(\"Accuracy:\", accuracy_score(y_test, y_pred))\n",
    "print(classification_report(y_test, y_pred, zero_division=0))\n",
    "\n",
    "# Verify the number of rows processed\n",
    "print(\"Number of rows processed:\", len(combined_df))\n"
   ]
  },
  {
   "cell_type": "markdown",
   "metadata": {},
   "source": [
    "> with parameter tuning e achieve accuracy 85."
   ]
  },
  {
   "cell_type": "markdown",
   "metadata": {},
   "source": [
    "# Applyng Gboost"
   ]
  },
  {
   "cell_type": "code",
   "execution_count": 63,
   "metadata": {
    "execution": {
     "iopub.execute_input": "2024-06-10T19:31:30.951188Z",
     "iopub.status.busy": "2024-06-10T19:31:30.950797Z",
     "iopub.status.idle": "2024-06-10T19:31:31.218725Z",
     "shell.execute_reply": "2024-06-10T19:31:31.217794Z",
     "shell.execute_reply.started": "2024-06-10T19:31:30.951157Z"
    }
   },
   "outputs": [
    {
     "name": "stdout",
     "output_type": "stream",
     "text": [
      "Gradient Boosting Classification Report:\n",
      "               precision    recall  f1-score   support\n",
      "\n",
      "           0       0.71      1.00      0.83        12\n",
      "           1       1.00      0.38      0.55         8\n",
      "\n",
      "    accuracy                           0.75        20\n",
      "   macro avg       0.85      0.69      0.69        20\n",
      "weighted avg       0.82      0.75      0.71        20\n",
      "\n",
      "Gradient Boosting Accuracy: 0.75\n"
     ]
    }
   ],
   "source": [
    "from sklearn.ensemble import GradientBoostingClassifier\n",
    "from sklearn.metrics import classification_report, accuracy_score\n",
    "\n",
    "# Train and evaluate GBoost\n",
    "gboost = GradientBoostingClassifier()\n",
    "gboost.fit(X_train, y_train)\n",
    "y_pred_gboost = gboost.predict(X_test)\n",
    "print(\"Gradient Boosting Classification Report:\\n\", classification_report(y_test, y_pred_gboost))\n",
    "print(\"Gradient Boosting Accuracy:\", accuracy_score(y_test, y_pred_gboost))\n"
   ]
  },
  {
   "cell_type": "code",
   "execution_count": 64,
   "metadata": {
    "execution": {
     "iopub.execute_input": "2024-06-10T19:31:36.015760Z",
     "iopub.status.busy": "2024-06-10T19:31:36.015338Z",
     "iopub.status.idle": "2024-06-10T19:34:08.733525Z",
     "shell.execute_reply": "2024-06-10T19:34:08.732474Z",
     "shell.execute_reply.started": "2024-06-10T19:31:36.015728Z"
    }
   },
   "outputs": [
    {
     "name": "stderr",
     "output_type": "stream",
     "text": [
      "/opt/conda/lib/python3.10/site-packages/joblib/externals/loky/backend/fork_exec.py:38: RuntimeWarning: os.fork() was called. os.fork() is incompatible with multithreaded code, and JAX is multithreaded, so this will likely lead to a deadlock.\n",
      "  pid = os.fork()\n"
     ]
    },
    {
     "name": "stdout",
     "output_type": "stream",
     "text": [
      "Best Parameters: {'learning_rate': 0.2, 'max_depth': 3, 'max_features': None, 'n_estimators': 200, 'subsample': 1.0}\n",
      "Gradient Boosting Classification Report:\n",
      "               precision    recall  f1-score   support\n",
      "\n",
      "           0       0.71      1.00      0.83        12\n",
      "           1       1.00      0.38      0.55         8\n",
      "\n",
      "    accuracy                           0.75        20\n",
      "   macro avg       0.85      0.69      0.69        20\n",
      "weighted avg       0.82      0.75      0.71        20\n",
      "\n",
      "Gradient Boosting Accuracy: 0.75\n"
     ]
    }
   ],
   "source": [
    "# para meter tuning of Gboost \n",
    "from sklearn.ensemble import GradientBoostingClassifier\n",
    "from sklearn.model_selection import GridSearchCV\n",
    "from sklearn.metrics import classification_report, accuracy_score\n",
    "\n",
    "# Define the parameter grid for Grid Search\n",
    "param_grid = {\n",
    "    'n_estimators': [100, 200, 300],\n",
    "    'learning_rate': [0.01, 0.1, 0.2],\n",
    "    'max_depth': [3, 4, 5],\n",
    "    'subsample': [0.8, 0.9, 1.0],\n",
    "    'max_features': ['sqrt', 'log2', None]\n",
    "}\n",
    "\n",
    "# Initialize the GradientBoostingClassifier\n",
    "gboost = GradientBoostingClassifier(random_state=42)\n",
    "\n",
    "# Initialize Grid Search with cross-validation\n",
    "grid_search = GridSearchCV(estimator=gboost, param_grid=param_grid, cv=5, scoring='accuracy', n_jobs=-1)\n",
    "\n",
    "# Fit the model\n",
    "grid_search.fit(X_train, y_train)\n",
    "\n",
    "# Get the best estimator\n",
    "best_model = grid_search.best_estimator_\n",
    "\n",
    "# Predictions and evaluation\n",
    "y_pred_gboost = best_model.predict(X_test)\n",
    "print(\"Best Parameters:\", grid_search.best_params_)\n",
    "print(\"Gradient Boosting Classification Report:\\n\", classification_report(y_test, y_pred_gboost, zero_division=0))\n",
    "print(\"Gradient Boosting Accuracy:\", accuracy_score(y_test, y_pred_gboost))\n"
   ]
  },
  {
   "cell_type": "markdown",
   "metadata": {},
   "source": [
    "# Applying XGBoost"
   ]
  },
  {
   "cell_type": "code",
   "execution_count": null,
   "metadata": {},
   "outputs": [],
   "source": []
  },
  {
   "cell_type": "code",
   "execution_count": 65,
   "metadata": {
    "execution": {
     "iopub.execute_input": "2024-06-10T19:34:18.308804Z",
     "iopub.status.busy": "2024-06-10T19:34:18.308361Z",
     "iopub.status.idle": "2024-06-10T19:35:47.863627Z",
     "shell.execute_reply": "2024-06-10T19:35:47.862835Z",
     "shell.execute_reply.started": "2024-06-10T19:34:18.308764Z"
    }
   },
   "outputs": [
    {
     "name": "stdout",
     "output_type": "stream",
     "text": [
      "Best Parameters: {'colsample_bytree': 0.8, 'learning_rate': 0.01, 'max_depth': 3, 'n_estimators': 200, 'subsample': 1.0}\n",
      "XGBoost Classification Report:\n",
      "               precision    recall  f1-score   support\n",
      "\n",
      "           0       0.64      0.75      0.69        12\n",
      "           1       0.50      0.38      0.43         8\n",
      "\n",
      "    accuracy                           0.60        20\n",
      "   macro avg       0.57      0.56      0.56        20\n",
      "weighted avg       0.59      0.60      0.59        20\n",
      "\n",
      "XGBoost Accuracy: 0.6\n"
     ]
    }
   ],
   "source": [
    "# parameter tuning for Xgboost\n",
    "import xgboost as xgb\n",
    "from sklearn.model_selection import GridSearchCV\n",
    "from sklearn.metrics import classification_report, accuracy_score\n",
    "\n",
    "# Define the parameter grid for Grid Search\n",
    "param_grid = {\n",
    "    'n_estimators': [100, 200, 300],\n",
    "    'learning_rate': [0.01, 0.1, 0.2],\n",
    "    'max_depth': [3, 4, 5],\n",
    "    'subsample': [0.8, 0.9, 1.0],\n",
    "    'colsample_bytree': [0.8, 0.9, 1.0]\n",
    "}\n",
    "\n",
    "# Initialize the XGBClassifier\n",
    "xgb_model = xgb.XGBClassifier(use_label_encoder=False, eval_metric='mlogloss', random_state=42)\n",
    "\n",
    "# Initialize Grid Search with cross-validation\n",
    "grid_search = GridSearchCV(estimator=xgb_model, param_grid=param_grid, cv=5, scoring='accuracy', n_jobs=-1)\n",
    "\n",
    "# Fit the model\n",
    "grid_search.fit(X_train, y_train)\n",
    "\n",
    "# Get the best estimator\n",
    "\n",
    "best_model = grid_search.best_estimator_\n",
    "\n",
    "# Predictions and evaluation\n",
    "y_pred_xgb = best_model.predict(X_test)\n",
    "print(\"Best Parameters:\", grid_search.best_params_)\n",
    "print(\"XGBoost Classification Report:\\n\", classification_report(y_test, y_pred_xgb, zero_division=0))\n",
    "print(\"XGBoost Accuracy:\", accuracy_score(y_test, y_pred_xgb))\n",
    "\n"
   ]
  },
  {
   "cell_type": "markdown",
   "metadata": {},
   "source": [
    "# Applying Neuaral Netwrok with 4 layers "
   ]
  },
  {
   "cell_type": "code",
   "execution_count": 66,
   "metadata": {
    "execution": {
     "iopub.execute_input": "2024-06-10T19:35:57.910201Z",
     "iopub.status.busy": "2024-06-10T19:35:57.909353Z",
     "iopub.status.idle": "2024-06-10T19:35:59.830843Z",
     "shell.execute_reply": "2024-06-10T19:35:59.829952Z",
     "shell.execute_reply.started": "2024-06-10T19:35:57.910167Z"
    }
   },
   "outputs": [
    {
     "name": "stdout",
     "output_type": "stream",
     "text": [
      "Epoch 1/10\n",
      "3/3 [==============================] - 1s 7ms/step - loss: 0.6944 - accuracy: 0.4250\n",
      "Epoch 2/10\n",
      "3/3 [==============================] - 0s 5ms/step - loss: 0.6869 - accuracy: 0.9375\n",
      "Epoch 3/10\n",
      "3/3 [==============================] - 0s 5ms/step - loss: 0.6809 - accuracy: 1.0000\n",
      "Epoch 4/10\n",
      "3/3 [==============================] - 0s 5ms/step - loss: 0.6728 - accuracy: 1.0000\n",
      "Epoch 5/10\n",
      "3/3 [==============================] - 0s 5ms/step - loss: 0.6623 - accuracy: 1.0000\n",
      "Epoch 6/10\n",
      "3/3 [==============================] - 0s 5ms/step - loss: 0.6481 - accuracy: 1.0000\n",
      "Epoch 7/10\n",
      "3/3 [==============================] - 0s 5ms/step - loss: 0.6291 - accuracy: 1.0000\n",
      "Epoch 8/10\n",
      "3/3 [==============================] - 0s 5ms/step - loss: 0.6032 - accuracy: 1.0000\n",
      "Epoch 9/10\n",
      "3/3 [==============================] - 0s 5ms/step - loss: 0.5683 - accuracy: 1.0000\n",
      "Epoch 10/10\n",
      "3/3 [==============================] - 0s 5ms/step - loss: 0.5211 - accuracy: 1.0000\n",
      "1/1 [==============================] - 0s 61ms/step\n",
      "Neural Network (4 layers) Classification Report:\n",
      "               precision    recall  f1-score   support\n",
      "\n",
      "           0       0.86      0.50      0.63        12\n",
      "           1       0.54      0.88      0.67         8\n",
      "\n",
      "   micro avg       0.65      0.65      0.65        20\n",
      "   macro avg       0.70      0.69      0.65        20\n",
      "weighted avg       0.73      0.65      0.65        20\n",
      " samples avg       0.65      0.65      0.65        20\n",
      "\n",
      "Neural Network (4 layers) Accuracy: 0.65\n"
     ]
    }
   ],
   "source": [
    "from tensorflow.keras.models import Sequential\n",
    "from tensorflow.keras.layers import Dense\n",
    "from sklearn.metrics import classification_report, accuracy_score\n",
    "import tensorflow as tf\n",
    "from tensorflow.keras.optimizers import Adam\n",
    "from scipy.sparse import csr_matrix\n",
    "from tensorflow.keras.utils import to_categorical\n",
    "\n",
    "# Convert labels to one-hot encoding\n",
    "y_train_encoded = to_categorical(y_train, num_classes=2)\n",
    "y_test_encoded = to_categorical(y_test, num_classes=2)\n",
    "\n",
    "# Convert sparse matrices to dense, if necessary\n",
    "X_train_dense = csr_matrix(X_train).todense()\n",
    "X_test_dense = csr_matrix(X_test).todense()\n",
    "\n",
    "# Define the neural network\n",
    "nn4 = Sequential([\n",
    "    Dense(128, input_dim=X_train.shape[1], activation='relu'),\n",
    "    Dense(64, activation='relu'),\n",
    "    Dense(32, activation='relu'),\n",
    "    Dense(16, activation='relu'),\n",
    "    Dense(2, activation='softmax')  # Use 2 neurons for two classes\n",
    "])\n",
    "\n",
    "# Compile the model with appropriate loss function and optimizer\n",
    "optimizer = Adam(learning_rate=0.001)\n",
    "nn4.compile(optimizer=optimizer, loss='binary_crossentropy', metrics=['accuracy'])\n",
    "\n",
    "# Train the model\n",
    "nn4.fit(X_train_dense, y_train_encoded, epochs=10, batch_size=32, verbose=1)\n",
    "\n",
    "# Predict and evaluate the model\n",
    "y_pred_nn4 = nn4.predict(X_test_dense)\n",
    "y_pred_nn4 = (y_pred_nn4 > 0.5).astype(\"int32\")\n",
    "\n",
    "print(\"Neural Network (4 layers) Classification Report:\\n\", classification_report(y_test_encoded, y_pred_nn4))\n",
    "print(\"Neural Network (4 layers) Accuracy:\", accuracy_score(y_test_encoded.argmax(axis=1), y_pred_nn4.argmax(axis=1)))\n",
    "\n"
   ]
  },
  {
   "cell_type": "markdown",
   "metadata": {
    "execution": {
     "iopub.execute_input": "2024-06-05T18:55:35.787044Z",
     "iopub.status.busy": "2024-06-05T18:55:35.786100Z",
     "iopub.status.idle": "2024-06-05T18:55:35.830779Z",
     "shell.execute_reply": "2024-06-05T18:55:35.829518Z",
     "shell.execute_reply.started": "2024-06-05T18:55:35.787005Z"
    }
   },
   "source": [
    "# Applying Neural Network with 6 layers"
   ]
  },
  {
   "cell_type": "code",
   "execution_count": 67,
   "metadata": {
    "execution": {
     "iopub.execute_input": "2024-06-10T19:36:08.148196Z",
     "iopub.status.busy": "2024-06-10T19:36:08.147816Z",
     "iopub.status.idle": "2024-06-10T19:36:10.931033Z",
     "shell.execute_reply": "2024-06-10T19:36:10.930090Z",
     "shell.execute_reply.started": "2024-06-10T19:36:08.148170Z"
    }
   },
   "outputs": [
    {
     "name": "stdout",
     "output_type": "stream",
     "text": [
      "1/1 [==============================] - 0s 72ms/step\n",
      "Neural Network (6 layers) Classification Report:\n",
      "               precision    recall  f1-score   support\n",
      "\n",
      "           0       1.00      0.50      0.67        12\n",
      "           1       0.80      0.50      0.62         8\n",
      "\n",
      "   micro avg       0.91      0.50      0.65        20\n",
      "   macro avg       0.90      0.50      0.64        20\n",
      "weighted avg       0.92      0.50      0.65        20\n",
      " samples avg       0.50      0.50      0.50        20\n",
      "\n",
      "Neural Network (6 layers) Accuracy: 0.5\n"
     ]
    },
    {
     "name": "stderr",
     "output_type": "stream",
     "text": [
      "/opt/conda/lib/python3.10/site-packages/sklearn/metrics/_classification.py:1344: UndefinedMetricWarning: Precision and F-score are ill-defined and being set to 0.0 in samples with no predicted labels. Use `zero_division` parameter to control this behavior.\n",
      "  _warn_prf(average, modifier, msg_start, len(result))\n"
     ]
    }
   ],
   "source": [
    "from tensorflow.keras.models import Sequential\n",
    "from tensorflow.keras.layers import Dense\n",
    "from sklearn.metrics import classification_report, accuracy_score\n",
    "# Convert labels to one-hot encoding\n",
    "y_train_encoded = to_categorical(y_train, num_classes=2)\n",
    "y_test_encoded = to_categorical(y_test, num_classes=2)\n",
    "\n",
    "# Convert sparse matrices to dense, if necessary\n",
    "X_train_dense = csr_matrix(X_train).todense()\n",
    "X_test_dense = csr_matrix(X_test).todense()\n",
    "\n",
    "# Neural network with 6 layers\n",
    "nn6 = Sequential([\n",
    "    Dense(128, input_dim=X_train.shape[1], activation='relu'),\n",
    "    Dense(64, activation='relu'),\n",
    "    Dense(32, activation='relu'),\n",
    "    Dense(16, activation='relu'),\n",
    "    Dense(8, activation='relu'),\n",
    "    Dense(4, activation='relu'),\n",
    "    Dense(2, activation='sigmoid')\n",
    "])\n",
    "nn6.compile(optimizer='adam', loss='binary_crossentropy', metrics=['accuracy'])\n",
    "nn6.fit(X_train_dense, y_train_encoded, epochs=50, batch_size=32, verbose=0)\n",
    "y_pred_nn6 = (nn6.predict(X_test_dense) > 0.5).astype(\"int32\")\n",
    "print(\"Neural Network (6 layers) Classification Report:\\n\", classification_report(y_test_encoded, y_pred_nn6))\n",
    "print(\"Neural Network (6 layers) Accuracy:\", accuracy_score(y_test_encoded, y_pred_nn6))\n"
   ]
  },
  {
   "cell_type": "code",
   "execution_count": null,
   "metadata": {},
   "outputs": [],
   "source": []
  },
  {
   "cell_type": "code",
   "execution_count": null,
   "metadata": {},
   "outputs": [],
   "source": []
  },
  {
   "cell_type": "code",
   "execution_count": null,
   "metadata": {},
   "outputs": [],
   "source": []
  },
  {
   "cell_type": "code",
   "execution_count": null,
   "metadata": {},
   "outputs": [],
   "source": []
  }
 ],
 "metadata": {
  "kaggle": {
   "accelerator": "nvidiaTeslaT4",
   "dataSources": [
    {
     "datasetId": 5124355,
     "sourceId": 8570247,
     "sourceType": "datasetVersion"
    }
   ],
   "dockerImageVersionId": 30732,
   "isGpuEnabled": true,
   "isInternetEnabled": true,
   "language": "python",
   "sourceType": "notebook"
  },
  "kernelspec": {
   "display_name": "Python 3 (ipykernel)",
   "language": "python",
   "name": "python3"
  },
  "language_info": {
   "codemirror_mode": {
    "name": "ipython",
    "version": 3
   },
   "file_extension": ".py",
   "mimetype": "text/x-python",
   "name": "python",
   "nbconvert_exporter": "python",
   "pygments_lexer": "ipython3",
   "version": "3.11.5"
  }
 },
 "nbformat": 4,
 "nbformat_minor": 4
}
