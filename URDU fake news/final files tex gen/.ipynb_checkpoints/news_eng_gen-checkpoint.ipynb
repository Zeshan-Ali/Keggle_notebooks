{
 "cells": [
  {
   "cell_type": "code",
   "execution_count": 20,
   "metadata": {
    "_cell_guid": "b1076dfc-b9ad-4769-8c92-a6c4dae69d19",
    "_uuid": "8f2839f25d086af736a60e9eeb907d3b93b6e0e5",
    "execution": {
     "iopub.execute_input": "2024-05-30T10:39:53.193331Z",
     "iopub.status.busy": "2024-05-30T10:39:53.192915Z",
     "iopub.status.idle": "2024-05-30T11:23:53.285988Z",
     "shell.execute_reply": "2024-05-30T11:23:53.285035Z",
     "shell.execute_reply.started": "2024-05-30T10:39:53.193299Z"
    }
   },
   "outputs": [
    {
     "name": "stdout",
     "output_type": "stream",
     "text": [
      "Using device: cpu\n",
      "Error generating text for input: SEATTLE/WASHINGTON (Reuters) - President Donald Tr...: index out of range in self\n",
      "Skipped text at index 0 due to generation error.\n",
      "Error generating text for input: NEW YORK (Reuters) - The U.S. Justice Department h...: index out of range in self\n",
      "Skipped text at index 18 due to generation error.\n",
      "Error generating text for input: LIMA (Reuters) - Peru’s President Pedro Pablo Kucz...: index out of range in self\n",
      "Skipped text at index 25 due to generation error.\n",
      "Error generating text for input:  KING OF PRUSSIA, Pennsylvania/WASHINGTON (Reuters...: index out of range in self\n",
      "Skipped text at index 31 due to generation error.\n",
      "Error generating text for input: (Reuters) - The U.S. State Department has told ref...: index out of range in self\n",
      "Skipped text at index 34 due to generation error.\n",
      "Error generating text for input: WASHINGTON (Reuters) - The Republican-controlled U...: index out of range in self\n",
      "Skipped text at index 47 due to generation error.\n",
      "Error generating text for input: WASHINGTON (Reuters) - The tax bill is President D...: index out of range in self\n",
      "Skipped text at index 61 due to generation error.\n",
      "Error generating text for input: ATLANTA (Reuters) - The two Democratic candidates ...: index out of range in self\n",
      "Skipped text at index 63 due to generation error.\n",
      "Error generating text for input: (Reuters) - The U.S. House of Representatives gave...: index out of range in self\n",
      "Skipped text at index 66 due to generation error.\n",
      "Error generating text for input: (Reuters) - The U.S. tax overhaul as currently pro...: index out of range in self\n",
      "Skipped text at index 75 due to generation error.\n",
      "Error generating text for input: (Reuters) - The Republican-controlled U.S. House o...: index out of range in self\n",
      "Skipped text at index 78 due to generation error.\n",
      "Error generating text for input: WASHINGTON (Reuters) - U.S. President Donald Trump...: index out of range in self\n",
      "Skipped text at index 96 due to generation error.\n",
      "Error generating text for input: WASHINGTON (Reuters) - Congressional Republicans o...: index out of range in self\n",
      "Skipped text at index 104 due to generation error.\n",
      "Error generating text for input: (Reuters) - The U.S. Congress is expected to vote ...: index out of range in self\n",
      "Skipped text at index 108 due to generation error.\n",
      "Error generating text for input: NEW YORK (Reuters) - The surprise victory by Democ...: index out of range in self\n",
      "Skipped text at index 145 due to generation error.\n",
      "Error generating text for input: WASHINGTON (Reuters) - Congressional Republicans r...: index out of range in self\n",
      "Skipped text at index 160 due to generation error.\n",
      "Error generating text for input: WASHINGTON (Reuters) - Democrats said on Wednesday...: index out of range in self\n",
      "Skipped text at index 161 due to generation error.\n",
      "Error generating text for input: WASHINGTON (Reuters) - The solidly Republican Sout...: index out of range in self\n",
      "Skipped text at index 173 due to generation error.\n",
      "Error generating text for input: NEW YORK (Reuters) - Democrat Doug Jones won a bit...: index out of range in self\n",
      "Skipped text at index 183 due to generation error.\n",
      "Error generating text for input: WASHINGTON (Reuters) - U.S. Senator Kirsten Gillib...: index out of range in self\n",
      "Skipped text at index 186 due to generation error.\n",
      "Error generating text for input: WASHINGTON (Reuters) - In backing Roy Moore in Ala...: index out of range in self\n",
      "Skipped text at index 187 due to generation error.\n",
      "Error generating text for input: (Reuters) - Three of the women who have accused U....: index out of range in self\n",
      "Skipped text at index 216 due to generation error.\n",
      "Error generating text for input:  (In this Dec. 8 story, corrects Peters’ affiliati...: index out of range in self\n",
      "Skipped text at index 222 due to generation error.\n",
      "Error generating text for input: WASHINGTON (Reuters) - Incoming Federal Reserve ch...: index out of range in self\n",
      "Skipped text at index 224 due to generation error.\n",
      "Error generating text for input: LOWER MERION, Pa. (Reuters) - In Pennsylvania stat...: index out of range in self\n",
      "Skipped text at index 225 due to generation error.\n",
      "Error generating text for input: WASHINGTON (Reuters on Friday ) - U.S. Special Cou...: index out of range in self\n",
      "Skipped text at index 227 due to generation error.\n",
      "Error generating text for input:  WASHINGTON (Reuters) - In late October, President...: index out of range in self\n",
      "Skipped text at index 229 due to generation error.\n",
      "Error generating text for input: NEW YORK (Reuters) - Investors looking for the U.S...: index out of range in self\n",
      "Skipped text at index 246 due to generation error.\n",
      "Error generating text for input: WASHINGTON (Reuters) - U.S. Democratic Senator Al ...: index out of range in self\n",
      "Skipped text at index 247 due to generation error.\n",
      "Error generating text for input: BIRMINGHAM, Ala. (Reuters) - Name-calling is not u...: index out of range in self\n",
      "Skipped text at index 292 due to generation error.\n",
      "Error generating text for input:  SACRAMENTO, Calif. (Reuters) - Laura Russo is jus...: index out of range in self\n",
      "Skipped text at index 295 due to generation error.\n",
      "Error generating text for input:  FRANKFURT/WASHINGTON (Reuters) - A U.S. federal i...: index out of range in self\n",
      "Skipped text at index 308 due to generation error.\n",
      "Error generating text for input: BRUSSELS (Reuters) - U.S. Secretary of State Rex T...: index out of range in self\n",
      "Skipped text at index 328 due to generation error.\n",
      "Error generating text for input: WASHINGTON (Reuters) - The U.S. Supreme Court on M...: index out of range in self\n",
      "Skipped text at index 337 due to generation error.\n",
      "Error generating text for input: WASHINGTON (Reuters) - Former national security ad...: index out of range in self\n",
      "Skipped text at index 356 due to generation error.\n",
      "Error generating text for input: WASHINGTON/NEW YORK (Reuters) - A series of tweets...: index out of range in self\n",
      "Skipped text at index 357 due to generation error.\n",
      "Error generating text for input: WASHINGTON/NEW YORK (Reuters) - U.S. President Don...: index out of range in self\n",
      "Skipped text at index 367 due to generation error.\n",
      "Error generating text for input: BRUSSELS/BERLIN (Reuters) - On the eve of his trip...: index out of range in self\n",
      "Skipped text at index 368 due to generation error.\n",
      "Error generating text for input: WASHINGTON (Reuters) - The U.S. Senate narrowly ap...: index out of range in self\n",
      "Skipped text at index 373 due to generation error.\n",
      "Error generating text for input: WASHINGTON (Reuters) - When Republicans tried to r...: index out of range in self\n",
      "Skipped text at index 379 due to generation error.\n",
      "Error generating text for input: WASHINGTON (Reuters) - Backers of a U.S.-Russian p...: index out of range in self\n",
      "Skipped text at index 381 due to generation error.\n",
      "Error generating text for input: WASHINGTON (Reuters) - Pennsylvania’s Attorney Gen...: index out of range in self\n",
      "Skipped text at index 389 due to generation error.\n",
      "Error generating text for input: (Reuters) - The legal document charging Michael Fl...: index out of range in self\n",
      "Skipped text at index 394 due to generation error.\n",
      "Error generating text for input: NEW YORK (Reuters) - A proposal driven by Presiden...: index out of range in self\n",
      "Skipped text at index 395 due to generation error.\n",
      "Error generating text for input: WASHINGTON (Reuters) - The U.S. Senate on Thursday...: index out of range in self\n",
      "Skipped text at index 414 due to generation error.\n",
      "Error generating text for input: WASHINGTON (Reuters) - President Donald Trump is c...: index out of range in self\n",
      "Skipped text at index 420 due to generation error.\n",
      "Error generating text for input: WASHINGTON (Reuters) - A spate of sexual misconduc...: index out of range in self\n",
      "Skipped text at index 431 due to generation error.\n",
      "Error generating text for input: WASHINGTON (Reuters) - The U.S. Senate on Thursday...: index out of range in self\n",
      "Skipped text at index 439 due to generation error.\n",
      "Error generating text for input: LONDON (Reuters) - U.S. President Donald Trump spa...: index out of range in self\n",
      "Skipped text at index 443 due to generation error.\n",
      "Error generating text for input: WASHINGTON/LONDON (Reuters) - President Donald Tru...: index out of range in self\n",
      "Skipped text at index 448 due to generation error.\n",
      "Error generating text for input: WASHINGTON (Reuters) - The U.S. Senate on Wednesda...: index out of range in self\n",
      "Skipped text at index 462 due to generation error.\n",
      "Error generating text for input: WASHINGTON (Reuters) - U.S. Senate Republicans ram...: index out of range in self\n",
      "Skipped text at index 485 due to generation error.\n",
      "Error generating text for input: (Reuters) - U.S. Republicans made progress on Tues...: index out of range in self\n",
      "Skipped text at index 490 due to generation error.\n",
      "Error generating text for input: SEATTLE/WASHINGTON (Reuters) - President Donald Tr...: index out of range in self\n",
      "Skipped text at index 0 due to generation error.\n",
      "Error generating text for input: NEW YORK (Reuters) - The U.S. Justice Department h...: index out of range in self\n",
      "Skipped text at index 17 due to generation error.\n",
      "Error generating text for input: LIMA (Reuters) - Peru’s President Pedro Pablo Kucz...: index out of range in self\n",
      "Skipped text at index 24 due to generation error.\n",
      "Error generating text for input:  KING OF PRUSSIA, Pennsylvania/WASHINGTON (Reuters...: index out of range in self\n",
      "Skipped text at index 32 due to generation error.\n",
      "Error generating text for input: (Reuters) - The U.S. State Department has told ref...: index out of range in self\n",
      "Skipped text at index 34 due to generation error.\n",
      "Error generating text for input: WASHINGTON (Reuters) - The Republican-controlled U...: index out of range in self\n",
      "Skipped text at index 47 due to generation error.\n",
      "Error generating text for input: WASHINGTON (Reuters) - The tax bill is President D...: index out of range in self\n",
      "Skipped text at index 61 due to generation error.\n",
      "Error generating text for input: ATLANTA (Reuters) - The two Democratic candidates ...: index out of range in self\n",
      "Skipped text at index 63 due to generation error.\n",
      "Error generating text for input: (Reuters) - The U.S. House of Representatives gave...: index out of range in self\n",
      "Skipped text at index 66 due to generation error.\n",
      "Error generating text for input: (Reuters) - The U.S. tax overhaul as currently pro...: index out of range in self\n",
      "Skipped text at index 75 due to generation error.\n",
      "Error generating text for input: (Reuters) - The Republican-controlled U.S. House o...: index out of range in self\n",
      "Skipped text at index 81 due to generation error.\n",
      "Error generating text for input: WASHINGTON (Reuters) - U.S. President Donald Trump...: index out of range in self\n",
      "Skipped text at index 96 due to generation error.\n",
      "Error generating text for input: WASHINGTON (Reuters) - Congressional Republicans o...: index out of range in self\n",
      "Skipped text at index 104 due to generation error.\n",
      "Error generating text for input: (Reuters) - The U.S. Congress is expected to vote ...: index out of range in self\n",
      "Skipped text at index 107 due to generation error.\n",
      "Error generating text for input: NEW YORK (Reuters) - The surprise victory by Democ...: index out of range in self\n",
      "Skipped text at index 144 due to generation error.\n",
      "Error generating text for input: WASHINGTON (Reuters) - Congressional Republicans r...: index out of range in self\n",
      "Skipped text at index 159 due to generation error.\n",
      "Error generating text for input: WASHINGTON (Reuters) - Democrats said on Wednesday...: index out of range in self\n",
      "Skipped text at index 162 due to generation error.\n",
      "Error generating text for input: WASHINGTON (Reuters) - The solidly Republican Sout...: index out of range in self\n",
      "Skipped text at index 172 due to generation error.\n",
      "Error generating text for input: NEW YORK (Reuters) - Democrat Doug Jones won a bit...: index out of range in self\n",
      "Skipped text at index 183 due to generation error.\n",
      "Error generating text for input: WASHINGTON (Reuters) - In backing Roy Moore in Ala...: index out of range in self\n",
      "Skipped text at index 186 due to generation error.\n",
      "Error generating text for input: WASHINGTON (Reuters) - U.S. Senator Kirsten Gillib...: index out of range in self\n",
      "Skipped text at index 187 due to generation error.\n",
      "Error generating text for input: (Reuters) - Three of the women who have accused U....: index out of range in self\n",
      "Skipped text at index 217 due to generation error.\n",
      "Error generating text for input:  (In this Dec. 8 story, corrects Peters’ affiliati...: index out of range in self\n",
      "Skipped text at index 221 due to generation error.\n",
      "Error generating text for input: LOWER MERION, Pa. (Reuters) - In Pennsylvania stat...: index out of range in self\n",
      "Error generating text for input: WASHINGTON (Reuters) - Incoming Federal Reserve ch...: index out of range in self\n",
      "Skipped text at index 224 due to generation error.\n",
      "Skipped text at index 225 due to generation error.\n",
      "Error generating text for input: WASHINGTON (Reuters on Friday ) - U.S. Special Cou...: index out of range in self\n",
      "Skipped text at index 227 due to generation error.\n",
      "Error generating text for input:  WASHINGTON (Reuters) - In late October, President...: index out of range in self\n",
      "Skipped text at index 231 due to generation error.\n",
      "Error generating text for input: NEW YORK (Reuters) - Investors looking for the U.S...: index out of range in self\n",
      "Skipped text at index 244 due to generation error.\n",
      "Error generating text for input: WASHINGTON (Reuters) - U.S. Democratic Senator Al ...: index out of range in self\n",
      "Skipped text at index 247 due to generation error.\n",
      "Error generating text for input: BIRMINGHAM, Ala. (Reuters) - Name-calling is not u...: index out of range in self\n",
      "Skipped text at index 293 due to generation error.\n",
      "Error generating text for input:  SACRAMENTO, Calif. (Reuters) - Laura Russo is jus...: index out of range in self\n",
      "Skipped text at index 295 due to generation error.\n",
      "Error generating text for input:  FRANKFURT/WASHINGTON (Reuters) - A U.S. federal i...: index out of range in self\n",
      "Skipped text at index 306 due to generation error.\n",
      "Error generating text for input: BRUSSELS (Reuters) - U.S. Secretary of State Rex T...: index out of range in self\n",
      "Skipped text at index 328 due to generation error.\n",
      "Error generating text for input: WASHINGTON (Reuters) - The U.S. Supreme Court on M...: index out of range in self\n",
      "Skipped text at index 338 due to generation error.\n",
      "Error generating text for input: WASHINGTON/NEW YORK (Reuters) - A series of tweets...: index out of range in self\n",
      "Skipped text at index 356 due to generation error.\n",
      "Error generating text for input: WASHINGTON (Reuters) - Former national security ad...: index out of range in self\n",
      "Skipped text at index 357 due to generation error.\n",
      "Error generating text for input: WASHINGTON/NEW YORK (Reuters) - U.S. President Don...: index out of range in self\n",
      "Skipped text at index 367 due to generation error.\n",
      "Error generating text for input: BRUSSELS/BERLIN (Reuters) - On the eve of his trip...: index out of range in self\n",
      "Skipped text at index 368 due to generation error.\n",
      "Error generating text for input: WASHINGTON (Reuters) - The U.S. Senate narrowly ap...: index out of range in self\n",
      "Skipped text at index 373 due to generation error.\n",
      "Error generating text for input: WASHINGTON (Reuters) - When Republicans tried to r...: index out of range in self\n",
      "Skipped text at index 378 due to generation error.\n",
      "Error generating text for input: WASHINGTON (Reuters) - Backers of a U.S.-Russian p...: index out of range in self\n",
      "Skipped text at index 381 due to generation error.\n",
      "Error generating text for input: WASHINGTON (Reuters) - Pennsylvania’s Attorney Gen...: index out of range in self\n",
      "Skipped text at index 386 due to generation error.\n",
      "Error generating text for input: NEW YORK (Reuters) - A proposal driven by Presiden...: index out of range in self\n",
      "Skipped text at index 393 due to generation error.\n",
      "Error generating text for input: (Reuters) - The legal document charging Michael Fl...: index out of range in self\n",
      "Skipped text at index 395 due to generation error.\n",
      "Error generating text for input: WASHINGTON (Reuters) - The U.S. Senate on Thursday...: index out of range in self\n",
      "Skipped text at index 414 due to generation error.\n",
      "Error generating text for input: WASHINGTON (Reuters) - President Donald Trump is c...: index out of range in self\n",
      "Skipped text at index 419 due to generation error.\n",
      "Error generating text for input: WASHINGTON (Reuters) - A spate of sexual misconduc...: index out of range in self\n",
      "Skipped text at index 431 due to generation error.\n",
      "Error generating text for input: WASHINGTON (Reuters) - The U.S. Senate on Thursday...: index out of range in self\n",
      "Skipped text at index 439 due to generation error.\n",
      "Error generating text for input: LONDON (Reuters) - U.S. President Donald Trump spa...: index out of range in self\n",
      "Skipped text at index 443 due to generation error.\n",
      "Error generating text for input: WASHINGTON/LONDON (Reuters) - President Donald Tru...: index out of range in self\n",
      "Skipped text at index 448 due to generation error.\n",
      "Error generating text for input: WASHINGTON (Reuters) - The U.S. Senate on Wednesda...: index out of range in self\n",
      "Skipped text at index 462 due to generation error.\n",
      "Error generating text for input: WASHINGTON (Reuters) - U.S. Senate Republicans ram...: index out of range in self\n",
      "Skipped text at index 485 due to generation error.\n",
      "Error generating text for input: (Reuters) - U.S. Republicans made progress on Tues...: index out of range in self\n",
      "Skipped text at index 489 due to generation error.\n",
      "Total texts: 45792\n",
      "Total labels: 45792\n"
     ]
    },
    {
     "data": {
      "text/html": [
       "<div>\n",
       "<style scoped>\n",
       "    .dataframe tbody tr th:only-of-type {\n",
       "        vertical-align: middle;\n",
       "    }\n",
       "\n",
       "    .dataframe tbody tr th {\n",
       "        vertical-align: top;\n",
       "    }\n",
       "\n",
       "    .dataframe thead th {\n",
       "        text-align: right;\n",
       "    }\n",
       "</style>\n",
       "<table border=\"1\" class=\"dataframe\">\n",
       "  <thead>\n",
       "    <tr style=\"text-align: right;\">\n",
       "      <th></th>\n",
       "      <th>text</th>\n",
       "      <th>label</th>\n",
       "    </tr>\n",
       "  </thead>\n",
       "  <tbody>\n",
       "    <tr>\n",
       "      <th>0</th>\n",
       "      <td>WASHINGTON (Reuters) - The head of a conservat...</td>\n",
       "      <td>1</td>\n",
       "    </tr>\n",
       "    <tr>\n",
       "      <th>1</th>\n",
       "      <td>WASHINGTON (Reuters) - Transgender people will...</td>\n",
       "      <td>1</td>\n",
       "    </tr>\n",
       "    <tr>\n",
       "      <th>2</th>\n",
       "      <td>WASHINGTON (Reuters) - The special counsel inv...</td>\n",
       "      <td>1</td>\n",
       "    </tr>\n",
       "    <tr>\n",
       "      <th>3</th>\n",
       "      <td>WASHINGTON (Reuters) - Trump campaign adviser ...</td>\n",
       "      <td>1</td>\n",
       "    </tr>\n",
       "    <tr>\n",
       "      <th>4</th>\n",
       "      <td>SEATTLE/WASHINGTON (Reuters) - President Donal...</td>\n",
       "      <td>1</td>\n",
       "    </tr>\n",
       "  </tbody>\n",
       "</table>\n",
       "</div>"
      ],
      "text/plain": [
       "                                                text  label\n",
       "0  WASHINGTON (Reuters) - The head of a conservat...      1\n",
       "1  WASHINGTON (Reuters) - Transgender people will...      1\n",
       "2  WASHINGTON (Reuters) - The special counsel inv...      1\n",
       "3  WASHINGTON (Reuters) - Trump campaign adviser ...      1\n",
       "4  SEATTLE/WASHINGTON (Reuters) - President Donal...      1"
      ]
     },
     "metadata": {},
     "output_type": "display_data"
    }
   ],
   "source": [
    "import os\n",
    "import pandas as pd\n",
    "import torch\n",
    "from torch.utils.data import Dataset, DataLoader\n",
    "from transformers import GPT2Tokenizer, GPT2LMHeadModel\n",
    "from concurrent.futures import ThreadPoolExecutor, as_completed\n",
    "from IPython.display import display\n",
    "\n",
    "# Set CUDA_LAUNCH_BLOCKING for better error messages\n",
    "os.environ[\"CUDA_LAUNCH_BLOCKING\"] = \"1\"\n",
    "\n",
    "class TextDataset(Dataset):\n",
    "    def __init__(self, texts, tokenizer, max_length):\n",
    "        self.texts = texts\n",
    "        self.tokenizer = tokenizer\n",
    "        self.max_length = max_length\n",
    "\n",
    "    def __len__(self):\n",
    "        return len(self.texts)\n",
    "\n",
    "    def __getitem__(self, idx):\n",
    "        text = self.texts[idx]\n",
    "        encoding = self.tokenizer.encode_plus(\n",
    "            text,\n",
    "            add_special_tokens=True,\n",
    "            max_length=self.max_length,\n",
    "            return_token_type_ids=False,\n",
    "            padding='max_length',\n",
    "            truncation=True,\n",
    "            return_attention_mask=True,\n",
    "            return_tensors='pt',\n",
    "        )\n",
    "        return {\n",
    "            'input_ids': encoding['input_ids'].flatten(),\n",
    "            'attention_mask': encoding['attention_mask'].flatten()\n",
    "        }\n",
    "\n",
    "def load_datasets(true_path, fake_path):\n",
    "    true_df = pd.read_csv(true_path)\n",
    "    fake_df = pd.read_csv(fake_path)\n",
    "    true_texts = true_df['text'].tolist()\n",
    "    fake_texts = fake_df['text'].tolist()\n",
    "    texts = true_texts + fake_texts\n",
    "    labels = [1] * len(true_texts) + [0] * len(fake_texts)\n",
    "    return texts, labels\n",
    "\n",
    "def create_dataloader(texts, tokenizer, max_length, batch_size):\n",
    "    dataset = TextDataset(texts, tokenizer, max_length)\n",
    "    return DataLoader(dataset, batch_size=batch_size, shuffle=True)\n",
    "\n",
    "def generate_text_gpt2(model, tokenizer, prompt, max_new_tokens=50):\n",
    "    try:\n",
    "        inputs = tokenizer.encode(prompt, return_tensors='pt', add_special_tokens=True, max_length=1024, truncation=True)\n",
    "        attention_mask = torch.ones(inputs.shape)\n",
    "        \n",
    "        # Check tensor dimensions and values before moving to device\n",
    "        if inputs.shape[1] > 1024:\n",
    "            raise ValueError(f\"Input sequence length exceeds the maximum length of 1024 tokens: {inputs.shape[1]}\")\n",
    "        \n",
    "        inputs = inputs.to(device)\n",
    "        attention_mask = attention_mask.to(device)\n",
    "        \n",
    "        outputs = model.generate(inputs, attention_mask=attention_mask, max_new_tokens=max_new_tokens, num_return_sequences=1, pad_token_id=tokenizer.eos_token_id)\n",
    "        return tokenizer.decode(outputs[0], skip_special_tokens=True)\n",
    "    except Exception as e:\n",
    "        print(f\"Error generating text for input: {prompt[:50]}...: {e}\")\n",
    "        return None\n",
    "\n",
    "def generate_and_add_texts_to_dataset(model, tokenizer, texts, labels, label, max_new_tokens=50, subset_size=100):\n",
    "    new_texts = []\n",
    "    with ThreadPoolExecutor() as executor:\n",
    "        futures = [\n",
    "            executor.submit(generate_text_gpt2, model, tokenizer, text, max_new_tokens)\n",
    "            for text in texts[:subset_size]\n",
    "        ]\n",
    "        for idx, future in enumerate(as_completed(futures)):\n",
    "            try:\n",
    "                generated_text = future.result()\n",
    "                if generated_text:\n",
    "                    new_texts.append(generated_text)\n",
    "                    labels.append(label)\n",
    "                else:\n",
    "                    print(f\"Skipped text at index {idx} due to generation error.\")\n",
    "            except Exception as e:\n",
    "                print(f\"Error processing text at index {idx}: {e}\")\n",
    "    texts.extend(new_texts)\n",
    "    return texts, labels\n",
    "\n",
    "if __name__ == \"__main__\":\n",
    "    try:\n",
    "        # Paths to the datasets\n",
    "        true_path = '/kaggle/input/fake-news-dataset/True.csv'\n",
    "        fake_path = '/kaggle/input/fake-news-dataset/Fake.csv'\n",
    "\n",
    "        # Load datasets\n",
    "        texts, labels = load_datasets(true_path, fake_path)\n",
    "\n",
    "        # Initialize tokenizer\n",
    "        tokenizer = GPT2Tokenizer.from_pretrained('gpt2')\n",
    "        max_length = 128\n",
    "\n",
    "        # Create DataLoader\n",
    "        batch_size = 16\n",
    "        dataloader = create_dataloader(texts, tokenizer, max_length, batch_size)\n",
    "\n",
    "        # Ensure using CPU for debugging\n",
    "        device = torch.device('cpu')\n",
    "        print(f\"Using device: {device}\")\n",
    "\n",
    "        # Initialize the model\n",
    "        model = GPT2LMHeadModel.from_pretrained('gpt2').to(device)\n",
    "        model.eval()\n",
    "\n",
    "        # Process a controlled subset of data\n",
    "        subset_size =  500 # Process only 100 records for faster execution\n",
    "\n",
    "        # Generate new texts based on original texts and add them to the dataset\n",
    "        texts, labels = generate_and_add_texts_to_dataset(model, tokenizer, texts, labels, label=1, max_new_tokens=50, subset_size=subset_size)\n",
    "        texts, labels = generate_and_add_texts_to_dataset(model, tokenizer, texts, labels, label=0, max_new_tokens=50, subset_size=subset_size)\n",
    "\n",
    "        # Verify the new dataset size\n",
    "        print(f\"Total texts: {len(texts)}\")\n",
    "        print(f\"Total labels: {len(labels)}\")\n",
    "\n",
    "        # Create DataLoader with updated dataset\n",
    "        dataloader = create_dataloader(texts, tokenizer, max_length, batch_size)\n",
    "\n",
    "        # Convert to DataFrame to display\n",
    "        df = pd.DataFrame({'text': texts, 'label': labels})\n",
    "        display(df.head())  # Display the first few rows of the updated dataset\n",
    "    except Exception as e:\n",
    "        print(f\"An error occurred: {e}\")\n"
   ]
  },
  {
   "cell_type": "code",
   "execution_count": null,
   "metadata": {},
   "outputs": [],
   "source": []
  },
  {
   "cell_type": "code",
   "execution_count": 27,
   "metadata": {
    "execution": {
     "iopub.execute_input": "2024-05-30T11:31:39.423620Z",
     "iopub.status.busy": "2024-05-30T11:31:39.423221Z",
     "iopub.status.idle": "2024-05-30T11:31:39.435116Z",
     "shell.execute_reply": "2024-05-30T11:31:39.433820Z",
     "shell.execute_reply.started": "2024-05-30T11:31:39.423587Z"
    }
   },
   "outputs": [
    {
     "data": {
      "text/html": [
       "<div>\n",
       "<style scoped>\n",
       "    .dataframe tbody tr th:only-of-type {\n",
       "        vertical-align: middle;\n",
       "    }\n",
       "\n",
       "    .dataframe tbody tr th {\n",
       "        vertical-align: top;\n",
       "    }\n",
       "\n",
       "    .dataframe thead th {\n",
       "        text-align: right;\n",
       "    }\n",
       "</style>\n",
       "<table border=\"1\" class=\"dataframe\">\n",
       "  <thead>\n",
       "    <tr style=\"text-align: right;\">\n",
       "      <th></th>\n",
       "      <th>text</th>\n",
       "      <th>label</th>\n",
       "    </tr>\n",
       "  </thead>\n",
       "  <tbody>\n",
       "    <tr>\n",
       "      <th>0</th>\n",
       "      <td>WASHINGTON (Reuters) - The head of a conservat...</td>\n",
       "      <td>1</td>\n",
       "    </tr>\n",
       "    <tr>\n",
       "      <th>1</th>\n",
       "      <td>WASHINGTON (Reuters) - Transgender people will...</td>\n",
       "      <td>1</td>\n",
       "    </tr>\n",
       "    <tr>\n",
       "      <th>2</th>\n",
       "      <td>WASHINGTON (Reuters) - The special counsel inv...</td>\n",
       "      <td>1</td>\n",
       "    </tr>\n",
       "    <tr>\n",
       "      <th>3</th>\n",
       "      <td>WASHINGTON (Reuters) - Trump campaign adviser ...</td>\n",
       "      <td>1</td>\n",
       "    </tr>\n",
       "    <tr>\n",
       "      <th>4</th>\n",
       "      <td>SEATTLE/WASHINGTON (Reuters) - President Donal...</td>\n",
       "      <td>1</td>\n",
       "    </tr>\n",
       "  </tbody>\n",
       "</table>\n",
       "</div>"
      ],
      "text/plain": [
       "                                                text  label\n",
       "0  WASHINGTON (Reuters) - The head of a conservat...      1\n",
       "1  WASHINGTON (Reuters) - Transgender people will...      1\n",
       "2  WASHINGTON (Reuters) - The special counsel inv...      1\n",
       "3  WASHINGTON (Reuters) - Trump campaign adviser ...      1\n",
       "4  SEATTLE/WASHINGTON (Reuters) - President Donal...      1"
      ]
     },
     "execution_count": 27,
     "metadata": {},
     "output_type": "execute_result"
    }
   ],
   "source": [
    "# newly generated data\n",
    "df.head()"
   ]
  },
  {
   "cell_type": "code",
   "execution_count": 29,
   "metadata": {
    "execution": {
     "iopub.execute_input": "2024-05-30T11:44:32.599862Z",
     "iopub.status.busy": "2024-05-30T11:44:32.599361Z",
     "iopub.status.idle": "2024-05-30T11:44:54.424055Z",
     "shell.execute_reply": "2024-05-30T11:44:54.423171Z",
     "shell.execute_reply.started": "2024-05-30T11:44:32.599824Z"
    }
   },
   "outputs": [],
   "source": [
    "import pandas as pd\n",
    "from sklearn.model_selection import train_test_split\n",
    "from sklearn.feature_extraction.text import TfidfVectorizer\n",
    "from sklearn.preprocessing import LabelEncoder\n",
    "\n",
    "# Drop blank rows if any\n",
    "df.dropna(inplace=True)\n",
    "\n",
    "# Feature extraction using TF-IDF\n",
    "vectorizer = TfidfVectorizer(max_features=5000)\n",
    "X = vectorizer.fit_transform(df['text']).toarray()\n",
    "\n",
    "# Encode labels\n",
    "encoder = LabelEncoder()\n",
    "y = encoder.fit_transform(df['label'])\n",
    "\n",
    "# Split data into training and testing sets\n",
    "X_train, X_test, y_train, y_test = train_test_split(X, y, test_size=0.2, random_state=42)"
   ]
  },
  {
   "cell_type": "code",
   "execution_count": 31,
   "metadata": {
    "execution": {
     "iopub.execute_input": "2024-05-30T11:44:59.470768Z",
     "iopub.status.busy": "2024-05-30T11:44:59.470377Z",
     "iopub.status.idle": "2024-05-30T11:51:26.924915Z",
     "shell.execute_reply": "2024-05-30T11:51:26.923764Z",
     "shell.execute_reply.started": "2024-05-30T11:44:59.470717Z"
    }
   },
   "outputs": [
    {
     "name": "stdout",
     "output_type": "stream",
     "text": [
      "AdaBoost Classification Report:\n",
      "               precision    recall  f1-score   support\n",
      "\n",
      "           0       0.99      0.98      0.98      4798\n",
      "           1       0.98      0.99      0.98      4361\n",
      "\n",
      "    accuracy                           0.98      9159\n",
      "   macro avg       0.98      0.98      0.98      9159\n",
      "weighted avg       0.98      0.98      0.98      9159\n",
      "\n"
     ]
    }
   ],
   "source": [
    "# adaboost\n",
    "from sklearn.ensemble import AdaBoostClassifier\n",
    "from sklearn.metrics import classification_report\n",
    "\n",
    "# Initialize and train AdaBoost classifier\n",
    "ada = AdaBoostClassifier(n_estimators=100)\n",
    "ada.fit(X_train, y_train)\n",
    "\n",
    "# Predictions and evaluation\n",
    "y_pred = ada.predict(X_test)\n",
    "print(\"AdaBoost Classification Report:\\n\", classification_report(y_test, y_pred))\n"
   ]
  },
  {
   "cell_type": "code",
   "execution_count": 35,
   "metadata": {
    "execution": {
     "iopub.execute_input": "2024-05-30T11:54:06.473644Z",
     "iopub.status.busy": "2024-05-30T11:54:06.472873Z",
     "iopub.status.idle": "2024-05-30T12:08:15.732459Z",
     "shell.execute_reply": "2024-05-30T12:08:15.731319Z",
     "shell.execute_reply.started": "2024-05-30T11:54:06.473603Z"
    }
   },
   "outputs": [
    {
     "name": "stdout",
     "output_type": "stream",
     "text": [
      "GBM Classification Report:\n",
      "               precision    recall  f1-score   support\n",
      "\n",
      "           0       0.99      0.98      0.98      4798\n",
      "           1       0.97      0.99      0.98      4361\n",
      "\n",
      "    accuracy                           0.98      9159\n",
      "   macro avg       0.98      0.98      0.98      9159\n",
      "weighted avg       0.98      0.98      0.98      9159\n",
      "\n"
     ]
    }
   ],
   "source": [
    "# GBM\n",
    "from sklearn.ensemble import GradientBoostingClassifier\n",
    "\n",
    "# Initialize and train GBM classifier\n",
    "gbm = GradientBoostingClassifier(n_estimators=100)\n",
    "gbm.fit(X_train, y_train)\n",
    "\n",
    "# Predictions and evaluation\n",
    "y_pred = gbm.predict(X_test)\n",
    "print(\"GBM Classification Report:\\n\", classification_report(y_test, y_pred))\n"
   ]
  },
  {
   "cell_type": "code",
   "execution_count": 36,
   "metadata": {
    "execution": {
     "iopub.execute_input": "2024-05-30T12:08:15.734596Z",
     "iopub.status.busy": "2024-05-30T12:08:15.734251Z",
     "iopub.status.idle": "2024-05-30T12:10:30.837909Z",
     "shell.execute_reply": "2024-05-30T12:10:30.836873Z",
     "shell.execute_reply.started": "2024-05-30T12:08:15.734566Z"
    }
   },
   "outputs": [
    {
     "name": "stdout",
     "output_type": "stream",
     "text": [
      "XGBoost Classification Report:\n",
      "               precision    recall  f1-score   support\n",
      "\n",
      "           0       0.98      0.98      0.98      4798\n",
      "           1       0.98      0.98      0.98      4361\n",
      "\n",
      "    accuracy                           0.98      9159\n",
      "   macro avg       0.98      0.98      0.98      9159\n",
      "weighted avg       0.98      0.98      0.98      9159\n",
      "\n"
     ]
    }
   ],
   "source": [
    "# XGBM\n",
    "import xgboost as xgb\n",
    "\n",
    "# Initialize and train XGBoost classifier\n",
    "xgb_model = xgb.XGBClassifier(n_estimators=100)\n",
    "xgb_model.fit(X_train, y_train)\n",
    "\n",
    "# Predictions and evaluation\n",
    "y_pred = xgb_model.predict(X_test)\n",
    "print(\"XGBoost Classification Report:\\n\", classification_report(y_test, y_pred))\n"
   ]
  },
  {
   "cell_type": "code",
   "execution_count": 38,
   "metadata": {
    "execution": {
     "iopub.execute_input": "2024-05-30T12:10:30.846716Z",
     "iopub.status.busy": "2024-05-30T12:10:30.846367Z",
     "iopub.status.idle": "2024-05-30T12:11:39.069615Z",
     "shell.execute_reply": "2024-05-30T12:11:39.068665Z",
     "shell.execute_reply.started": "2024-05-30T12:10:30.846690Z"
    }
   },
   "outputs": [
    {
     "name": "stderr",
     "output_type": "stream",
     "text": [
      "2024-05-30 12:10:33.042788: E external/local_xla/xla/stream_executor/cuda/cuda_dnn.cc:9261] Unable to register cuDNN factory: Attempting to register factory for plugin cuDNN when one has already been registered\n",
      "2024-05-30 12:10:33.042891: E external/local_xla/xla/stream_executor/cuda/cuda_fft.cc:607] Unable to register cuFFT factory: Attempting to register factory for plugin cuFFT when one has already been registered\n",
      "2024-05-30 12:10:33.190491: E external/local_xla/xla/stream_executor/cuda/cuda_blas.cc:1515] Unable to register cuBLAS factory: Attempting to register factory for plugin cuBLAS when one has already been registered\n",
      "/opt/conda/lib/python3.10/site-packages/keras/src/layers/core/embedding.py:86: UserWarning: Argument `input_length` is deprecated. Just remove it.\n",
      "  warnings.warn(\n"
     ]
    },
    {
     "data": {
      "text/html": [
       "<pre style=\"white-space:pre;overflow-x:auto;line-height:normal;font-family:Menlo,'DejaVu Sans Mono',consolas,'Courier New',monospace\"><span style=\"font-weight: bold\">Model: \"sequential\"</span>\n",
       "</pre>\n"
      ],
      "text/plain": [
       "\u001b[1mModel: \"sequential\"\u001b[0m\n"
      ]
     },
     "metadata": {},
     "output_type": "display_data"
    },
    {
     "data": {
      "text/html": [
       "<pre style=\"white-space:pre;overflow-x:auto;line-height:normal;font-family:Menlo,'DejaVu Sans Mono',consolas,'Courier New',monospace\">┏━━━━━━━━━━━━━━━━━━━━━━━━━━━━━━━━━┳━━━━━━━━━━━━━━━━━━━━━━━━┳━━━━━━━━━━━━━━━┓\n",
       "┃<span style=\"font-weight: bold\"> Layer (type)                    </span>┃<span style=\"font-weight: bold\"> Output Shape           </span>┃<span style=\"font-weight: bold\">       Param # </span>┃\n",
       "┡━━━━━━━━━━━━━━━━━━━━━━━━━━━━━━━━━╇━━━━━━━━━━━━━━━━━━━━━━━━╇━━━━━━━━━━━━━━━┩\n",
       "│ embedding (<span style=\"color: #0087ff; text-decoration-color: #0087ff\">Embedding</span>)           │ ?                      │   <span style=\"color: #00af00; text-decoration-color: #00af00\">0</span> (unbuilt) │\n",
       "├─────────────────────────────────┼────────────────────────┼───────────────┤\n",
       "│ conv1d (<span style=\"color: #0087ff; text-decoration-color: #0087ff\">Conv1D</span>)                 │ ?                      │   <span style=\"color: #00af00; text-decoration-color: #00af00\">0</span> (unbuilt) │\n",
       "├─────────────────────────────────┼────────────────────────┼───────────────┤\n",
       "│ max_pooling1d (<span style=\"color: #0087ff; text-decoration-color: #0087ff\">MaxPooling1D</span>)    │ ?                      │   <span style=\"color: #00af00; text-decoration-color: #00af00\">0</span> (unbuilt) │\n",
       "├─────────────────────────────────┼────────────────────────┼───────────────┤\n",
       "│ flatten (<span style=\"color: #0087ff; text-decoration-color: #0087ff\">Flatten</span>)               │ ?                      │   <span style=\"color: #00af00; text-decoration-color: #00af00\">0</span> (unbuilt) │\n",
       "├─────────────────────────────────┼────────────────────────┼───────────────┤\n",
       "│ dense (<span style=\"color: #0087ff; text-decoration-color: #0087ff\">Dense</span>)                   │ ?                      │   <span style=\"color: #00af00; text-decoration-color: #00af00\">0</span> (unbuilt) │\n",
       "├─────────────────────────────────┼────────────────────────┼───────────────┤\n",
       "│ dense_1 (<span style=\"color: #0087ff; text-decoration-color: #0087ff\">Dense</span>)                 │ ?                      │   <span style=\"color: #00af00; text-decoration-color: #00af00\">0</span> (unbuilt) │\n",
       "└─────────────────────────────────┴────────────────────────┴───────────────┘\n",
       "</pre>\n"
      ],
      "text/plain": [
       "┏━━━━━━━━━━━━━━━━━━━━━━━━━━━━━━━━━┳━━━━━━━━━━━━━━━━━━━━━━━━┳━━━━━━━━━━━━━━━┓\n",
       "┃\u001b[1m \u001b[0m\u001b[1mLayer (type)                   \u001b[0m\u001b[1m \u001b[0m┃\u001b[1m \u001b[0m\u001b[1mOutput Shape          \u001b[0m\u001b[1m \u001b[0m┃\u001b[1m \u001b[0m\u001b[1m      Param #\u001b[0m\u001b[1m \u001b[0m┃\n",
       "┡━━━━━━━━━━━━━━━━━━━━━━━━━━━━━━━━━╇━━━━━━━━━━━━━━━━━━━━━━━━╇━━━━━━━━━━━━━━━┩\n",
       "│ embedding (\u001b[38;5;33mEmbedding\u001b[0m)           │ ?                      │   \u001b[38;5;34m0\u001b[0m (unbuilt) │\n",
       "├─────────────────────────────────┼────────────────────────┼───────────────┤\n",
       "│ conv1d (\u001b[38;5;33mConv1D\u001b[0m)                 │ ?                      │   \u001b[38;5;34m0\u001b[0m (unbuilt) │\n",
       "├─────────────────────────────────┼────────────────────────┼───────────────┤\n",
       "│ max_pooling1d (\u001b[38;5;33mMaxPooling1D\u001b[0m)    │ ?                      │   \u001b[38;5;34m0\u001b[0m (unbuilt) │\n",
       "├─────────────────────────────────┼────────────────────────┼───────────────┤\n",
       "│ flatten (\u001b[38;5;33mFlatten\u001b[0m)               │ ?                      │   \u001b[38;5;34m0\u001b[0m (unbuilt) │\n",
       "├─────────────────────────────────┼────────────────────────┼───────────────┤\n",
       "│ dense (\u001b[38;5;33mDense\u001b[0m)                   │ ?                      │   \u001b[38;5;34m0\u001b[0m (unbuilt) │\n",
       "├─────────────────────────────────┼────────────────────────┼───────────────┤\n",
       "│ dense_1 (\u001b[38;5;33mDense\u001b[0m)                 │ ?                      │   \u001b[38;5;34m0\u001b[0m (unbuilt) │\n",
       "└─────────────────────────────────┴────────────────────────┴───────────────┘\n"
      ]
     },
     "metadata": {},
     "output_type": "display_data"
    },
    {
     "data": {
      "text/html": [
       "<pre style=\"white-space:pre;overflow-x:auto;line-height:normal;font-family:Menlo,'DejaVu Sans Mono',consolas,'Courier New',monospace\"><span style=\"font-weight: bold\"> Total params: </span><span style=\"color: #00af00; text-decoration-color: #00af00\">0</span> (0.00 B)\n",
       "</pre>\n"
      ],
      "text/plain": [
       "\u001b[1m Total params: \u001b[0m\u001b[38;5;34m0\u001b[0m (0.00 B)\n"
      ]
     },
     "metadata": {},
     "output_type": "display_data"
    },
    {
     "data": {
      "text/html": [
       "<pre style=\"white-space:pre;overflow-x:auto;line-height:normal;font-family:Menlo,'DejaVu Sans Mono',consolas,'Courier New',monospace\"><span style=\"font-weight: bold\"> Trainable params: </span><span style=\"color: #00af00; text-decoration-color: #00af00\">0</span> (0.00 B)\n",
       "</pre>\n"
      ],
      "text/plain": [
       "\u001b[1m Trainable params: \u001b[0m\u001b[38;5;34m0\u001b[0m (0.00 B)\n"
      ]
     },
     "metadata": {},
     "output_type": "display_data"
    },
    {
     "data": {
      "text/html": [
       "<pre style=\"white-space:pre;overflow-x:auto;line-height:normal;font-family:Menlo,'DejaVu Sans Mono',consolas,'Courier New',monospace\"><span style=\"font-weight: bold\"> Non-trainable params: </span><span style=\"color: #00af00; text-decoration-color: #00af00\">0</span> (0.00 B)\n",
       "</pre>\n"
      ],
      "text/plain": [
       "\u001b[1m Non-trainable params: \u001b[0m\u001b[38;5;34m0\u001b[0m (0.00 B)\n"
      ]
     },
     "metadata": {},
     "output_type": "display_data"
    },
    {
     "name": "stdout",
     "output_type": "stream",
     "text": [
      "Epoch 1/5\n",
      "\u001b[1m 56/916\u001b[0m \u001b[32m━\u001b[0m\u001b[37m━━━━━━━━━━━━━━━━━━━\u001b[0m \u001b[1m2s\u001b[0m 3ms/step - accuracy: 0.5875 - loss: 0.6319"
     ]
    },
    {
     "name": "stderr",
     "output_type": "stream",
     "text": [
      "WARNING: All log messages before absl::InitializeLog() is called are written to STDERR\n",
      "I0000 00:00:1717071079.303440     801 device_compiler.h:186] Compiled cluster using XLA!  This line is logged at most once for the lifetime of the process.\n"
     ]
    },
    {
     "name": "stdout",
     "output_type": "stream",
     "text": [
      "\u001b[1m916/916\u001b[0m \u001b[32m━━━━━━━━━━━━━━━━━━━━\u001b[0m\u001b[37m\u001b[0m \u001b[1m10s\u001b[0m 6ms/step - accuracy: 0.8985 - loss: 0.2080 - val_accuracy: 0.9707 - val_loss: 0.0896\n",
      "Epoch 2/5\n",
      "\u001b[1m916/916\u001b[0m \u001b[32m━━━━━━━━━━━━━━━━━━━━\u001b[0m\u001b[37m\u001b[0m \u001b[1m5s\u001b[0m 3ms/step - accuracy: 0.9824 - loss: 0.0576 - val_accuracy: 0.9752 - val_loss: 0.0854\n",
      "Epoch 3/5\n",
      "\u001b[1m916/916\u001b[0m \u001b[32m━━━━━━━━━━━━━━━━━━━━\u001b[0m\u001b[37m\u001b[0m \u001b[1m3s\u001b[0m 3ms/step - accuracy: 0.9852 - loss: 0.0409 - val_accuracy: 0.9741 - val_loss: 0.0915\n",
      "Epoch 4/5\n",
      "\u001b[1m916/916\u001b[0m \u001b[32m━━━━━━━━━━━━━━━━━━━━\u001b[0m\u001b[37m\u001b[0m \u001b[1m3s\u001b[0m 3ms/step - accuracy: 0.9897 - loss: 0.0205 - val_accuracy: 0.9728 - val_loss: 0.1294\n",
      "Epoch 5/5\n",
      "\u001b[1m916/916\u001b[0m \u001b[32m━━━━━━━━━━━━━━━━━━━━\u001b[0m\u001b[37m\u001b[0m \u001b[1m3s\u001b[0m 3ms/step - accuracy: 0.9896 - loss: 0.0198 - val_accuracy: 0.9683 - val_loss: 0.1473\n",
      "\u001b[1m287/287\u001b[0m \u001b[32m━━━━━━━━━━━━━━━━━━━━\u001b[0m\u001b[37m\u001b[0m \u001b[1m1s\u001b[0m 4ms/step - accuracy: 0.9666 - loss: 0.1581\n",
      "4-Layer CNN Accuracy: 0.9665902256965637\n"
     ]
    }
   ],
   "source": [
    "# CNN 4 layers\n",
    "import numpy as np\n",
    "import tensorflow as tf\n",
    "from tensorflow.keras.preprocessing.text import Tokenizer\n",
    "from tensorflow.keras.preprocessing.sequence import pad_sequences\n",
    "from tensorflow.keras.models import Sequential\n",
    "from tensorflow.keras.layers import Embedding, Conv1D, MaxPooling1D, Flatten, Dense, Dropout\n",
    "\n",
    "# Tokenizing and padding sequences\n",
    "tokenizer = Tokenizer(num_words=5000)\n",
    "tokenizer.fit_on_texts(df['text'])\n",
    "X_seq = tokenizer.texts_to_sequences(df['text'])\n",
    "X_pad = pad_sequences(X_seq, maxlen=100)\n",
    "\n",
    "# Train-test split for CNN\n",
    "X_train, X_test, y_train, y_test = train_test_split(X_pad, y, test_size=0.2, random_state=42)\n",
    "\n",
    "# Build 4-layer CNN model\n",
    "model_4 = Sequential([\n",
    "    Embedding(input_dim=5000, output_dim=128, input_length=100),\n",
    "    Conv1D(128, 5, activation='relu'),\n",
    "    MaxPooling1D(pool_size=2),\n",
    "    Flatten(),\n",
    "    Dense(128, activation='relu'),\n",
    "    Dense(1, activation='sigmoid')\n",
    "])\n",
    "\n",
    "model_4.compile(optimizer='adam', loss='binary_crossentropy', metrics=['accuracy'])\n",
    "model_4.summary()\n",
    "\n",
    "# Train the model\n",
    "model_4.fit(X_train, y_train, epochs=5, batch_size=32, validation_split=0.2)\n",
    "\n",
    "# Evaluate the model\n",
    "loss, accuracy = model_4.evaluate(X_test, y_test)\n",
    "print(f'4-Layer CNN Accuracy: {accuracy}')\n"
   ]
  },
  {
   "cell_type": "code",
   "execution_count": 39,
   "metadata": {
    "execution": {
     "iopub.execute_input": "2024-05-30T12:11:39.071252Z",
     "iopub.status.busy": "2024-05-30T12:11:39.070925Z",
     "iopub.status.idle": "2024-05-30T12:12:05.874179Z",
     "shell.execute_reply": "2024-05-30T12:12:05.873234Z",
     "shell.execute_reply.started": "2024-05-30T12:11:39.071225Z"
    }
   },
   "outputs": [
    {
     "data": {
      "text/html": [
       "<pre style=\"white-space:pre;overflow-x:auto;line-height:normal;font-family:Menlo,'DejaVu Sans Mono',consolas,'Courier New',monospace\"><span style=\"font-weight: bold\">Model: \"sequential_1\"</span>\n",
       "</pre>\n"
      ],
      "text/plain": [
       "\u001b[1mModel: \"sequential_1\"\u001b[0m\n"
      ]
     },
     "metadata": {},
     "output_type": "display_data"
    },
    {
     "data": {
      "text/html": [
       "<pre style=\"white-space:pre;overflow-x:auto;line-height:normal;font-family:Menlo,'DejaVu Sans Mono',consolas,'Courier New',monospace\">┏━━━━━━━━━━━━━━━━━━━━━━━━━━━━━━━━━┳━━━━━━━━━━━━━━━━━━━━━━━━┳━━━━━━━━━━━━━━━┓\n",
       "┃<span style=\"font-weight: bold\"> Layer (type)                    </span>┃<span style=\"font-weight: bold\"> Output Shape           </span>┃<span style=\"font-weight: bold\">       Param # </span>┃\n",
       "┡━━━━━━━━━━━━━━━━━━━━━━━━━━━━━━━━━╇━━━━━━━━━━━━━━━━━━━━━━━━╇━━━━━━━━━━━━━━━┩\n",
       "│ embedding_1 (<span style=\"color: #0087ff; text-decoration-color: #0087ff\">Embedding</span>)         │ ?                      │   <span style=\"color: #00af00; text-decoration-color: #00af00\">0</span> (unbuilt) │\n",
       "├─────────────────────────────────┼────────────────────────┼───────────────┤\n",
       "│ conv1d_1 (<span style=\"color: #0087ff; text-decoration-color: #0087ff\">Conv1D</span>)               │ ?                      │   <span style=\"color: #00af00; text-decoration-color: #00af00\">0</span> (unbuilt) │\n",
       "├─────────────────────────────────┼────────────────────────┼───────────────┤\n",
       "│ max_pooling1d_1 (<span style=\"color: #0087ff; text-decoration-color: #0087ff\">MaxPooling1D</span>)  │ ?                      │   <span style=\"color: #00af00; text-decoration-color: #00af00\">0</span> (unbuilt) │\n",
       "├─────────────────────────────────┼────────────────────────┼───────────────┤\n",
       "│ conv1d_2 (<span style=\"color: #0087ff; text-decoration-color: #0087ff\">Conv1D</span>)               │ ?                      │   <span style=\"color: #00af00; text-decoration-color: #00af00\">0</span> (unbuilt) │\n",
       "├─────────────────────────────────┼────────────────────────┼───────────────┤\n",
       "│ max_pooling1d_2 (<span style=\"color: #0087ff; text-decoration-color: #0087ff\">MaxPooling1D</span>)  │ ?                      │   <span style=\"color: #00af00; text-decoration-color: #00af00\">0</span> (unbuilt) │\n",
       "├─────────────────────────────────┼────────────────────────┼───────────────┤\n",
       "│ flatten_1 (<span style=\"color: #0087ff; text-decoration-color: #0087ff\">Flatten</span>)             │ ?                      │   <span style=\"color: #00af00; text-decoration-color: #00af00\">0</span> (unbuilt) │\n",
       "├─────────────────────────────────┼────────────────────────┼───────────────┤\n",
       "│ dense_2 (<span style=\"color: #0087ff; text-decoration-color: #0087ff\">Dense</span>)                 │ ?                      │   <span style=\"color: #00af00; text-decoration-color: #00af00\">0</span> (unbuilt) │\n",
       "├─────────────────────────────────┼────────────────────────┼───────────────┤\n",
       "│ dropout (<span style=\"color: #0087ff; text-decoration-color: #0087ff\">Dropout</span>)               │ ?                      │             <span style=\"color: #00af00; text-decoration-color: #00af00\">0</span> │\n",
       "├─────────────────────────────────┼────────────────────────┼───────────────┤\n",
       "│ dense_3 (<span style=\"color: #0087ff; text-decoration-color: #0087ff\">Dense</span>)                 │ ?                      │   <span style=\"color: #00af00; text-decoration-color: #00af00\">0</span> (unbuilt) │\n",
       "├─────────────────────────────────┼────────────────────────┼───────────────┤\n",
       "│ dense_4 (<span style=\"color: #0087ff; text-decoration-color: #0087ff\">Dense</span>)                 │ ?                      │   <span style=\"color: #00af00; text-decoration-color: #00af00\">0</span> (unbuilt) │\n",
       "└─────────────────────────────────┴────────────────────────┴───────────────┘\n",
       "</pre>\n"
      ],
      "text/plain": [
       "┏━━━━━━━━━━━━━━━━━━━━━━━━━━━━━━━━━┳━━━━━━━━━━━━━━━━━━━━━━━━┳━━━━━━━━━━━━━━━┓\n",
       "┃\u001b[1m \u001b[0m\u001b[1mLayer (type)                   \u001b[0m\u001b[1m \u001b[0m┃\u001b[1m \u001b[0m\u001b[1mOutput Shape          \u001b[0m\u001b[1m \u001b[0m┃\u001b[1m \u001b[0m\u001b[1m      Param #\u001b[0m\u001b[1m \u001b[0m┃\n",
       "┡━━━━━━━━━━━━━━━━━━━━━━━━━━━━━━━━━╇━━━━━━━━━━━━━━━━━━━━━━━━╇━━━━━━━━━━━━━━━┩\n",
       "│ embedding_1 (\u001b[38;5;33mEmbedding\u001b[0m)         │ ?                      │   \u001b[38;5;34m0\u001b[0m (unbuilt) │\n",
       "├─────────────────────────────────┼────────────────────────┼───────────────┤\n",
       "│ conv1d_1 (\u001b[38;5;33mConv1D\u001b[0m)               │ ?                      │   \u001b[38;5;34m0\u001b[0m (unbuilt) │\n",
       "├─────────────────────────────────┼────────────────────────┼───────────────┤\n",
       "│ max_pooling1d_1 (\u001b[38;5;33mMaxPooling1D\u001b[0m)  │ ?                      │   \u001b[38;5;34m0\u001b[0m (unbuilt) │\n",
       "├─────────────────────────────────┼────────────────────────┼───────────────┤\n",
       "│ conv1d_2 (\u001b[38;5;33mConv1D\u001b[0m)               │ ?                      │   \u001b[38;5;34m0\u001b[0m (unbuilt) │\n",
       "├─────────────────────────────────┼────────────────────────┼───────────────┤\n",
       "│ max_pooling1d_2 (\u001b[38;5;33mMaxPooling1D\u001b[0m)  │ ?                      │   \u001b[38;5;34m0\u001b[0m (unbuilt) │\n",
       "├─────────────────────────────────┼────────────────────────┼───────────────┤\n",
       "│ flatten_1 (\u001b[38;5;33mFlatten\u001b[0m)             │ ?                      │   \u001b[38;5;34m0\u001b[0m (unbuilt) │\n",
       "├─────────────────────────────────┼────────────────────────┼───────────────┤\n",
       "│ dense_2 (\u001b[38;5;33mDense\u001b[0m)                 │ ?                      │   \u001b[38;5;34m0\u001b[0m (unbuilt) │\n",
       "├─────────────────────────────────┼────────────────────────┼───────────────┤\n",
       "│ dropout (\u001b[38;5;33mDropout\u001b[0m)               │ ?                      │             \u001b[38;5;34m0\u001b[0m │\n",
       "├─────────────────────────────────┼────────────────────────┼───────────────┤\n",
       "│ dense_3 (\u001b[38;5;33mDense\u001b[0m)                 │ ?                      │   \u001b[38;5;34m0\u001b[0m (unbuilt) │\n",
       "├─────────────────────────────────┼────────────────────────┼───────────────┤\n",
       "│ dense_4 (\u001b[38;5;33mDense\u001b[0m)                 │ ?                      │   \u001b[38;5;34m0\u001b[0m (unbuilt) │\n",
       "└─────────────────────────────────┴────────────────────────┴───────────────┘\n"
      ]
     },
     "metadata": {},
     "output_type": "display_data"
    },
    {
     "data": {
      "text/html": [
       "<pre style=\"white-space:pre;overflow-x:auto;line-height:normal;font-family:Menlo,'DejaVu Sans Mono',consolas,'Courier New',monospace\"><span style=\"font-weight: bold\"> Total params: </span><span style=\"color: #00af00; text-decoration-color: #00af00\">0</span> (0.00 B)\n",
       "</pre>\n"
      ],
      "text/plain": [
       "\u001b[1m Total params: \u001b[0m\u001b[38;5;34m0\u001b[0m (0.00 B)\n"
      ]
     },
     "metadata": {},
     "output_type": "display_data"
    },
    {
     "data": {
      "text/html": [
       "<pre style=\"white-space:pre;overflow-x:auto;line-height:normal;font-family:Menlo,'DejaVu Sans Mono',consolas,'Courier New',monospace\"><span style=\"font-weight: bold\"> Trainable params: </span><span style=\"color: #00af00; text-decoration-color: #00af00\">0</span> (0.00 B)\n",
       "</pre>\n"
      ],
      "text/plain": [
       "\u001b[1m Trainable params: \u001b[0m\u001b[38;5;34m0\u001b[0m (0.00 B)\n"
      ]
     },
     "metadata": {},
     "output_type": "display_data"
    },
    {
     "data": {
      "text/html": [
       "<pre style=\"white-space:pre;overflow-x:auto;line-height:normal;font-family:Menlo,'DejaVu Sans Mono',consolas,'Courier New',monospace\"><span style=\"font-weight: bold\"> Non-trainable params: </span><span style=\"color: #00af00; text-decoration-color: #00af00\">0</span> (0.00 B)\n",
       "</pre>\n"
      ],
      "text/plain": [
       "\u001b[1m Non-trainable params: \u001b[0m\u001b[38;5;34m0\u001b[0m (0.00 B)\n"
      ]
     },
     "metadata": {},
     "output_type": "display_data"
    },
    {
     "name": "stdout",
     "output_type": "stream",
     "text": [
      "Epoch 1/5\n",
      "\u001b[1m916/916\u001b[0m \u001b[32m━━━━━━━━━━━━━━━━━━━━\u001b[0m\u001b[37m\u001b[0m \u001b[1m12s\u001b[0m 8ms/step - accuracy: 0.8622 - loss: 0.2652 - val_accuracy: 0.9763 - val_loss: 0.0814\n",
      "Epoch 2/5\n",
      "\u001b[1m916/916\u001b[0m \u001b[32m━━━━━━━━━━━━━━━━━━━━\u001b[0m\u001b[37m\u001b[0m \u001b[1m3s\u001b[0m 4ms/step - accuracy: 0.9818 - loss: 0.0624 - val_accuracy: 0.9737 - val_loss: 0.0901\n",
      "Epoch 3/5\n",
      "\u001b[1m916/916\u001b[0m \u001b[32m━━━━━━━━━━━━━━━━━━━━\u001b[0m\u001b[37m\u001b[0m \u001b[1m3s\u001b[0m 4ms/step - accuracy: 0.9876 - loss: 0.0443 - val_accuracy: 0.9739 - val_loss: 0.0891\n",
      "Epoch 4/5\n",
      "\u001b[1m916/916\u001b[0m \u001b[32m━━━━━━━━━━━━━━━━━━━━\u001b[0m\u001b[37m\u001b[0m \u001b[1m3s\u001b[0m 4ms/step - accuracy: 0.9882 - loss: 0.0326 - val_accuracy: 0.9731 - val_loss: 0.0995\n",
      "Epoch 5/5\n",
      "\u001b[1m916/916\u001b[0m \u001b[32m━━━━━━━━━━━━━━━━━━━━\u001b[0m\u001b[37m\u001b[0m \u001b[1m3s\u001b[0m 4ms/step - accuracy: 0.9893 - loss: 0.0251 - val_accuracy: 0.9741 - val_loss: 0.1192\n",
      "\u001b[1m287/287\u001b[0m \u001b[32m━━━━━━━━━━━━━━━━━━━━\u001b[0m\u001b[37m\u001b[0m \u001b[1m1s\u001b[0m 4ms/step - accuracy: 0.9689 - loss: 0.1178\n",
      "6-Layer CNN Accuracy: 0.9694289565086365\n"
     ]
    }
   ],
   "source": [
    "# CNN 6 layers\n",
    "# Build 6-layer CNN model\n",
    "model_6 = Sequential([\n",
    "    Embedding(input_dim=5000, output_dim=128, input_length=100),\n",
    "    Conv1D(128, 5, activation='relu'),\n",
    "    MaxPooling1D(pool_size=2),\n",
    "    Conv1D(64, 5, activation='relu'),\n",
    "    MaxPooling1D(pool_size=2),\n",
    "    Flatten(),\n",
    "    Dense(128, activation='relu'),\n",
    "    Dropout(0.5),\n",
    "    Dense(64, activation='relu'),\n",
    "    Dense(1, activation='sigmoid')\n",
    "])\n",
    "\n",
    "model_6.compile(optimizer='adam', loss='binary_crossentropy', metrics=['accuracy'])\n",
    "model_6.summary()\n",
    "\n",
    "# Train the model\n",
    "model_6.fit(X_train, y_train, epochs=5, batch_size=32, validation_split=0.2)\n",
    "\n",
    "# Evaluate the model\n",
    "loss, accuracy = model_6.evaluate(X_test, y_test)\n",
    "print(f'6-Layer CNN Accuracy: {accuracy}')\n"
   ]
  },
  {
   "cell_type": "code",
   "execution_count": null,
   "metadata": {},
   "outputs": [],
   "source": []
  },
  {
   "cell_type": "code",
   "execution_count": null,
   "metadata": {},
   "outputs": [],
   "source": []
  },
  {
   "cell_type": "code",
   "execution_count": null,
   "metadata": {},
   "outputs": [],
   "source": []
  },
  {
   "cell_type": "code",
   "execution_count": null,
   "metadata": {},
   "outputs": [],
   "source": []
  },
  {
   "cell_type": "code",
   "execution_count": null,
   "metadata": {},
   "outputs": [],
   "source": []
  },
  {
   "cell_type": "code",
   "execution_count": null,
   "metadata": {},
   "outputs": [],
   "source": []
  },
  {
   "cell_type": "code",
   "execution_count": null,
   "metadata": {},
   "outputs": [],
   "source": []
  },
  {
   "cell_type": "code",
   "execution_count": null,
   "metadata": {},
   "outputs": [],
   "source": []
  },
  {
   "cell_type": "code",
   "execution_count": null,
   "metadata": {},
   "outputs": [],
   "source": []
  },
  {
   "cell_type": "code",
   "execution_count": null,
   "metadata": {},
   "outputs": [],
   "source": []
  }
 ],
 "metadata": {
  "kaggle": {
   "accelerator": "nvidiaTeslaT4",
   "dataSources": [
    {
     "datasetId": 5101245,
     "sourceId": 8539408,
     "sourceType": "datasetVersion"
    }
   ],
   "dockerImageVersionId": 30699,
   "isGpuEnabled": true,
   "isInternetEnabled": true,
   "language": "python",
   "sourceType": "notebook"
  },
  "kernelspec": {
   "display_name": "Python 3 (ipykernel)",
   "language": "python",
   "name": "python3"
  },
  "language_info": {
   "codemirror_mode": {
    "name": "ipython",
    "version": 3
   },
   "file_extension": ".py",
   "mimetype": "text/x-python",
   "name": "python",
   "nbconvert_exporter": "python",
   "pygments_lexer": "ipython3",
   "version": "3.11.5"
  }
 },
 "nbformat": 4,
 "nbformat_minor": 4
}
